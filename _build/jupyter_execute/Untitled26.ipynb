{
 "cells": [
  {
   "cell_type": "code",
   "execution_count": 1,
   "id": "b20ecff7",
   "metadata": {},
   "outputs": [],
   "source": [
    "#Set-up Python libraries - you need to run this but you don't need to change it\n",
    "import numpy as np\n",
    "import matplotlib.pyplot as plt\n",
    "import scipy.stats as stats\n",
    "import pandas \n",
    "import seaborn as sns\n",
    "sns.set_theme()"
   ]
  },
  {
   "cell_type": "markdown",
   "id": "fc891279",
   "metadata": {},
   "source": [
    "### Load data file"
   ]
  },
  {
   "cell_type": "code",
   "execution_count": 2,
   "id": "8d4a03e2",
   "metadata": {
    "collapsed": true
   },
   "outputs": [
    {
     "data": {
      "text/html": [
       "<div>\n",
       "<style scoped>\n",
       "    .dataframe tbody tr th:only-of-type {\n",
       "        vertical-align: middle;\n",
       "    }\n",
       "\n",
       "    .dataframe tbody tr th {\n",
       "        vertical-align: top;\n",
       "    }\n",
       "\n",
       "    .dataframe thead th {\n",
       "        text-align: right;\n",
       "    }\n",
       "</style>\n",
       "<table border=\"1\" class=\"dataframe\">\n",
       "  <thead>\n",
       "    <tr style=\"text-align: right;\">\n",
       "      <th></th>\n",
       "      <th>ID_code</th>\n",
       "      <th>College</th>\n",
       "      <th>Subject</th>\n",
       "      <th>Score_preVac</th>\n",
       "      <th>Score_postVac</th>\n",
       "    </tr>\n",
       "  </thead>\n",
       "  <tbody>\n",
       "    <tr>\n",
       "      <th>0</th>\n",
       "      <td>247610</td>\n",
       "      <td>Lonsdale</td>\n",
       "      <td>PPE</td>\n",
       "      <td>60</td>\n",
       "      <td>35</td>\n",
       "    </tr>\n",
       "    <tr>\n",
       "      <th>1</th>\n",
       "      <td>448590</td>\n",
       "      <td>Lonsdale</td>\n",
       "      <td>PPE</td>\n",
       "      <td>43</td>\n",
       "      <td>44</td>\n",
       "    </tr>\n",
       "    <tr>\n",
       "      <th>2</th>\n",
       "      <td>491100</td>\n",
       "      <td>Lonsdale</td>\n",
       "      <td>engineering</td>\n",
       "      <td>79</td>\n",
       "      <td>69</td>\n",
       "    </tr>\n",
       "    <tr>\n",
       "      <th>3</th>\n",
       "      <td>316150</td>\n",
       "      <td>Lonsdale</td>\n",
       "      <td>PPE</td>\n",
       "      <td>55</td>\n",
       "      <td>61</td>\n",
       "    </tr>\n",
       "    <tr>\n",
       "      <th>4</th>\n",
       "      <td>251870</td>\n",
       "      <td>Lonsdale</td>\n",
       "      <td>engineering</td>\n",
       "      <td>62</td>\n",
       "      <td>65</td>\n",
       "    </tr>\n",
       "    <tr>\n",
       "      <th>...</th>\n",
       "      <td>...</td>\n",
       "      <td>...</td>\n",
       "      <td>...</td>\n",
       "      <td>...</td>\n",
       "      <td>...</td>\n",
       "    </tr>\n",
       "    <tr>\n",
       "      <th>296</th>\n",
       "      <td>440570</td>\n",
       "      <td>Beaufort</td>\n",
       "      <td>history</td>\n",
       "      <td>75</td>\n",
       "      <td>70</td>\n",
       "    </tr>\n",
       "    <tr>\n",
       "      <th>297</th>\n",
       "      <td>826030</td>\n",
       "      <td>Beaufort</td>\n",
       "      <td>maths</td>\n",
       "      <td>52</td>\n",
       "      <td>49</td>\n",
       "    </tr>\n",
       "    <tr>\n",
       "      <th>298</th>\n",
       "      <td>856260</td>\n",
       "      <td>Beaufort</td>\n",
       "      <td>Biology</td>\n",
       "      <td>83</td>\n",
       "      <td>84</td>\n",
       "    </tr>\n",
       "    <tr>\n",
       "      <th>299</th>\n",
       "      <td>947060</td>\n",
       "      <td>Beaufort</td>\n",
       "      <td>engineering</td>\n",
       "      <td>62</td>\n",
       "      <td>65</td>\n",
       "    </tr>\n",
       "    <tr>\n",
       "      <th>300</th>\n",
       "      <td>165780</td>\n",
       "      <td>Beaufort</td>\n",
       "      <td>PPE</td>\n",
       "      <td>48</td>\n",
       "      <td>56</td>\n",
       "    </tr>\n",
       "  </tbody>\n",
       "</table>\n",
       "<p>301 rows × 5 columns</p>\n",
       "</div>"
      ],
      "text/plain": [
       "     ID_code   College      Subject  Score_preVac  Score_postVac\n",
       "0     247610  Lonsdale          PPE            60             35\n",
       "1     448590  Lonsdale          PPE            43             44\n",
       "2     491100  Lonsdale  engineering            79             69\n",
       "3     316150  Lonsdale          PPE            55             61\n",
       "4     251870  Lonsdale  engineering            62             65\n",
       "..       ...       ...          ...           ...            ...\n",
       "296   440570  Beaufort      history            75             70\n",
       "297   826030  Beaufort        maths            52             49\n",
       "298   856260  Beaufort      Biology            83             84\n",
       "299   947060  Beaufort  engineering            62             65\n",
       "300   165780  Beaufort          PPE            48             56\n",
       "\n",
       "[301 rows x 5 columns]"
      ]
     },
     "execution_count": 2,
     "metadata": {},
     "output_type": "execute_result"
    }
   ],
   "source": [
    "wb = pandas.read_csv('data/wellbeingSample.csv')\n",
    "wb"
   ]
  },
  {
   "cell_type": "markdown",
   "id": "00fbae62",
   "metadata": {},
   "source": [
    "# bootstrap confidence interval for $r$"
   ]
  },
  {
   "cell_type": "code",
   "execution_count": 3,
   "id": "57a19e17",
   "metadata": {},
   "outputs": [
    {
     "name": "stdout",
     "output_type": "stream",
     "text": [
      "n = 122\n",
      "r = 0.7885617453168887\n"
     ]
    },
    {
     "data": {
      "image/png": "[encoded data removed]",
      "text/plain": [
       "<Figure size 640x480 with 1 Axes>"
      ]
     },
     "metadata": {
      "filenames": {
       "image/png": "/Users/joreilly/Desktop/JupyterNotebooks/StatsCourseBook/StatsCourseBook/_build/jupyter_execute/Untitled26_4_1.png"
      }
     },
     "output_type": "display_data"
    }
   ],
   "source": [
    "# my best effort in Python - horribly clunky!\n",
    "\n",
    "nReps=10000\n",
    "c=np.empty(nReps)\n",
    "n=len(wb[wb['College']=='Lonsdale'])\n",
    "print('n = ' + str(n))\n",
    "\n",
    "# how we got correlation before (already clunky!)\n",
    "print('r = ' + str(wb[wb['College']=='Lonsdale']['Score_preVac'].corr(wb[wb['College']=='Lonsdale']['Score_postVac'])))\n",
    "    # convert to a numpy array)\n",
    "    # convert to a numpy array\n",
    "\n",
    "for i in range(nReps):\n",
    "    # first grab just the data values from Lonsdale \n",
    "    bitWeNeed = wb[wb['College']=='Lonsdale'][['Score_preVac','Score_postVac']]\n",
    "    # convert to a numpy array\n",
    "    data = bitWeNeed.to_numpy()\n",
    "    # bootstrap selection of rows\n",
    "    ix= np.random.choice(range(n),n,replace=True)\n",
    "    # bootstrap sample\n",
    "    sample = data[ix]\n",
    "    # bootstrp correlation\n",
    "    tmp=np.corrcoef(sample[:,0],sample[:,1])\n",
    "    c[i]=tmp[0,1]\n",
    "\n",
    "sns.histplot(c)\n",
    "plt.show()"
   ]
  },
  {
   "cell_type": "markdown",
   "id": "4ac0e00f",
   "metadata": {},
   "source": [
    "How I would do that in MATLAB (not clunky!):\n",
    "\n",
    "\n",
    "\n",
    "<tt>\n",
    "    \n",
    "[data is a matrix 122x2 (columns are wb scores pre and post vac)]\n",
    "\n",
    "for i=1:nReps\n",
    "    \n",
    "    ix= randi([1,122],122,1) # 122x1 vector of random integers between 1 and 122 (with replacement)\n",
    "    \n",
    "    c(i)=corr(data(ix,1),data(ix,2))\n",
    "    \n",
    "end\n",
    "\n",
    "hist(c)\n",
    "</tt>"
   ]
  },
  {
   "cell_type": "code",
   "execution_count": null,
   "id": "80568c87",
   "metadata": {},
   "outputs": [],
   "source": []
  }
 ],
 "metadata": {
  "kernelspec": {
   "display_name": "Python 3 (ipykernel)",
   "language": "python",
   "name": "python3"
  },
  "language_info": {
   "codemirror_mode": {
    "name": "ipython",
    "version": 3
   },
   "file_extension": ".py",
   "mimetype": "text/x-python",
   "name": "python",
   "nbconvert_exporter": "python",
   "pygments_lexer": "ipython3",
   "version": "3.9.13"
  }
 },
 "nbformat": 4,
 "nbformat_minor": 5
}