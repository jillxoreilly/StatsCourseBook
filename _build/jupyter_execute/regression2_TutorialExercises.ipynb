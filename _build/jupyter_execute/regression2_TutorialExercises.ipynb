{
 "cells": [
  {
   "cell_type": "markdown",
   "id": "1025f03b",
   "metadata": {},
   "source": [
    "# Tutorial Exercises\n",
    "\n",
    "This week, you will be investigating attitudes to immigration using data from the <a href='https://www.europeansocialsurvey.org'>European Social Survey (ESS)</a>. \n",
    "\n",
    "The ESS is a highly respected survey and uses random sampling to achieve a sample that is representative of the population. The survey includes lots of questions about the social and economic circumstances of the household as well as asking a set of questions on political preferences and attitudes. \n",
    "\n",
    "### Set up Python libraries\n",
    "\n",
    "As usual, run the code cell below to import the relevant Python libraries"
   ]
  },
  {
   "cell_type": "code",
   "execution_count": 1,
   "id": "f9585fb9",
   "metadata": {},
   "outputs": [],
   "source": [
    "# Set-up Python libraries - you need to run this but you don't need to change it\n",
    "import numpy as np\n",
    "import matplotlib.pyplot as plt\n",
    "import scipy.stats as stats\n",
    "import pandas \n",
    "import seaborn as sns\n",
    "import statsmodels.api as sm\n",
    "import statsmodels.graphics as smg\n",
    "import statsmodels.formula.api as smf"
   ]
  },
  {
   "cell_type": "markdown",
   "id": "b8f7ee99",
   "metadata": {},
   "source": [
    "## ESS data\n",
    "\n",
    "Today’s data file is restricted to respondents in the UK. The outcome measure of interest is ‘better’ and is a score from 0-10 in answer to the following question: “Is the UK made a worse or a better place to live by people coming to live here from other countries?” 0 is labelled as “Worse place to live” and 10 as “better place to live”, or respondents could choose an answer in between. Thus, high scores indicate more open attitudes, i.e., those who feel more positive about the consequences of immigration, and low scores the opposite. \n",
    "\n",
    "This file contains several explanatory/ controls variables: \n",
    "\n",
    "* age (a continuous measure in years)\n",
    "* sex (Male, Female)\n",
    "* educ (a categorical measure with 3 levels, where 'tertiary' is higher education such as university)\n",
    "* vote (a categorical measure of the party the respondent last voted for where 1 = Conservatives, 2 = Labour, 3 = any other party)\n",
    "* bornuk (a binary measure of whether the respondent was born in the UK where 0 = the respondent was not born in the UK, and 1 indicates they were)."
   ]
  },
  {
   "cell_type": "code",
   "execution_count": 2,
   "id": "1b8f7d56",
   "metadata": {},
   "outputs": [
    {
     "data": {
      "text/html": [
       "<div>\n",
       "<style scoped>\n",
       "    .dataframe tbody tr th:only-of-type {\n",
       "        vertical-align: middle;\n",
       "    }\n",
       "\n",
       "    .dataframe tbody tr th {\n",
       "        vertical-align: top;\n",
       "    }\n",
       "\n",
       "    .dataframe thead th {\n",
       "        text-align: right;\n",
       "    }\n",
       "</style>\n",
       "<table border=\"1\" class=\"dataframe\">\n",
       "  <thead>\n",
       "    <tr style=\"text-align: right;\">\n",
       "      <th></th>\n",
       "      <th>1</th>\n",
       "      <th>vote</th>\n",
       "      <th>better</th>\n",
       "      <th>bornuk</th>\n",
       "      <th>sex</th>\n",
       "      <th>age</th>\n",
       "      <th>educ</th>\n",
       "    </tr>\n",
       "  </thead>\n",
       "  <tbody>\n",
       "    <tr>\n",
       "      <th>0</th>\n",
       "      <td>2</td>\n",
       "      <td>Conservative</td>\n",
       "      <td>0.0</td>\n",
       "      <td>0</td>\n",
       "      <td>Male</td>\n",
       "      <td>75.0</td>\n",
       "      <td>NaN</td>\n",
       "    </tr>\n",
       "    <tr>\n",
       "      <th>1</th>\n",
       "      <td>3</td>\n",
       "      <td>Conservative</td>\n",
       "      <td>7.0</td>\n",
       "      <td>0</td>\n",
       "      <td>Male</td>\n",
       "      <td>70.0</td>\n",
       "      <td>Upper secondary</td>\n",
       "    </tr>\n",
       "    <tr>\n",
       "      <th>2</th>\n",
       "      <td>4</td>\n",
       "      <td>Conservative</td>\n",
       "      <td>8.0</td>\n",
       "      <td>0</td>\n",
       "      <td>Female</td>\n",
       "      <td>54.0</td>\n",
       "      <td>Tertiary</td>\n",
       "    </tr>\n",
       "    <tr>\n",
       "      <th>3</th>\n",
       "      <td>5</td>\n",
       "      <td>Conservative</td>\n",
       "      <td>0.0</td>\n",
       "      <td>0</td>\n",
       "      <td>Male</td>\n",
       "      <td>58.0</td>\n",
       "      <td>Upper secondary</td>\n",
       "    </tr>\n",
       "    <tr>\n",
       "      <th>4</th>\n",
       "      <td>6</td>\n",
       "      <td>Conservative</td>\n",
       "      <td>7.0</td>\n",
       "      <td>0</td>\n",
       "      <td>Male</td>\n",
       "      <td>76.0</td>\n",
       "      <td>Lower secondary</td>\n",
       "    </tr>\n",
       "    <tr>\n",
       "      <th>...</th>\n",
       "      <td>...</td>\n",
       "      <td>...</td>\n",
       "      <td>...</td>\n",
       "      <td>...</td>\n",
       "      <td>...</td>\n",
       "      <td>...</td>\n",
       "      <td>...</td>\n",
       "    </tr>\n",
       "    <tr>\n",
       "      <th>2199</th>\n",
       "      <td>2201</td>\n",
       "      <td>NaN</td>\n",
       "      <td>9.0</td>\n",
       "      <td>0</td>\n",
       "      <td>Female</td>\n",
       "      <td>32.0</td>\n",
       "      <td>Tertiary</td>\n",
       "    </tr>\n",
       "    <tr>\n",
       "      <th>2200</th>\n",
       "      <td>2202</td>\n",
       "      <td>NaN</td>\n",
       "      <td>5.0</td>\n",
       "      <td>0</td>\n",
       "      <td>Female</td>\n",
       "      <td>69.0</td>\n",
       "      <td>Lower secondary</td>\n",
       "    </tr>\n",
       "    <tr>\n",
       "      <th>2201</th>\n",
       "      <td>2203</td>\n",
       "      <td>NaN</td>\n",
       "      <td>5.0</td>\n",
       "      <td>0</td>\n",
       "      <td>Female</td>\n",
       "      <td>34.0</td>\n",
       "      <td>Upper secondary</td>\n",
       "    </tr>\n",
       "    <tr>\n",
       "      <th>2202</th>\n",
       "      <td>2204</td>\n",
       "      <td>NaN</td>\n",
       "      <td>2.0</td>\n",
       "      <td>0</td>\n",
       "      <td>Male</td>\n",
       "      <td>23.0</td>\n",
       "      <td>Lower secondary</td>\n",
       "    </tr>\n",
       "    <tr>\n",
       "      <th>2203</th>\n",
       "      <td>2205</td>\n",
       "      <td>NaN</td>\n",
       "      <td>0.0</td>\n",
       "      <td>0</td>\n",
       "      <td>Female</td>\n",
       "      <td>54.0</td>\n",
       "      <td>Upper secondary</td>\n",
       "    </tr>\n",
       "  </tbody>\n",
       "</table>\n",
       "<p>2204 rows × 7 columns</p>\n",
       "</div>"
      ],
      "text/plain": [
       "         1          vote  better  bornuk     sex   age             educ\n",
       "0        2  Conservative     0.0       0    Male  75.0              NaN\n",
       "1        3  Conservative     7.0       0    Male  70.0  Upper secondary\n",
       "2        4  Conservative     8.0       0  Female  54.0         Tertiary\n",
       "3        5  Conservative     0.0       0    Male  58.0  Upper secondary\n",
       "4        6  Conservative     7.0       0    Male  76.0  Lower secondary\n",
       "...    ...           ...     ...     ...     ...   ...              ...\n",
       "2199  2201           NaN     9.0       0  Female  32.0         Tertiary\n",
       "2200  2202           NaN     5.0       0  Female  69.0  Lower secondary\n",
       "2201  2203           NaN     5.0       0  Female  34.0  Upper secondary\n",
       "2202  2204           NaN     2.0       0    Male  23.0  Lower secondary\n",
       "2203  2205           NaN     0.0       0  Female  54.0  Upper secondary\n",
       "\n",
       "[2204 rows x 7 columns]"
      ]
     },
     "execution_count": 2,
     "metadata": {},
     "output_type": "execute_result"
    }
   ],
   "source": [
    "# load and view the data\n",
    "ess = pandas.read_csv('https://raw.githubusercontent.com/jillxoreilly/StatsCourseBook/main/data/immigrationData.csv')\n",
    "ess"
   ]
  },
  {
   "cell_type": "markdown",
   "id": "1e382a28",
   "metadata": {},
   "source": [
    "### Data cleaning\n",
    "\n",
    "Get to know your data. \n",
    "\n",
    "* How many survey respondents are there? \n",
    "* For each variable, check whether there are many missing values.\n"
   ]
  },
  {
   "cell_type": "code",
   "execution_count": 3,
   "id": "b3e3f69d",
   "metadata": {},
   "outputs": [],
   "source": [
    "# your code here to check for missing data"
   ]
  },
  {
   "cell_type": "markdown",
   "id": "34ac91eb",
   "metadata": {},
   "source": [
    "### Simple regression model\n",
    "\n",
    "Some of the common ideas about attitudes to immigration include that younger people tend to be more positive about immigration. Let’s test this idea using regression analysis.\n"
   ]
  },
  {
   "cell_type": "code",
   "execution_count": 4,
   "id": "2275f6c8",
   "metadata": {},
   "outputs": [],
   "source": [
    "# Your code here to run a regression model Y = better, x = age\n",
    "# You can refer back to last week's work for how to do this!"
   ]
  },
  {
   "cell_type": "markdown",
   "id": "6094f707",
   "metadata": {},
   "source": [
    "* What does the result tell us? \n",
    "\n",
    "* Is the age coefficient positive or negative and how do we interpret the size of the slope?\n",
    "\n",
    "### Multiple regression model\n",
    "\n",
    "We are going to add a further explanatory variable to the model: sex. \n",
    "    \n",
    "This is a string variable with two categories: Male and Female. \n",
    "\n",
    "Add sex to your model, keeping age in the model too. ou will need to change the formula from `better ~ age` to `better ~ age + sex`\n"
   ]
  },
  {
   "cell_type": "code",
   "execution_count": 5,
   "id": "e6676a9b",
   "metadata": {},
   "outputs": [],
   "source": [
    "# Your code here to run a regression model Y = better, x1 = age, x2 = sex"
   ]
  },
  {
   "cell_type": "markdown",
   "id": "50bfaf69",
   "metadata": {},
   "source": [
    "* What does the coefficient for sex tell us? \n",
    "\n",
    "* Do men or women have more positive attitudes towards immigration? \n",
    "\n",
    "* In the new model that includes sex, does the age coefficient change from model 1?\n",
    "\n",
    "NB: The eagle-eyed among you might spot that the coefficient for sex is not statistically significant. Well spotted! We will spend more time looking at statistical significance next week.\n",
    "\n",
    "### Add a categorical variable\n",
    "\n",
    "Next, we are going to add education as a further explanatory variable. \n",
    "\n",
    "* This is a categorical variable - what are its possible values?\n",
    "\n"
   ]
  },
  {
   "cell_type": "code",
   "execution_count": 6,
   "id": "48d08db0",
   "metadata": {},
   "outputs": [
    {
     "data": {
      "text/plain": [
       "array([nan, 'Upper secondary', 'Tertiary', 'Lower secondary'],\n",
       "      dtype=object)"
      ]
     },
     "execution_count": 6,
     "metadata": {},
     "output_type": "execute_result"
    }
   ],
   "source": [
    "ess['educ'].unique()"
   ]
  },
  {
   "cell_type": "markdown",
   "id": "79101a2f",
   "metadata": {},
   "source": [
    "Think:\n",
    "    \n",
    "* How many categories does the education variable have? \n",
    "* How many dummy variables are needed in the regression model? \n",
    "\n",
    "Before you run the model, think about what you expect to see. Do you think the coefficients will be positive or negative? "
   ]
  },
  {
   "cell_type": "code",
   "execution_count": 7,
   "id": "599123a4",
   "metadata": {},
   "outputs": [
    {
     "data": {
      "text/html": [
       "<table class=\"simpletable\">\n",
       "<caption>OLS Regression Results</caption>\n",
       "<tr>\n",
       "  <th>Dep. Variable:</th>         <td>better</td>      <th>  R-squared:         </th> <td>   0.112</td>\n",
       "</tr>\n",
       "<tr>\n",
       "  <th>Model:</th>                   <td>OLS</td>       <th>  Adj. R-squared:    </th> <td>   0.110</td>\n",
       "</tr>\n",
       "<tr>\n",
       "  <th>Method:</th>             <td>Least Squares</td>  <th>  F-statistic:       </th> <td>   65.77</td>\n",
       "</tr>\n",
       "<tr>\n",
       "  <th>Date:</th>             <td>Wed, 15 Feb 2023</td> <th>  Prob (F-statistic):</th> <td>1.82e-52</td>\n",
       "</tr>\n",
       "<tr>\n",
       "  <th>Time:</th>                 <td>13:58:04</td>     <th>  Log-Likelihood:    </th> <td> -4804.3</td>\n",
       "</tr>\n",
       "<tr>\n",
       "  <th>No. Observations:</th>      <td>  2097</td>      <th>  AIC:               </th> <td>   9619.</td>\n",
       "</tr>\n",
       "<tr>\n",
       "  <th>Df Residuals:</th>          <td>  2092</td>      <th>  BIC:               </th> <td>   9647.</td>\n",
       "</tr>\n",
       "<tr>\n",
       "  <th>Df Model:</th>              <td>     4</td>      <th>                     </th>     <td> </td>   \n",
       "</tr>\n",
       "<tr>\n",
       "  <th>Covariance Type:</th>      <td>nonrobust</td>    <th>                     </th>     <td> </td>   \n",
       "</tr>\n",
       "</table>\n",
       "<table class=\"simpletable\">\n",
       "<tr>\n",
       "             <td></td>                <th>coef</th>     <th>std err</th>      <th>t</th>      <th>P>|t|</th>  <th>[0.025</th>    <th>0.975]</th>  \n",
       "</tr>\n",
       "<tr>\n",
       "  <th>Intercept</th>               <td>    5.5960</td> <td>    0.198</td> <td>   28.298</td> <td> 0.000</td> <td>    5.208</td> <td>    5.984</td>\n",
       "</tr>\n",
       "<tr>\n",
       "  <th>sex[T.Male]</th>             <td>    0.0138</td> <td>    0.105</td> <td>    0.131</td> <td> 0.896</td> <td>   -0.193</td> <td>    0.220</td>\n",
       "</tr>\n",
       "<tr>\n",
       "  <th>educ[T.Tertiary]</th>        <td>    1.9270</td> <td>    0.140</td> <td>   13.750</td> <td> 0.000</td> <td>    1.652</td> <td>    2.202</td>\n",
       "</tr>\n",
       "<tr>\n",
       "  <th>educ[T.Upper secondary]</th> <td>    0.6291</td> <td>    0.129</td> <td>    4.891</td> <td> 0.000</td> <td>    0.377</td> <td>    0.881</td>\n",
       "</tr>\n",
       "<tr>\n",
       "  <th>age</th>                     <td>   -0.0152</td> <td>    0.003</td> <td>   -5.208</td> <td> 0.000</td> <td>   -0.021</td> <td>   -0.009</td>\n",
       "</tr>\n",
       "</table>\n",
       "<table class=\"simpletable\">\n",
       "<tr>\n",
       "  <th>Omnibus:</th>       <td>42.646</td> <th>  Durbin-Watson:     </th> <td>   1.930</td>\n",
       "</tr>\n",
       "<tr>\n",
       "  <th>Prob(Omnibus):</th> <td> 0.000</td> <th>  Jarque-Bera (JB):  </th> <td>  43.726</td>\n",
       "</tr>\n",
       "<tr>\n",
       "  <th>Skew:</th>          <td>-0.337</td> <th>  Prob(JB):          </th> <td>3.20e-10</td>\n",
       "</tr>\n",
       "<tr>\n",
       "  <th>Kurtosis:</th>      <td> 2.787</td> <th>  Cond. No.          </th> <td>    245.</td>\n",
       "</tr>\n",
       "</table><br/><br/>Notes:<br/>[1] Standard Errors assume that the covariance matrix of the errors is correctly specified."
      ],
      "text/plain": [
       "<class 'statsmodels.iolib.summary.Summary'>\n",
       "\"\"\"\n",
       "                            OLS Regression Results                            \n",
       "==============================================================================\n",
       "Dep. Variable:                 better   R-squared:                       0.112\n",
       "Model:                            OLS   Adj. R-squared:                  0.110\n",
       "Method:                 Least Squares   F-statistic:                     65.77\n",
       "Date:                Wed, 15 Feb 2023   Prob (F-statistic):           1.82e-52\n",
       "Time:                        13:58:04   Log-Likelihood:                -4804.3\n",
       "No. Observations:                2097   AIC:                             9619.\n",
       "Df Residuals:                    2092   BIC:                             9647.\n",
       "Df Model:                           4                                         \n",
       "Covariance Type:            nonrobust                                         \n",
       "===========================================================================================\n",
       "                              coef    std err          t      P>|t|      [0.025      0.975]\n",
       "-------------------------------------------------------------------------------------------\n",
       "Intercept                   5.5960      0.198     28.298      0.000       5.208       5.984\n",
       "sex[T.Male]                 0.0138      0.105      0.131      0.896      -0.193       0.220\n",
       "educ[T.Tertiary]            1.9270      0.140     13.750      0.000       1.652       2.202\n",
       "educ[T.Upper secondary]     0.6291      0.129      4.891      0.000       0.377       0.881\n",
       "age                        -0.0152      0.003     -5.208      0.000      -0.021      -0.009\n",
       "==============================================================================\n",
       "Omnibus:                       42.646   Durbin-Watson:                   1.930\n",
       "Prob(Omnibus):                  0.000   Jarque-Bera (JB):               43.726\n",
       "Skew:                          -0.337   Prob(JB):                     3.20e-10\n",
       "Kurtosis:                       2.787   Cond. No.                         245.\n",
       "==============================================================================\n",
       "\n",
       "Notes:\n",
       "[1] Standard Errors assume that the covariance matrix of the errors is correctly specified.\n",
       "\"\"\""
      ]
     },
     "execution_count": 7,
     "metadata": {},
     "output_type": "execute_result"
    }
   ],
   "source": [
    "# first we run this line to tell statsmodels where to find the data and the explanatory variables\n",
    "reg_formula = sm.regression.linear_model.OLS.from_formula(data = ess, formula = 'better ~ age + sex + educ')\n",
    "\n",
    "# then we run this line to fit the regression (work out the values of intercept and slope)\n",
    "# the output is a structure which we will call reg_results\n",
    "reg_results = reg_formula.fit()\n",
    "\n",
    "# let's view a summary of the regression results\n",
    "reg_results.summary() \n",
    " \n"
   ]
  },
  {
   "cell_type": "markdown",
   "id": "1f9443dc",
   "metadata": {},
   "source": [
    "#### Choosing the reference category\n",
    "\n",
    "Which category was used as the reference category?\n",
    "\n",
    "You should be able to tell from the summary table, as there will be no $\\beta$ value for the reference category - If we have categories A,B,C and B is the reference, then $\\beta_A$ and $\\beta_C$ tell us how much the expected value of $y$ increases or decreases in catgories A and C compared to category B.\n",
    "\n",
    "By default, `statsmodels` chooses the least frequent category as the reference, which in this case is 'lower secondary'. So the $\\beta$ values for 'Upper secondary' and 'Tertiary' tells us how much higher the value of 'better' is expected to be for survey respondants with 'Upper secondary' or 'Tertiary' education respectively.\n",
    "\n",
    "You may wish to choose the reference category. You can do this by using slightly different syntax - for example to choose 'Upper secondary' as teh reference category, in the formula we replace the simple variable name `educ` with the code `C(educ, Treatment(reference=\"Upper secondary\")`\n",
    "\n",
    "I chose the middle category (Upper secondary) as the reference, so I am expecting opposite signed beta values for those with a level of education below (Lower secondary) or abobve (Tertiary) my reference category.\n",
    "\n",
    "* Run the model, and check the output."
   ]
  },
  {
   "cell_type": "code",
   "execution_count": 8,
   "id": "973eff69",
   "metadata": {
    "scrolled": false
   },
   "outputs": [
    {
     "data": {
      "text/html": [
       "<table class=\"simpletable\">\n",
       "<caption>OLS Regression Results</caption>\n",
       "<tr>\n",
       "  <th>Dep. Variable:</th>         <td>better</td>      <th>  R-squared:         </th> <td>   0.112</td>\n",
       "</tr>\n",
       "<tr>\n",
       "  <th>Model:</th>                   <td>OLS</td>       <th>  Adj. R-squared:    </th> <td>   0.110</td>\n",
       "</tr>\n",
       "<tr>\n",
       "  <th>Method:</th>             <td>Least Squares</td>  <th>  F-statistic:       </th> <td>   65.77</td>\n",
       "</tr>\n",
       "<tr>\n",
       "  <th>Date:</th>             <td>Wed, 15 Feb 2023</td> <th>  Prob (F-statistic):</th> <td>1.82e-52</td>\n",
       "</tr>\n",
       "<tr>\n",
       "  <th>Time:</th>                 <td>13:58:04</td>     <th>  Log-Likelihood:    </th> <td> -4804.3</td>\n",
       "</tr>\n",
       "<tr>\n",
       "  <th>No. Observations:</th>      <td>  2097</td>      <th>  AIC:               </th> <td>   9619.</td>\n",
       "</tr>\n",
       "<tr>\n",
       "  <th>Df Residuals:</th>          <td>  2092</td>      <th>  BIC:               </th> <td>   9647.</td>\n",
       "</tr>\n",
       "<tr>\n",
       "  <th>Df Model:</th>              <td>     4</td>      <th>                     </th>     <td> </td>   \n",
       "</tr>\n",
       "<tr>\n",
       "  <th>Covariance Type:</th>      <td>nonrobust</td>    <th>                     </th>     <td> </td>   \n",
       "</tr>\n",
       "</table>\n",
       "<table class=\"simpletable\">\n",
       "<tr>\n",
       "                                   <td></td>                                     <th>coef</th>     <th>std err</th>      <th>t</th>      <th>P>|t|</th>  <th>[0.025</th>    <th>0.975]</th>  \n",
       "</tr>\n",
       "<tr>\n",
       "  <th>Intercept</th>                                                          <td>    6.2251</td> <td>    0.175</td> <td>   35.606</td> <td> 0.000</td> <td>    5.882</td> <td>    6.568</td>\n",
       "</tr>\n",
       "<tr>\n",
       "  <th>sex[T.Male]</th>                                                        <td>    0.0138</td> <td>    0.105</td> <td>    0.131</td> <td> 0.896</td> <td>   -0.193</td> <td>    0.220</td>\n",
       "</tr>\n",
       "<tr>\n",
       "  <th>C(educ, Treatment(reference=\"Upper secondary\"))[T.Lower secondary]</th> <td>   -0.6291</td> <td>    0.129</td> <td>   -4.891</td> <td> 0.000</td> <td>   -0.881</td> <td>   -0.377</td>\n",
       "</tr>\n",
       "<tr>\n",
       "  <th>C(educ, Treatment(reference=\"Upper secondary\"))[T.Tertiary]</th>        <td>    1.2979</td> <td>    0.125</td> <td>   10.344</td> <td> 0.000</td> <td>    1.052</td> <td>    1.544</td>\n",
       "</tr>\n",
       "<tr>\n",
       "  <th>age</th>                                                                <td>   -0.0152</td> <td>    0.003</td> <td>   -5.208</td> <td> 0.000</td> <td>   -0.021</td> <td>   -0.009</td>\n",
       "</tr>\n",
       "</table>\n",
       "<table class=\"simpletable\">\n",
       "<tr>\n",
       "  <th>Omnibus:</th>       <td>42.646</td> <th>  Durbin-Watson:     </th> <td>   1.930</td>\n",
       "</tr>\n",
       "<tr>\n",
       "  <th>Prob(Omnibus):</th> <td> 0.000</td> <th>  Jarque-Bera (JB):  </th> <td>  43.726</td>\n",
       "</tr>\n",
       "<tr>\n",
       "  <th>Skew:</th>          <td>-0.337</td> <th>  Prob(JB):          </th> <td>3.20e-10</td>\n",
       "</tr>\n",
       "<tr>\n",
       "  <th>Kurtosis:</th>      <td> 2.787</td> <th>  Cond. No.          </th> <td>    202.</td>\n",
       "</tr>\n",
       "</table><br/><br/>Notes:<br/>[1] Standard Errors assume that the covariance matrix of the errors is correctly specified."
      ],
      "text/plain": [
       "<class 'statsmodels.iolib.summary.Summary'>\n",
       "\"\"\"\n",
       "                            OLS Regression Results                            \n",
       "==============================================================================\n",
       "Dep. Variable:                 better   R-squared:                       0.112\n",
       "Model:                            OLS   Adj. R-squared:                  0.110\n",
       "Method:                 Least Squares   F-statistic:                     65.77\n",
       "Date:                Wed, 15 Feb 2023   Prob (F-statistic):           1.82e-52\n",
       "Time:                        13:58:04   Log-Likelihood:                -4804.3\n",
       "No. Observations:                2097   AIC:                             9619.\n",
       "Df Residuals:                    2092   BIC:                             9647.\n",
       "Df Model:                           4                                         \n",
       "Covariance Type:            nonrobust                                         \n",
       "======================================================================================================================================\n",
       "                                                                         coef    std err          t      P>|t|      [0.025      0.975]\n",
       "--------------------------------------------------------------------------------------------------------------------------------------\n",
       "Intercept                                                              6.2251      0.175     35.606      0.000       5.882       6.568\n",
       "sex[T.Male]                                                            0.0138      0.105      0.131      0.896      -0.193       0.220\n",
       "C(educ, Treatment(reference=\"Upper secondary\"))[T.Lower secondary]    -0.6291      0.129     -4.891      0.000      -0.881      -0.377\n",
       "C(educ, Treatment(reference=\"Upper secondary\"))[T.Tertiary]            1.2979      0.125     10.344      0.000       1.052       1.544\n",
       "age                                                                   -0.0152      0.003     -5.208      0.000      -0.021      -0.009\n",
       "==============================================================================\n",
       "Omnibus:                       42.646   Durbin-Watson:                   1.930\n",
       "Prob(Omnibus):                  0.000   Jarque-Bera (JB):               43.726\n",
       "Skew:                          -0.337   Prob(JB):                     3.20e-10\n",
       "Kurtosis:                       2.787   Cond. No.                         202.\n",
       "==============================================================================\n",
       "\n",
       "Notes:\n",
       "[1] Standard Errors assume that the covariance matrix of the errors is correctly specified.\n",
       "\"\"\""
      ]
     },
     "execution_count": 8,
     "metadata": {},
     "output_type": "execute_result"
    }
   ],
   "source": [
    "# first we run this line to tell statsmodels where to find the data and the explanatory variables\n",
    "reg_formula = sm.regression.linear_model.OLS.from_formula(data = ess, formula = 'better ~ age + sex + C(educ, Treatment(reference=\"Upper secondary\"))')\n",
    "                                                          \n",
    "                                                        \n",
    "# then we run this line to fit the regression (work out the values of intercept and slope)\n",
    "# the output is a structure which we will call reg_results\n",
    "reg_results = reg_formula.fit()\n",
    "\n",
    "# let's view a summary of the regression results\n",
    "reg_results.summary() \n",
    " \n"
   ]
  },
  {
   "cell_type": "markdown",
   "id": "c2331f2c",
   "metadata": {},
   "source": [
    "### Interpretation\n",
    "\n",
    "* How should you interpret the education coefficients in the model? \n",
    "* Which is the “omitted category” or “reference group” (these two terms are used interchangeably here). \n",
    "* Can you explain in words the relationship between education and immigration attitudes? \n",
    "\n",
    "### Further categorical variable\n",
    "\n",
    "What do you think the attitudes will be like of people who are immigrants themselves, versus people who were born in the UK? \n",
    "\n",
    "Let’s test your hypothesis, by adding ‘bornuk’ to the model. This is another binary variable where 0 = born in the UK, and 1 = born outside the UK. \n",
    "\n",
    "Run the code. What does it show?\n"
   ]
  },
  {
   "cell_type": "code",
   "execution_count": 9,
   "id": "d7244fa9",
   "metadata": {},
   "outputs": [],
   "source": [
    "# Your code here to run a regression model Y = better, x1 = age, x2 = sex, x3 = education, x4 = bornuk"
   ]
  },
  {
   "cell_type": "markdown",
   "id": "5a02490e",
   "metadata": {},
   "source": [
    "What about you? Plug your own values into the regression equation and find out what the model predicts YOUR answer to the immigration question to be. (NB: I know you are all still doing your degree! Assume you have finished it for the purpose of this exercise). \n",
    "\n",
    "You could use pencil and paper or Excel, or type the equation in a code block as I have done below"
   ]
  },
  {
   "cell_type": "code",
   "execution_count": 10,
   "id": "d0bce531",
   "metadata": {},
   "outputs": [
    {
     "name": "stdout",
     "output_type": "stream",
     "text": [
      "7.8002\n",
      "4.7763\n"
     ]
    }
   ],
   "source": [
    "# edit this equation - \n",
    "# you will need to replace the B values with coefficients from the regression summary table, \n",
    "# and the variable names with actual values (so if your age is 20, replace 'age' with 20)\n",
    "# for categorical variables you need to work out which B value to use - \n",
    "\n",
    "# better = B0 + B1*age + B2*sex + B3*education + B4*bornuk\n",
    "\n",
    "# In the following examples I used 'upper secondary' as the reference category for the categorical variable 'educ'\n",
    "\n",
    "# For example, for a person who is 41, female and tertiary educated, and was born in the UK, the value should be calculated as follows:\n",
    "# better = intercept + coef(age)*41 + coef(sex[T.male])*0 + coef(educ[T.tertiary])*1 + coef(bornuk)*1\n",
    "print(5.9264 + -0.0118*41 + 0.0390*0 + 1.1765*1 + 1.1811*1)\n",
    "\n",
    "# For example, for a person who is 43, male and lower secondary educated, and was born outside the UK, the value should be calculated as follows:\n",
    "# better = intercept + coef(age)*43 + coef(sex[T.male])*1 + coef(educ[T.Lower Secondary])*1 + coef(bornuk)*0\n",
    "print(5.9264 + -0.0118*44 + 0.0390*1 + -0.6699*1 + 1.1811*0)"
   ]
  },
  {
   "cell_type": "markdown",
   "id": "88f463bb",
   "metadata": {},
   "source": [
    "### Interaction terms\n",
    "\n",
    "Finally, we are going to explore the effect of age, according to different political preferences using the ‘vote’ variable. \n",
    "\n",
    "We will do this by modelling the effect of 'age' and 'vote' on 'better', and adding an **interaction term** of age*vote to the model.\n",
    "\n",
    "The code in Python for an interaction between A and B is A:B"
   ]
  },
  {
   "cell_type": "code",
   "execution_count": 11,
   "id": "7713e7c3",
   "metadata": {},
   "outputs": [
    {
     "data": {
      "text/html": [
       "<table class=\"simpletable\">\n",
       "<caption>OLS Regression Results</caption>\n",
       "<tr>\n",
       "  <th>Dep. Variable:</th>         <td>better</td>      <th>  R-squared:         </th> <td>   0.077</td>\n",
       "</tr>\n",
       "<tr>\n",
       "  <th>Model:</th>                   <td>OLS</td>       <th>  Adj. R-squared:    </th> <td>   0.073</td>\n",
       "</tr>\n",
       "<tr>\n",
       "  <th>Method:</th>             <td>Least Squares</td>  <th>  F-statistic:       </th> <td>   20.77</td>\n",
       "</tr>\n",
       "<tr>\n",
       "  <th>Date:</th>             <td>Wed, 15 Feb 2023</td> <th>  Prob (F-statistic):</th> <td>1.71e-23</td>\n",
       "</tr>\n",
       "<tr>\n",
       "  <th>Time:</th>                 <td>13:58:04</td>     <th>  Log-Likelihood:    </th> <td> -3444.4</td>\n",
       "</tr>\n",
       "<tr>\n",
       "  <th>No. Observations:</th>      <td>  1511</td>      <th>  AIC:               </th> <td>   6903.</td>\n",
       "</tr>\n",
       "<tr>\n",
       "  <th>Df Residuals:</th>          <td>  1504</td>      <th>  BIC:               </th> <td>   6940.</td>\n",
       "</tr>\n",
       "<tr>\n",
       "  <th>Df Model:</th>              <td>     6</td>      <th>                     </th>     <td> </td>   \n",
       "</tr>\n",
       "<tr>\n",
       "  <th>Covariance Type:</th>      <td>nonrobust</td>    <th>                     </th>     <td> </td>   \n",
       "</tr>\n",
       "</table>\n",
       "<table class=\"simpletable\">\n",
       "<tr>\n",
       "              <td></td>                <th>coef</th>     <th>std err</th>      <th>t</th>      <th>P>|t|</th>  <th>[0.025</th>    <th>0.975]</th>  \n",
       "</tr>\n",
       "<tr>\n",
       "  <th>Intercept</th>                <td>    6.9235</td> <td>    0.464</td> <td>   14.909</td> <td> 0.000</td> <td>    6.013</td> <td>    7.834</td>\n",
       "</tr>\n",
       "<tr>\n",
       "  <th>sex[T.Male]</th>              <td>    0.0403</td> <td>    0.123</td> <td>    0.329</td> <td> 0.742</td> <td>   -0.200</td> <td>    0.281</td>\n",
       "</tr>\n",
       "<tr>\n",
       "  <th>vote[T.Conservative]</th>     <td>   -0.6885</td> <td>    0.589</td> <td>   -1.170</td> <td> 0.242</td> <td>   -1.843</td> <td>    0.466</td>\n",
       "</tr>\n",
       "<tr>\n",
       "  <th>vote[T.Labour]</th>           <td>    1.1944</td> <td>    0.564</td> <td>    2.119</td> <td> 0.034</td> <td>    0.089</td> <td>    2.300</td>\n",
       "</tr>\n",
       "<tr>\n",
       "  <th>age</th>                      <td>   -0.0145</td> <td>    0.008</td> <td>   -1.823</td> <td> 0.068</td> <td>   -0.030</td> <td>    0.001</td>\n",
       "</tr>\n",
       "<tr>\n",
       "  <th>age:vote[T.Conservative]</th> <td>   -0.0033</td> <td>    0.010</td> <td>   -0.332</td> <td> 0.740</td> <td>   -0.023</td> <td>    0.016</td>\n",
       "</tr>\n",
       "<tr>\n",
       "  <th>age:vote[T.Labour]</th>       <td>   -0.0213</td> <td>    0.010</td> <td>   -2.133</td> <td> 0.033</td> <td>   -0.041</td> <td>   -0.002</td>\n",
       "</tr>\n",
       "</table>\n",
       "<table class=\"simpletable\">\n",
       "<tr>\n",
       "  <th>Omnibus:</th>       <td>41.378</td> <th>  Durbin-Watson:     </th> <td>   1.968</td>\n",
       "</tr>\n",
       "<tr>\n",
       "  <th>Prob(Omnibus):</th> <td> 0.000</td> <th>  Jarque-Bera (JB):  </th> <td>  43.572</td>\n",
       "</tr>\n",
       "<tr>\n",
       "  <th>Skew:</th>          <td>-0.403</td> <th>  Prob(JB):          </th> <td>3.46e-10</td>\n",
       "</tr>\n",
       "<tr>\n",
       "  <th>Kurtosis:</th>      <td> 2.796</td> <th>  Cond. No.          </th> <td>    951.</td>\n",
       "</tr>\n",
       "</table><br/><br/>Notes:<br/>[1] Standard Errors assume that the covariance matrix of the errors is correctly specified."
      ],
      "text/plain": [
       "<class 'statsmodels.iolib.summary.Summary'>\n",
       "\"\"\"\n",
       "                            OLS Regression Results                            \n",
       "==============================================================================\n",
       "Dep. Variable:                 better   R-squared:                       0.077\n",
       "Model:                            OLS   Adj. R-squared:                  0.073\n",
       "Method:                 Least Squares   F-statistic:                     20.77\n",
       "Date:                Wed, 15 Feb 2023   Prob (F-statistic):           1.71e-23\n",
       "Time:                        13:58:04   Log-Likelihood:                -3444.4\n",
       "No. Observations:                1511   AIC:                             6903.\n",
       "Df Residuals:                    1504   BIC:                             6940.\n",
       "Df Model:                           6                                         \n",
       "Covariance Type:            nonrobust                                         \n",
       "============================================================================================\n",
       "                               coef    std err          t      P>|t|      [0.025      0.975]\n",
       "--------------------------------------------------------------------------------------------\n",
       "Intercept                    6.9235      0.464     14.909      0.000       6.013       7.834\n",
       "sex[T.Male]                  0.0403      0.123      0.329      0.742      -0.200       0.281\n",
       "vote[T.Conservative]        -0.6885      0.589     -1.170      0.242      -1.843       0.466\n",
       "vote[T.Labour]               1.1944      0.564      2.119      0.034       0.089       2.300\n",
       "age                         -0.0145      0.008     -1.823      0.068      -0.030       0.001\n",
       "age:vote[T.Conservative]    -0.0033      0.010     -0.332      0.740      -0.023       0.016\n",
       "age:vote[T.Labour]          -0.0213      0.010     -2.133      0.033      -0.041      -0.002\n",
       "==============================================================================\n",
       "Omnibus:                       41.378   Durbin-Watson:                   1.968\n",
       "Prob(Omnibus):                  0.000   Jarque-Bera (JB):               43.572\n",
       "Skew:                          -0.403   Prob(JB):                     3.46e-10\n",
       "Kurtosis:                       2.796   Cond. No.                         951.\n",
       "==============================================================================\n",
       "\n",
       "Notes:\n",
       "[1] Standard Errors assume that the covariance matrix of the errors is correctly specified.\n",
       "\"\"\""
      ]
     },
     "execution_count": 11,
     "metadata": {},
     "output_type": "execute_result"
    }
   ],
   "source": [
    "# Your code here to run a regression model Y = better, x1 = age, x2 = sex, x3 = education, x4 = bornuk, x5=age*vote\n",
    "# first we run this line to tell statsmodels where to find the data and the explanatory variables\n",
    "reg_formula = sm.regression.linear_model.OLS.from_formula(data = ess, formula = 'better ~ age + sex + vote + age:vote')\n",
    "                                                          \n",
    "                                                        \n",
    "# then we run this line to fit the regression (work out the values of intercept and slope)\n",
    "# the output is a structure which we will call reg_results\n",
    "reg_results = reg_formula.fit()\n",
    "\n",
    "# let's view a summary of the regression results\n",
    "reg_results.summary() \n",
    " \n"
   ]
  },
  {
   "cell_type": "markdown",
   "id": "4f07c1ea",
   "metadata": {},
   "source": [
    "#### Interpretation\n",
    "\n",
    "The interaction `age:vote` breaks down the relationship between `age` and `better` into three separate relationships for the three categories of `vote`\n",
    "\n",
    "We can visualize this using `sns.lmeplot` which plots the linear relationship between $x$ and $y$ - if we use the argument `hue='vote'` this will be done separately for each category of `vote`"
   ]
  },
  {
   "cell_type": "code",
   "execution_count": 12,
   "id": "e48ebd17",
   "metadata": {},
   "outputs": [
    {
     "data": {
      "image/png": "[encoded data removed]",
      "text/plain": [
       "<Figure size 659.25x500 with 1 Axes>"
      ]
     },
     "metadata": {
      "filenames": {
       "image/png": "/Users/joreilly/Desktop/JupyterNotebooks/StatsCourseBook/StatsCourseBook/_build/jupyter_execute/regression2_TutorialExercises_23_0.png"
      }
     },
     "output_type": "display_data"
    }
   ],
   "source": [
    "sns.lmplot(data=ess, x='age', y='better', hue='vote', scatter=False, palette={'Labour':'r', 'Any other party':'g', 'Conservative':'b'})\n",
    "plt.show()"
   ]
  },
  {
   "cell_type": "markdown",
   "id": "7852d0f3",
   "metadata": {},
   "source": [
    "Interpret the results in your own words. \n",
    "\n",
    "Check your understanding with your classmates or your tutor. \n",
    "\n",
    "(Hint: where is the gap between between Labour and Conservative supporters smaller, and where it is wider?). Does this make sense to you, in terms of people you know? (Do you know many young Conservatives?) "
   ]
  },
  {
   "cell_type": "markdown",
   "id": "cea0a006",
   "metadata": {},
   "source": [
    "## Further Exercises\n",
    "\n",
    "1. Can you run 3 separate regression models for Conservative voters, Labour voters, and Other? \n",
    "* I'd recommend creating three separate data frames for each political preference"
   ]
  },
  {
   "cell_type": "code",
   "execution_count": 13,
   "id": "23028ef5",
   "metadata": {},
   "outputs": [],
   "source": [
    "# your code here!"
   ]
  },
  {
   "cell_type": "markdown",
   "id": "5875d32e",
   "metadata": {},
   "source": [
    "2. Just by eyeballing the coefficients, do you think there might be any other significant interactions?\n",
    "\n",
    "3. A conceptual question: What other variables would you like to include in the model for explaining attitudes to immigration? (Things that are not included in this data set, but you think are likely to be important. Just assume the measures would be available!)\n"
   ]
  },
  {
   "cell_type": "code",
   "execution_count": null,
   "id": "6e0f8297",
   "metadata": {},
   "outputs": [],
   "source": []
  }
 ],
 "metadata": {
  "kernelspec": {
   "display_name": "Python 3 (ipykernel)",
   "language": "python",
   "name": "python3"
  },
  "language_info": {
   "codemirror_mode": {
    "name": "ipython",
    "version": 3
   },
   "file_extension": ".py",
   "mimetype": "text/x-python",
   "name": "python",
   "nbconvert_exporter": "python",
   "pygments_lexer": "ipython3",
   "version": "3.9.13"
  }
 },
 "nbformat": 4,
 "nbformat_minor": 5
}