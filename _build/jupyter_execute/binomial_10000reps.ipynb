{
 "cells": [
  {
   "cell_type": "markdown",
   "id": "aca77593",
   "metadata": {},
   "source": [
    "# Repeat the simulation\n",
    "\n",
    "In the last section you simulated 10 coin tosses and you may or may not have obtained 5 heads. \n",
    "\n",
    "So far so good.\n",
    "\n",
    "But the question we actually needed to answer was:\n",
    "\n",
    "\"What proportion of the time we would obtain exacly 5 heads if we repeated the process of tossing the coin 10 times again and again?\"\n",
    "\n",
    "To answer this we need to get 10 coin tosses and count the heads not once, but lots of times. \n",
    "\n",
    "The computer can easily do this in a few milliseconds, even though it would take us ages with a real coin.\n",
    "\n",
    "## 10,000 times 10 coin tosses\n",
    "\n",
    "We are going to simulate tossing the coin 10 times and counting how many head we get, 10,000 times over. This will give us a sense of the frequency of each different outcome (0 heads, 1 head, 2 heads.... 10 heads)\n"
   ]
  },
  {
   "cell_type": "markdown",
   "id": "fbeb6524",
   "metadata": {},
   "source": [
    "### Set up Python libraries\n",
    "\n",
    "As usual, run the code cell below to import the relevant Python libraries"
   ]
  },
  {
   "cell_type": "code",
   "execution_count": 1,
   "id": "f85b9836",
   "metadata": {},
   "outputs": [],
   "source": [
    "# Set-up Python libraries - you need to run this but you don't need to change it\n",
    "import numpy as np\n",
    "import matplotlib.pyplot as plt\n",
    "import scipy.stats as stats\n",
    "import pandas \n",
    "import seaborn as sns\n",
    "sns.set_theme() # use pretty defaults"
   ]
  },
  {
   "cell_type": "markdown",
   "id": "249d431a",
   "metadata": {},
   "source": [
    "Let's repeat our 10-coin-toss 'experiment' 10,000 times and each time record the value of $k$, the number of heads"
   ]
  },
  {
   "cell_type": "code",
   "execution_count": 2,
   "id": "fcfbe202",
   "metadata": {},
   "outputs": [],
   "source": [
    "nReps = 10000\n",
    "k = np.empty(nReps)\n",
    "\n",
    "for i in np.arange(len(k)): # we are going to simlulte 10,000 repeats of 10 coin tosses\n",
    "    k[i] = np.random.binomial(10,0.5)"
   ]
  },
  {
   "cell_type": "markdown",
   "id": "53c73ee6",
   "metadata": {},
   "source": [
    "OK, now we have an array with 10,000 entries showing how many heads we got out of 10 coin tosses, in each of 10,000 repeats.\n",
    "\n",
    "We will need to summarize that, perhaps in a histogram"
   ]
  },
  {
   "cell_type": "code",
   "execution_count": 3,
   "id": "1b69fb82",
   "metadata": {},
   "outputs": [
    {
     "data": {
      "text/plain": [
       "<AxesSubplot:ylabel='count'>"
      ]
     },
     "execution_count": 3,
     "metadata": {},
     "output_type": "execute_result"
    },
    {
     "data": {
      "image/png": "[encoded data removed]",
      "text/plain": [
       "<Figure size 640x480 with 1 Axes>"
      ]
     },
     "metadata": {
      "filenames": {
       "image/png": "/Users/joreilly/Desktop/JupyterNotebooks/StatsCourseBook/StatsCourseBook/_build/jupyter_execute/binomial_10000reps_6_1.png"
      }
     },
     "output_type": "display_data"
    }
   ],
   "source": [
    "sns.countplot(x=k, order=range(11)) \n",
    "\n",
    "# n.b. argument 'order' sets the x-axis values for which to plot counts - \n",
    "# here this was the numbers 0,1,2....10, given by range(11)"
   ]
  },
  {
   "cell_type": "markdown",
   "id": "760ac4f9",
   "metadata": {},
   "source": [
    "Or perhaps we would like to know what proportion of times we get 8 or more heads out of 10 coin tosses?"
   ]
  },
  {
   "cell_type": "code",
   "execution_count": 4,
   "id": "a134db6d",
   "metadata": {},
   "outputs": [
    {
     "data": {
      "text/plain": [
       "0.0526"
      ]
     },
     "execution_count": 4,
     "metadata": {},
     "output_type": "execute_result"
    }
   ],
   "source": [
    "sum(k>=8)/nReps"
   ]
  },
  {
   "cell_type": "markdown",
   "id": "b9a7492c",
   "metadata": {},
   "source": [
    "... or what proportion of times we get exactly 8/10 heads?"
   ]
  },
  {
   "cell_type": "code",
   "execution_count": 5,
   "id": "ed759d89",
   "metadata": {},
   "outputs": [
    {
     "data": {
      "text/plain": [
       "0.0412"
      ]
     },
     "execution_count": 5,
     "metadata": {},
     "output_type": "execute_result"
    }
   ],
   "source": [
    "sum(k==8)/nReps"
   ]
  },
  {
   "cell_type": "code",
   "execution_count": null,
   "id": "08691267",
   "metadata": {},
   "outputs": [],
   "source": []
  }
 ],
 "metadata": {
  "kernelspec": {
   "display_name": "Python 3 (ipykernel)",
   "language": "python",
   "name": "python3"
  },
  "language_info": {
   "codemirror_mode": {
    "name": "ipython",
    "version": 3
   },
   "file_extension": ".py",
   "mimetype": "text/x-python",
   "name": "python",
   "nbconvert_exporter": "python",
   "pygments_lexer": "ipython3",
   "version": "3.9.13"
  }
 },
 "nbformat": 4,
 "nbformat_minor": 5
}