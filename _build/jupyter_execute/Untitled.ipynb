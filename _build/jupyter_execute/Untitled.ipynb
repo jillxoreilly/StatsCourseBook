{
 "cells": [
  {
   "cell_type": "markdown",
   "id": "e92c6cc7",
   "metadata": {},
   "source": [
    "## Further exercises\n",
    "\n",
    "In 1885 Francis Galton famously collected data on the heights (amongst other features) of a large number of family groups - over 800 individuals\n",
    "\n",
    "These data were important in the development of some classic statistics (like correlation) and some important ideas (like regression to the mean).\n",
    "\n",
    "Plotting these data we can see how histograms could work for a larger dataset\n",
    "\n",
    "Load the file \"GaltonsHeightData.csv\""
   ]
  },
  {
   "cell_type": "code",
   "execution_count": 1,
   "id": "cb3edeb8",
   "metadata": {},
   "outputs": [
    {
     "ename": "NameError",
     "evalue": "name 'pandas' is not defined",
     "output_type": "error",
     "traceback": [
      "\u001b[0;31m---------------------------------------------------------------------------\u001b[0m",
      "\u001b[0;31mNameError\u001b[0m                                 Traceback (most recent call last)",
      "\u001b[0;32m/var/folders/q4/twg1yll54y142rc02m5wwbt40000gr/T/ipykernel_93927/1556927894.py\u001b[0m in \u001b[0;36m<module>\u001b[0;34m\u001b[0m\n\u001b[0;32m----> 1\u001b[0;31m \u001b[0mgaltonData\u001b[0m \u001b[0;34m=\u001b[0m \u001b[0mpandas\u001b[0m\u001b[0;34m.\u001b[0m\u001b[0mread_csv\u001b[0m\u001b[0;34m(\u001b[0m\u001b[0;34m'data/GaltonsHeightData.csv'\u001b[0m\u001b[0;34m)\u001b[0m\u001b[0;34m\u001b[0m\u001b[0;34m\u001b[0m\u001b[0m\n\u001b[0m\u001b[1;32m      2\u001b[0m \u001b[0mdisplay\u001b[0m\u001b[0;34m(\u001b[0m\u001b[0mgaltonData\u001b[0m\u001b[0;34m)\u001b[0m\u001b[0;34m\u001b[0m\u001b[0;34m\u001b[0m\u001b[0m\n",
      "\u001b[0;31mNameError\u001b[0m: name 'pandas' is not defined"
     ]
    }
   ],
   "source": [
    "galtonData = pandas.read_csv('data/GaltonsHeightData.csv')\n",
    "display(galtonData)"
   ]
  },
  {
   "cell_type": "code",
   "execution_count": null,
   "id": "0f45ba3c",
   "metadata": {},
   "outputs": [],
   "source": []
  }
 ],
 "metadata": {
  "kernelspec": {
   "display_name": "Python 3 (ipykernel)",
   "language": "python",
   "name": "python3"
  },
  "language_info": {
   "codemirror_mode": {
    "name": "ipython",
    "version": 3
   },
   "file_extension": ".py",
   "mimetype": "text/x-python",
   "name": "python",
   "nbconvert_exporter": "python",
   "pygments_lexer": "ipython3",
   "version": "3.9.13"
  }
 },
 "nbformat": 4,
 "nbformat_minor": 5
}