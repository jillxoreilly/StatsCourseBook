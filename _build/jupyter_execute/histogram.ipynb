{
 "cells": [
  {
   "cell_type": "markdown",
   "id": "8501b536",
   "metadata": {},
   "source": [
    "# Histogram\n",
    "\n",
    "If we want to see the shape of a data distribution, the histgram can be a good choice\n",
    "\n",
    "In this section we will see how to plot a histogram using Python and what choices we can make to show the data distriubtion clearly and accurately\n",
    "\n",
    "We will also consider some of the limitations of the histogram for small datasets and meet a related plot, the Kernel Density Estimate plot "
   ]
  },
  {
   "cell_type": "markdown",
   "id": "06a3540a",
   "metadata": {},
   "source": [
    "### Set up Python libraries\n",
    "\n",
    "As usual, run the code cell below to import the relevant Python libraries"
   ]
  },
  {
   "cell_type": "code",
   "execution_count": 1,
   "id": "7f1d34e0",
   "metadata": {},
   "outputs": [],
   "source": [
    "# Set-up Python libraries - you need to run this but you don't need to change it\n",
    "import numpy as np\n",
    "import matplotlib.pyplot as plt\n",
    "import scipy.stats as stats\n",
    "import pandas \n",
    "import seaborn as sns"
   ]
  },
  {
   "cell_type": "markdown",
   "id": "fb218a2a",
   "metadata": {},
   "source": [
    "## Example\n",
    "\n",
    "### Load and inspect the data"
   ]
  },
  {
   "cell_type": "markdown",
   "id": "7fc0c7de",
   "metadata": {},
   "source": [
    "<img src= \"images/tallVshort.jpg\" width=50% alt=\"A picture of people of different heights\"  />"
   ]
  },
  {
   "cell_type": "markdown",
   "id": "3bbd70d4",
   "metadata": {},
   "source": [
    "Load the file brotherSisterData.csv which contains heights in cm for 25 brother-sister pairs"
   ]
  },
  {
   "cell_type": "code",
   "execution_count": 2,
   "id": "5b37c633",
   "metadata": {},
   "outputs": [
    {
     "data": {
      "text/html": [
       "<div>\n",
       "<style scoped>\n",
       "    .dataframe tbody tr th:only-of-type {\n",
       "        vertical-align: middle;\n",
       "    }\n",
       "\n",
       "    .dataframe tbody tr th {\n",
       "        vertical-align: top;\n",
       "    }\n",
       "\n",
       "    .dataframe thead th {\n",
       "        text-align: right;\n",
       "    }\n",
       "</style>\n",
       "<table border=\"1\" class=\"dataframe\">\n",
       "  <thead>\n",
       "    <tr style=\"text-align: right;\">\n",
       "      <th></th>\n",
       "      <th>brother</th>\n",
       "      <th>sister</th>\n",
       "    </tr>\n",
       "  </thead>\n",
       "  <tbody>\n",
       "    <tr>\n",
       "      <th>0</th>\n",
       "      <td>174</td>\n",
       "      <td>172</td>\n",
       "    </tr>\n",
       "    <tr>\n",
       "      <th>1</th>\n",
       "      <td>183</td>\n",
       "      <td>180</td>\n",
       "    </tr>\n",
       "    <tr>\n",
       "      <th>2</th>\n",
       "      <td>154</td>\n",
       "      <td>148</td>\n",
       "    </tr>\n",
       "    <tr>\n",
       "      <th>3</th>\n",
       "      <td>172</td>\n",
       "      <td>180</td>\n",
       "    </tr>\n",
       "    <tr>\n",
       "      <th>4</th>\n",
       "      <td>172</td>\n",
       "      <td>165</td>\n",
       "    </tr>\n",
       "    <tr>\n",
       "      <th>5</th>\n",
       "      <td>161</td>\n",
       "      <td>159</td>\n",
       "    </tr>\n",
       "    <tr>\n",
       "      <th>6</th>\n",
       "      <td>167</td>\n",
       "      <td>159</td>\n",
       "    </tr>\n",
       "    <tr>\n",
       "      <th>7</th>\n",
       "      <td>172</td>\n",
       "      <td>164</td>\n",
       "    </tr>\n",
       "    <tr>\n",
       "      <th>8</th>\n",
       "      <td>195</td>\n",
       "      <td>188</td>\n",
       "    </tr>\n",
       "    <tr>\n",
       "      <th>9</th>\n",
       "      <td>189</td>\n",
       "      <td>175</td>\n",
       "    </tr>\n",
       "    <tr>\n",
       "      <th>10</th>\n",
       "      <td>161</td>\n",
       "      <td>160</td>\n",
       "    </tr>\n",
       "    <tr>\n",
       "      <th>11</th>\n",
       "      <td>181</td>\n",
       "      <td>177</td>\n",
       "    </tr>\n",
       "    <tr>\n",
       "      <th>12</th>\n",
       "      <td>175</td>\n",
       "      <td>168</td>\n",
       "    </tr>\n",
       "    <tr>\n",
       "      <th>13</th>\n",
       "      <td>170</td>\n",
       "      <td>169</td>\n",
       "    </tr>\n",
       "    <tr>\n",
       "      <th>14</th>\n",
       "      <td>175</td>\n",
       "      <td>165</td>\n",
       "    </tr>\n",
       "    <tr>\n",
       "      <th>15</th>\n",
       "      <td>169</td>\n",
       "      <td>164</td>\n",
       "    </tr>\n",
       "    <tr>\n",
       "      <th>16</th>\n",
       "      <td>169</td>\n",
       "      <td>163</td>\n",
       "    </tr>\n",
       "    <tr>\n",
       "      <th>17</th>\n",
       "      <td>180</td>\n",
       "      <td>176</td>\n",
       "    </tr>\n",
       "    <tr>\n",
       "      <th>18</th>\n",
       "      <td>180</td>\n",
       "      <td>176</td>\n",
       "    </tr>\n",
       "    <tr>\n",
       "      <th>19</th>\n",
       "      <td>180</td>\n",
       "      <td>172</td>\n",
       "    </tr>\n",
       "    <tr>\n",
       "      <th>20</th>\n",
       "      <td>175</td>\n",
       "      <td>170</td>\n",
       "    </tr>\n",
       "    <tr>\n",
       "      <th>21</th>\n",
       "      <td>162</td>\n",
       "      <td>157</td>\n",
       "    </tr>\n",
       "    <tr>\n",
       "      <th>22</th>\n",
       "      <td>175</td>\n",
       "      <td>172</td>\n",
       "    </tr>\n",
       "    <tr>\n",
       "      <th>23</th>\n",
       "      <td>181</td>\n",
       "      <td>179</td>\n",
       "    </tr>\n",
       "    <tr>\n",
       "      <th>24</th>\n",
       "      <td>173</td>\n",
       "      <td>171</td>\n",
       "    </tr>\n",
       "  </tbody>\n",
       "</table>\n",
       "</div>"
      ],
      "text/plain": [
       "    brother  sister\n",
       "0       174     172\n",
       "1       183     180\n",
       "2       154     148\n",
       "3       172     180\n",
       "4       172     165\n",
       "5       161     159\n",
       "6       167     159\n",
       "7       172     164\n",
       "8       195     188\n",
       "9       189     175\n",
       "10      161     160\n",
       "11      181     177\n",
       "12      175     168\n",
       "13      170     169\n",
       "14      175     165\n",
       "15      169     164\n",
       "16      169     163\n",
       "17      180     176\n",
       "18      180     176\n",
       "19      180     172\n",
       "20      175     170\n",
       "21      162     157\n",
       "22      175     172\n",
       "23      181     179\n",
       "24      173     171"
      ]
     },
     "metadata": {},
     "output_type": "display_data"
    }
   ],
   "source": [
    "heightData = pandas.read_csv('data/brotherSisterData.csv')\n",
    "display(heightData)"
   ]
  },
  {
   "cell_type": "markdown",
   "id": "7006abed",
   "metadata": {},
   "source": [
    "In this section, we are going to focus just on the brothers.\n",
    "\n",
    "Let's start by plotting a histogram of the data to see what the distriubtion of heights is."
   ]
  },
  {
   "cell_type": "code",
   "execution_count": 3,
   "id": "d1ee3ecd",
   "metadata": {},
   "outputs": [
    {
     "data": {
      "text/plain": [
       "Text(0, 0.5, 'frequency')"
      ]
     },
     "execution_count": 3,
     "metadata": {},
     "output_type": "execute_result"
    },
    {
     "data": {
      "image/png": "[encoded data removed]",
      "text/plain": [
       "<Figure size 432x288 with 1 Axes>"
      ]
     },
     "metadata": {
      "filenames": {
       "image/png": "/Users/joreilly/Desktop/JupyterNotebooks/StatsCourseBook/StatsCourseBook/_build/jupyter_execute/histogram_8_1.png"
      },
      "needs_background": "light"
     },
     "output_type": "display_data"
    }
   ],
   "source": [
    "sns.histplot(heightData[\"brother\"],  bins = range(150,200,5), color='b')\n",
    "plt.xlabel('brother\\'s height') \n",
    "plt.ylabel('frequency')"
   ]
  },
  {
   "cell_type": "markdown",
   "id": "5fcca7b0",
   "metadata": {},
   "source": [
    "## Bin size\n",
    "\n",
    "I used bins of 5cm to group the heights, and used x-axis values from 150 to 200 cm. \n",
    "<ul>\n",
    "<li>Can you find where in the code this is specified?\n",
    "<li>Change the width of the bins in the code below to 1cm. \n",
    "What do you notice? Can you see the shape of the distribution better or worse using the 1cm bins?\n",
    "</ul>"
   ]
  },
  {
   "cell_type": "code",
   "execution_count": 4,
   "id": "24afb36e",
   "metadata": {},
   "outputs": [
    {
     "data": {
      "text/plain": [
       "Text(0, 0.5, 'frequency')"
      ]
     },
     "execution_count": 4,
     "metadata": {},
     "output_type": "execute_result"
    },
    {
     "data": {
      "image/png": "[encoded data removed]",
      "text/plain": [
       "<Figure size 432x288 with 1 Axes>"
      ]
     },
     "metadata": {
      "filenames": {
       "image/png": "/Users/joreilly/Desktop/JupyterNotebooks/StatsCourseBook/StatsCourseBook/_build/jupyter_execute/histogram_10_1.png"
      },
      "needs_background": "light"
     },
     "output_type": "display_data"
    }
   ],
   "source": [
    "sns.histplot(heightData[\"brother\"],  bins = range(150,200,1), color='b') # hint - the numbers 150, 200 and 5 are the minimum/maximum x axis values and the bin size\n",
    "plt.xlabel('brother\\'s height') \n",
    "plt.ylabel('frequency')"
   ]
  },
  {
   "cell_type": "markdown",
   "id": "8d8d6e29",
   "metadata": {},
   "source": [
    "### Bin boundaries\n",
    "\n",
    "One problem with using a histogram when you have only a small number of data points is \n",
    "that the shape of the histogram can depend a lot on where the bin boundaries happen to fall. \n",
    "\n",
    "Look at the following plot of brothers' heights, again grouped into 5cm bins but with different bin boundaries: \n",
    "\n",
    "<ul>\n",
    "    <li> Aside - what change in the code moved the bin boundaries?\n",
    "    <li> What were the old in boundaries? What are the new bin boundaries?\n",
    "</ul>"
   ]
  },
  {
   "cell_type": "code",
   "execution_count": 5,
   "id": "cc00f97d",
   "metadata": {},
   "outputs": [
    {
     "data": {
      "text/plain": [
       "Text(0, 0.5, 'frequency')"
      ]
     },
     "execution_count": 5,
     "metadata": {},
     "output_type": "execute_result"
    },
    {
     "data": {
      "image/png": "[encoded data removed]",
      "text/plain": [
       "<Figure size 432x288 with 1 Axes>"
      ]
     },
     "metadata": {
      "filenames": {
       "image/png": "/Users/joreilly/Desktop/JupyterNotebooks/StatsCourseBook/StatsCourseBook/_build/jupyter_execute/histogram_12_1.png"
      },
      "needs_background": "light"
     },
     "output_type": "display_data"
    }
   ],
   "source": [
    "sns.histplot(heightData[\"brother\"],  bins = range(152,202,5), color='b')\n",
    "plt.xlabel('brother\\'s height') \n",
    "plt.ylabel('frequency')"
   ]
  },
  {
   "cell_type": "markdown",
   "id": "efa1d4cf",
   "metadata": {},
   "source": [
    "The shape of the distribution looks quite different!\n",
    "\n",
    "We can see this more clearly if we plot both versions next to each other:"
   ]
  },
  {
   "cell_type": "code",
   "execution_count": 6,
   "id": "2697f098",
   "metadata": {},
   "outputs": [
    {
     "data": {
      "text/plain": [
       "(0.0, 10.0)"
      ]
     },
     "execution_count": 6,
     "metadata": {},
     "output_type": "execute_result"
    },
    {
     "data": {
      "image/png": "[encoded data removed]",
      "text/plain": [
       "<Figure size 432x288 with 2 Axes>"
      ]
     },
     "metadata": {
      "filenames": {
       "image/png": "/Users/joreilly/Desktop/JupyterNotebooks/StatsCourseBook/StatsCourseBook/_build/jupyter_execute/histogram_14_1.png"
      },
      "needs_background": "light"
     },
     "output_type": "display_data"
    }
   ],
   "source": [
    "plt.subplot(1,2,1)\n",
    "sns.histplot(heightData[\"brother\"],  bins = range(150,200,5), color='b')\n",
    "plt.xlabel('brother\\'s height') \n",
    "plt.ylabel('frequency')\n",
    "plt.ylim((0,10)) # this sets the y axis limits rather than letting the computer choose them automatically\n",
    "\n",
    "plt.subplot(1,2,2)\n",
    "sns.histplot(heightData[\"brother\"],  bins = range(152,202,5), color='b') \n",
    "plt.xlabel('brother\\'s height') \n",
    "plt.ylabel('frequency')\n",
    "plt.ylim((0,10))"
   ]
  },
  {
   "cell_type": "markdown",
   "id": "8fccd808",
   "metadata": {},
   "source": [
    "Originally (left) the bin boundaries were at 150cm, 155cm, 160cm etc.\n",
    "\n",
    "In the second histogram (right) the bin boundaries were at 152cm, 157cm, 162cm etc.\n",
    "\n",
    "Moving the bin boundaries changed how many observations fell in each bin and thus the shape of the histogram. This can happen easily when you have a small number of observations in each bin (check the y-axis in the above histogram - you can see that moving just one observation makes a big difference to the height of the bars).\n",
    "\n",
    "For this reason, a histogram may not be the best representation of the data for a small sample.\n",
    "\n",
    "<ul>\n",
    "    <li> aside - I added a line of code to set the y axis limits to be [0,10] - why do you think I did this?\n",
    "    <li> Try removing or commenting it out and see how the two histograms change - is it easier to compare with fixed or automatic y-axis?\n",
    "</ul>"
   ]
  },
  {
   "cell_type": "markdown",
   "id": "ff79fb87",
   "metadata": {},
   "source": [
    "### KDE plot \n",
    "\n",
    "Python has a solution to this problem in the form of the KDE (Kernel Density Estimate) plot. \n",
    "\n",
    "The KDE plot estimates a smooth distribution shape that fits the underlying observations. \n",
    "\n",
    "You can think of it as the average of all the histograms you would get if you tried all the possible sets of bin boundaries.\n",
    "\n",
    "We can add a kde plot to the histogram by adding an extra <i>argument</i> to the function <tt>sns.histplot</tt>\n",
    "<ul>\n",
    "    <li>Can you find the extra argument that adds the KDE plot?\n",
    "</ul>"
   ]
  },
  {
   "cell_type": "code",
   "execution_count": 7,
   "id": "c54be0f4",
   "metadata": {},
   "outputs": [
    {
     "data": {
      "text/plain": [
       "(0.0, 10.0)"
      ]
     },
     "execution_count": 7,
     "metadata": {},
     "output_type": "execute_result"
    },
    {
     "data": {
      "image/png": "[encoded data removed]",
      "text/plain": [
       "<Figure size 432x288 with 2 Axes>"
      ]
     },
     "metadata": {
      "filenames": {
       "image/png": "/Users/joreilly/Desktop/JupyterNotebooks/StatsCourseBook/StatsCourseBook/_build/jupyter_execute/histogram_17_1.png"
      },
      "needs_background": "light"
     },
     "output_type": "display_data"
    }
   ],
   "source": [
    "plt.subplot(1,2,1)\n",
    "sns.histplot(heightData[\"brother\"],  color='b', bins = range(150,200,5), kde=\"True\")\n",
    "plt.ylim((0,10))\n",
    "\n",
    "plt.subplot(1,2,2)\n",
    "sns.histplot(heightData[\"brother\"],  color='b', bins = range(152,202,5), kde=\"True\")\n",
    "plt.ylim((0,10))"
   ]
  },
  {
   "cell_type": "markdown",
   "id": "84d6c74e",
   "metadata": {},
   "source": [
    "Note that although the histograms, which have different bin boundaries, look different, the KDE plot always looks the same."
   ]
  },
  {
   "cell_type": "markdown",
   "id": "a72e9889",
   "metadata": {},
   "source": [
    "### KDE plot on its own\n",
    "\n",
    "Arguablby, the histograms are a bit misleading (given that the bin boundaries I happen to choose make such a difference).\n",
    "\n",
    "I sometimes like to use the KDE plot without a histogram, but to show the individual data points as ticks along the x axis using <tt>sns.rugplot</tt>"
   ]
  },
  {
   "cell_type": "code",
   "execution_count": 8,
   "id": "1dcaef89",
   "metadata": {},
   "outputs": [
    {
     "data": {
      "text/plain": [
       "<AxesSubplot:xlabel='brother', ylabel='Density'>"
      ]
     },
     "execution_count": 8,
     "metadata": {},
     "output_type": "execute_result"
    },
    {
     "data": {
      "image/png": "[encoded data removed]",
      "text/plain": [
       "<Figure size 432x288 with 1 Axes>"
      ]
     },
     "metadata": {
      "filenames": {
       "image/png": "/Users/joreilly/Desktop/JupyterNotebooks/StatsCourseBook/StatsCourseBook/_build/jupyter_execute/histogram_20_1.png"
      },
      "needs_background": "light"
     },
     "output_type": "display_data"
    }
   ],
   "source": [
    "sns.kdeplot(heightData[\"brother\"],  color='b', shade=\"True\") # plot the KDE\n",
    "sns.rugplot(heightData[\"brother\"],  color='b', height=0.1) # plot individual datapoints as ticks on x axis"
   ]
  },
  {
   "cell_type": "markdown",
   "id": "321d0ba2",
   "metadata": {},
   "source": [
    "I like including the rugplot as it shows the reader how many datapoint the KDE was based on, and where they fell on the x-axis. For example, the KDE shows that the distribution is non-zero for people over 200cm, but the tallest person in our actual sample is 196cm.\n",
    "\n",
    "#### Probability density\n",
    "\n",
    "When we plot the KDE as a standalone (rather than over a histogram) the x-axis changes to 'Density' rather than 'count'. \n",
    "\n",
    "The values of density are such that the area under the curve of the KDE plot is 1. Technically it is a <i>probability density</i>. It means that probabilities could be read off the graph - so the probability of a member of our sample (one of the brothers) having a height between 160 and 170cm is the same as the area under the curve between 160 and 170cm.\n"
   ]
  },
  {
   "cell_type": "markdown",
   "id": "1fc3cce1",
   "metadata": {},
   "source": [
    "#### Bandwidth\n",
    "\n",
    "I said you can think of the KDE plot as a kind of average of all the histograms you would get if you tried all the possile locations for bin boundaries (150,155,160, vs 151,156,161 etc)\n",
    "\n",
    "This is true but it only averages histograms for one possible bin <i>width</i>, which is chosen by the computer to give (generally) a good result.\n",
    "\n",
    "You saw above that changing the bin width from 5cm to 1cm changed the balance between showing to overall shape of the distribution (where is the main peak) vs the details (details more visible with a small bin boundary).\n",
    "\n",
    "Try adjusting the code below to draw the KDE plot with a narrower bandwidth (equivalent to narrower bins) and see what happens\n",
    "<ul>\n",
    "    <li> The argument <tt>bw_adjust</tt> is a scaling factor for the default bandwidth chosen by the computer.\n",
    "    <li> If <tt>bw_adjust = 1.0</tt> the default bandwidth is used\n",
    "    <li> If <tt>bw_adjust = 0.5</tt>, a narrower bandwith of half the default is used\n",
    "    <li> If <tt>bw_adjust = 2.0</tt>, a wider bandwith of twice the default is used\n",
    "</ul>\n",
    "Try out some different values for <tt>bw_adjust</tt> to get a more detailed, or a smoother, KDE - you could try 1.0, 2.0, 0.5 and 0.1"
   ]
  },
  {
   "cell_type": "code",
   "execution_count": 9,
   "id": "bde77280",
   "metadata": {},
   "outputs": [
    {
     "data": {
      "text/plain": [
       "<AxesSubplot:xlabel='brother', ylabel='Density'>"
      ]
     },
     "execution_count": 9,
     "metadata": {},
     "output_type": "execute_result"
    },
    {
     "data": {
      "image/png": "[encoded data removed]",
      "text/plain": [
       "<Figure size 432x288 with 1 Axes>"
      ]
     },
     "metadata": {
      "filenames": {
       "image/png": "/Users/joreilly/Desktop/JupyterNotebooks/StatsCourseBook/StatsCourseBook/_build/jupyter_execute/histogram_23_1.png"
      },
      "needs_background": "light"
     },
     "output_type": "display_data"
    }
   ],
   "source": [
    "sns.kdeplot(heightData[\"brother\"],  color='b', shade=\"True\", bw_adjust=1.0) # plot the KDE\n",
    "sns.rugplot(heightData[\"brother\"],  color='b', height=0.1) # plot individual datapoints as ticks on x axis"
   ]
  },
  {
   "cell_type": "markdown",
   "id": "e92c6cc7",
   "metadata": {},
   "source": [
    "## Further exercises\n",
    "\n",
    "In 1885 Francis Galton famously collected data on the heights (amongst other features) of a large number of family groups - over 800 individuals\n",
    "\n",
    "These data were important in the development of some classic statistics (like correlation) and some important ideas (like regression to the mean).\n",
    "\n",
    "Plotting these data we can see how histograms could work for a larger dataset\n",
    "\n",
    "Load the file \"GaltonsHeightData.csv\""
   ]
  },
  {
   "cell_type": "code",
   "execution_count": 10,
   "id": "cb3edeb8",
   "metadata": {},
   "outputs": [
    {
     "data": {
      "text/html": [
       "<div>\n",
       "<style scoped>\n",
       "    .dataframe tbody tr th:only-of-type {\n",
       "        vertical-align: middle;\n",
       "    }\n",
       "\n",
       "    .dataframe tbody tr th {\n",
       "        vertical-align: top;\n",
       "    }\n",
       "\n",
       "    .dataframe thead th {\n",
       "        text-align: right;\n",
       "    }\n",
       "</style>\n",
       "<table border=\"1\" class=\"dataframe\">\n",
       "  <thead>\n",
       "    <tr style=\"text-align: right;\">\n",
       "      <th></th>\n",
       "      <th>Family</th>\n",
       "      <th>Father</th>\n",
       "      <th>Mother</th>\n",
       "      <th>Gender</th>\n",
       "      <th>Height</th>\n",
       "      <th>Kids</th>\n",
       "    </tr>\n",
       "  </thead>\n",
       "  <tbody>\n",
       "    <tr>\n",
       "      <th>0</th>\n",
       "      <td>1</td>\n",
       "      <td>78.5</td>\n",
       "      <td>67.0</td>\n",
       "      <td>M</td>\n",
       "      <td>73.2</td>\n",
       "      <td>4</td>\n",
       "    </tr>\n",
       "    <tr>\n",
       "      <th>1</th>\n",
       "      <td>1</td>\n",
       "      <td>78.5</td>\n",
       "      <td>67.0</td>\n",
       "      <td>F</td>\n",
       "      <td>69.2</td>\n",
       "      <td>4</td>\n",
       "    </tr>\n",
       "    <tr>\n",
       "      <th>2</th>\n",
       "      <td>1</td>\n",
       "      <td>78.5</td>\n",
       "      <td>67.0</td>\n",
       "      <td>F</td>\n",
       "      <td>69.0</td>\n",
       "      <td>4</td>\n",
       "    </tr>\n",
       "    <tr>\n",
       "      <th>3</th>\n",
       "      <td>1</td>\n",
       "      <td>78.5</td>\n",
       "      <td>67.0</td>\n",
       "      <td>F</td>\n",
       "      <td>69.0</td>\n",
       "      <td>4</td>\n",
       "    </tr>\n",
       "    <tr>\n",
       "      <th>4</th>\n",
       "      <td>2</td>\n",
       "      <td>75.5</td>\n",
       "      <td>66.5</td>\n",
       "      <td>M</td>\n",
       "      <td>73.5</td>\n",
       "      <td>4</td>\n",
       "    </tr>\n",
       "    <tr>\n",
       "      <th>...</th>\n",
       "      <td>...</td>\n",
       "      <td>...</td>\n",
       "      <td>...</td>\n",
       "      <td>...</td>\n",
       "      <td>...</td>\n",
       "      <td>...</td>\n",
       "    </tr>\n",
       "    <tr>\n",
       "      <th>893</th>\n",
       "      <td>205</td>\n",
       "      <td>68.5</td>\n",
       "      <td>65.0</td>\n",
       "      <td>M</td>\n",
       "      <td>68.5</td>\n",
       "      <td>8</td>\n",
       "    </tr>\n",
       "    <tr>\n",
       "      <th>894</th>\n",
       "      <td>205</td>\n",
       "      <td>68.5</td>\n",
       "      <td>65.0</td>\n",
       "      <td>M</td>\n",
       "      <td>67.7</td>\n",
       "      <td>8</td>\n",
       "    </tr>\n",
       "    <tr>\n",
       "      <th>895</th>\n",
       "      <td>205</td>\n",
       "      <td>68.5</td>\n",
       "      <td>65.0</td>\n",
       "      <td>F</td>\n",
       "      <td>64.0</td>\n",
       "      <td>8</td>\n",
       "    </tr>\n",
       "    <tr>\n",
       "      <th>896</th>\n",
       "      <td>205</td>\n",
       "      <td>68.5</td>\n",
       "      <td>65.0</td>\n",
       "      <td>F</td>\n",
       "      <td>63.5</td>\n",
       "      <td>8</td>\n",
       "    </tr>\n",
       "    <tr>\n",
       "      <th>897</th>\n",
       "      <td>205</td>\n",
       "      <td>68.5</td>\n",
       "      <td>65.0</td>\n",
       "      <td>F</td>\n",
       "      <td>63.0</td>\n",
       "      <td>8</td>\n",
       "    </tr>\n",
       "  </tbody>\n",
       "</table>\n",
       "<p>898 rows × 6 columns</p>\n",
       "</div>"
      ],
      "text/plain": [
       "     Family  Father  Mother Gender  Height  Kids\n",
       "0         1    78.5    67.0      M    73.2     4\n",
       "1         1    78.5    67.0      F    69.2     4\n",
       "2         1    78.5    67.0      F    69.0     4\n",
       "3         1    78.5    67.0      F    69.0     4\n",
       "4         2    75.5    66.5      M    73.5     4\n",
       "..      ...     ...     ...    ...     ...   ...\n",
       "893     205    68.5    65.0      M    68.5     8\n",
       "894     205    68.5    65.0      M    67.7     8\n",
       "895     205    68.5    65.0      F    64.0     8\n",
       "896     205    68.5    65.0      F    63.5     8\n",
       "897     205    68.5    65.0      F    63.0     8\n",
       "\n",
       "[898 rows x 6 columns]"
      ]
     },
     "metadata": {},
     "output_type": "display_data"
    }
   ],
   "source": [
    "galtonData = pandas.read_csv('data/GaltonsHeightData.csv')\n",
    "display(galtonData)"
   ]
  },
  {
   "cell_type": "code",
   "execution_count": null,
   "id": "f6941a2c",
   "metadata": {},
   "outputs": [],
   "source": []
  }
 ],
 "metadata": {
  "kernelspec": {
   "display_name": "Python 3 (ipykernel)",
   "language": "python",
   "name": "python3"
  },
  "language_info": {
   "codemirror_mode": {
    "name": "ipython",
    "version": 3
   },
   "file_extension": ".py",
   "mimetype": "text/x-python",
   "name": "python",
   "nbconvert_exporter": "python",
   "pygments_lexer": "ipython3",
   "version": "3.9.7"
  }
 },
 "nbformat": 4,
 "nbformat_minor": 5
}