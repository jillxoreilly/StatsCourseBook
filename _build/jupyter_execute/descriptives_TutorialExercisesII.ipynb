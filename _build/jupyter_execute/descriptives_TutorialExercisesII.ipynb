{
 "cells": [
  {
   "cell_type": "markdown",
   "id": "e52148c7",
   "metadata": {},
   "source": [
    "# Tutorial Exercises II - optional\n",
    "\n",
    "In this section we use our skills in creating <tt>for</tt> loops to investigate the properties of the mean and standard deviation\n",
    "\n",
    "This material will not be assessed but is presented for your interest and understanding (and to practice some coding!)\n",
    "\n",
    "You should only tackle it if you have plenty of time left in the tutorial after completing Tutorial Exercises I.\n",
    "\n",
    "This exercise involves more coding than the rest of the exercises this week - in particular it involves <tt>for</tt> loops. You may want to review the material in chapter 1, 'preparatory work' to help you with this. If you didn't get to do the 'preparatory work' yet, maybe just do that instead.\n",
    "\n",
    "\n",
    "## Why $(n-1)$?\n",
    "\n",
    "In the exercises and lecture this week, we calculated the mean and standard deviation of data. \n",
    "\n",
    "A casual description of the variance ($s^2$, standard deviation squared) is that it is approximately the average squared deviation between datapoints and the mean - therefore to calculate it we:\n",
    "<ul>\n",
    "    <li> calculate the difference between each data point and the mean\n",
    "    <li> square those differences\n",
    "    <li> add them all up\n",
    "    <li> divide by the number of datapoints\n",
    "</ul>\n",
    "\n",
    "That would suggest the following formula:\n",
    "\n",
    "(1)\n",
    "\n",
    "$$ s^2 = \\sum{\\frac{{(x_i - \\bar{x})}^2}{n}} $$ \n",
    "\n",
    "But in fact the formula has $(n-1)$ on the bottom:\n",
    "\n",
    "(2)\n",
    "\n",
    "$$ s^2 = \\sum{\\frac{{(x_i - \\bar{x})}^2}{n-1}} $$ \n",
    "\n",
    "Why? To understand this we first need to introduce the concept of <i>estimators</i>\n",
    "\n",
    "\n",
    "## Introducing <i>estimators</i>\n",
    "\n",
    "\n",
    "Typically, our dataset is a <i>sample</i> from a larger population and we want to use the mean and sd not so much to describe our sample, as to describe the (likely) properties of the population from which they are drawn.\n",
    "\n",
    "The mean and sd as we have been calculating them are actually estimators of the population mean and sd (based on the sample) - <i>not</i> a straight description of the sample.\n",
    "\n",
    "<img src=\"https://raw.githubusercontent.com/jillxoreilly/StatsCourseBook/main/images/Minion_what.jpg\" width=10% alt=\"What?!\" >\n",
    "\n",
    "To illustrate the difference between the sd of the sample itself, and the sd of the population as estimated from the sample:\n",
    "\n",
    "Say we measure the height of 10 men (this is a sample from a larger population with 20 million members). We are really interested in the characteristics of the population (the group of 20 million) - not just the 10 we happened to pick for our sample.\n",
    "\n",
    "<ol>\n",
    "<li>To describe the <i>sample</i>, we calculate the mean of the sample and the spread (sd) of the sample members about the sample mean\n",
    "<li>To describe the underlying <i>population</i>, we <i>estimate</i> the population mean, and estimate the spread (sd) of population members about the population mean\n",
    "</ol>\n",
    "    \n",
    "In case (2), we will use the sample mean and sample sd to help us estimate the population mean and population sd. \n",
    "\n",
    "Let's use simulation to find out what happens if we try to estimate the population standard deviation using the two different possible equations above, with either $n$ or $n-1$ on the bottom.\n",
    "\n",
    "## Demonstration by Simulation\n"
   ]
  },
  {
   "cell_type": "markdown",
   "id": "554bd33b",
   "metadata": {},
   "source": [
    "### Set up Python libraries\n",
    "\n",
    "As usual, run the code cell below to import the relevant Python libraries"
   ]
  },
  {
   "cell_type": "code",
   "execution_count": 1,
   "id": "6e215164",
   "metadata": {},
   "outputs": [],
   "source": [
    "# Set-up Python libraries - you need to run this but you don't need to change it\n",
    "import numpy as np\n",
    "import matplotlib.pyplot as plt\n",
    "import scipy.stats as stats\n",
    "import pandas \n",
    "import seaborn as sns\n",
    "sns.set_theme()"
   ]
  },
  {
   "cell_type": "markdown",
   "id": "48c7389f",
   "metadata": {},
   "source": [
    "### Population data\n",
    "\n",
    "Let's imagine that our population is all the men on the island of Shetland - about 10,000 people\n",
    "\n",
    "<img src=\"https://raw.githubusercontent.com/jillxoreilly/StatsCourseBook/main/images/Shetland.png\" width=\"60%\">\n"
   ]
  },
  {
   "cell_type": "markdown",
   "id": "5a538082",
   "metadata": {},
   "source": [
    "I'm going to create a <tt>numpy</tt> array of 10,000 heights (these are simulated data but you could do this with real data from a survey if you had them)"
   ]
  },
  {
   "cell_type": "code",
   "execution_count": 2,
   "id": "144479d9",
   "metadata": {},
   "outputs": [
    {
     "data": {
      "text/plain": [
       "Text(0.5, 0, 'Height (cm)')"
      ]
     },
     "execution_count": 2,
     "metadata": {},
     "output_type": "execute_result"
    },
    {
     "data": {
      "image/png": "[encoded data removed]",
      "text/plain": [
       "<Figure size 640x480 with 1 Axes>"
      ]
     },
     "metadata": {
      "filenames": {
       "image/png": "/Users/joreilly/Desktop/JupyterNotebooks/StatsCourseBook/StatsCourseBook/_build/jupyter_execute/descriptives_TutorialExercisesII_5_1.png"
      }
     },
     "output_type": "display_data"
    }
   ],
   "source": [
    "popHeights = np.random.normal(175,7,10000)\n",
    "\n",
    "# Let's plot them\n",
    "sns.histplot(popHeights)\n",
    "plt.xlabel('Height (cm)')"
   ]
  },
  {
   "cell_type": "markdown",
   "id": "b39af984",
   "metadata": {},
   "source": [
    "Since we have the whole population dataset here, we can work out the population mean and standard deviation directly:"
   ]
  },
  {
   "cell_type": "code",
   "execution_count": 3,
   "id": "cff2e98d",
   "metadata": {},
   "outputs": [
    {
     "name": "stdout",
     "output_type": "stream",
     "text": [
      "population mean = 175.07443854940632\n",
      "population sd = 7.030858684556994\n"
     ]
    }
   ],
   "source": [
    "mPop = popHeights.mean()\n",
    "sdPop = popHeights.std()\n",
    "print('population mean = ' + str(mPop))\n",
    "print('population sd = ' + str(sdPop))"
   ]
  },
  {
   "cell_type": "markdown",
   "id": "d559ada6",
   "metadata": {},
   "source": [
    "### Sample data\n",
    "\n",
    "Now let's imagine that we <i>don't</i> have access to the heights of every single man in the population of Shetland, but instead we measure a random sample of 10 men.\n",
    "\n",
    "We can <i>simulate</i> this by picking 10 values at random from our array of population heights (which is a virtual version of picking 10 random men off the street in Shetland) using the function <tt>np.random</tt>"
   ]
  },
  {
   "cell_type": "code",
   "execution_count": 4,
   "id": "4a627e53",
   "metadata": {},
   "outputs": [
    {
     "name": "stdout",
     "output_type": "stream",
     "text": [
      "[169.5578265  179.40524857 179.56861433 184.87084141 181.48329884\n",
      " 175.63149319 176.65455387 179.49894288 181.91019028 178.15813389]\n"
     ]
    }
   ],
   "source": [
    "# let's call our sample 'x'\n",
    "x = np.random.choice(popHeights, 10, replace=False)\n",
    "print(x)"
   ]
  },
  {
   "cell_type": "markdown",
   "id": "39c2d1d5",
   "metadata": {},
   "source": [
    "Let's calculate the mean and standard deviation of the sample - because we are going to try out different equations, we will not use the built in functions <tt>mean</tt> and <tt>std</tt> but instead enter the equations ourselves.\n",
    "\n",
    "Remember that the symbol ** means 'power' - so 3**2 means $3^2$ \n",
    "\n",
    "Remember also that $n^\\frac{1}{2} = \\sqrt{n}$ so for example 4**0.5 = $\\sqrt{4}$ = 2\n"
   ]
  },
  {
   "cell_type": "code",
   "execution_count": 5,
   "id": "2cf44a80",
   "metadata": {},
   "outputs": [
    {
     "ename": "SyntaxError",
     "evalue": "invalid syntax (845226441.py, line 5)",
     "output_type": "error",
     "traceback": [
      "\u001b[0;36m  File \u001b[0;32m\"/var/folders/q4/twg1yll54y142rc02m5wwbt40000gr/T/ipykernel_48925/845226441.py\"\u001b[0;36m, line \u001b[0;32m5\u001b[0m\n\u001b[0;31m    m = # your code here for the mean\u001b[0m\n\u001b[0m        ^\u001b[0m\n\u001b[0;31mSyntaxError\u001b[0m\u001b[0;31m:\u001b[0m invalid syntax\n"
     ]
    }
   ],
   "source": [
    "n=10\n",
    "x = np.random.choice(popHeights, n, replace=False)\n",
    "\n",
    "# if you are stuck you can find the answer at the bottom of the page\n",
    "m = # your code here for the mean\n",
    "s1 = # your code here for the s.d. with n on the bottom\n",
    "s2 = # your code here for the s.d. with n-1 on the bottom\n",
    "\n",
    "print('mean = ' + str(m))\n",
    "print('sd (with n on the bottom) = ' + str(s1))\n",
    "print('sd (with n-1 on the bottom) = ' + str(s2))\n"
   ]
  },
  {
   "cell_type": "markdown",
   "id": "28a4d73b",
   "metadata": {},
   "source": [
    "If you run the cell above a few times you will notice a couple of things:\n",
    "    <ul>\n",
    "    <li> The value for sd with n on the bottom is always lower\n",
    "    <li> The estimates of the mean and sd are pretty variable across samples!\n",
    "    </ul>\n",
    "    \n",
    "### Simulate many samples\n",
    "\n",
    "To establish which equation for the sd gives a better match for the population sd (calculated from the whole population of 10,000 men), we are going to need to draw a lot of samples and get the average value for the standard deviation:"
   ]
  },
  {
   "cell_type": "code",
   "execution_count": 49,
   "id": "2bf06132",
   "metadata": {},
   "outputs": [
    {
     "name": "stdout",
     "output_type": "stream",
     "text": [
      "mean value of the mean is 174.87163049278854\n",
      "mean value of sd with n on the bottom is 6.474290353743315\n",
      "mean value of sd with n-1 on the bottom is 6.82450125036204\n",
      " \n",
      "population mean = 174.88960457679235\n",
      "population sd = 7.005912927563505\n"
     ]
    }
   ],
   "source": [
    "nSamples = 1000\n",
    "# create empty arrays to store the result of the simulation\n",
    "m = np.empty(nSamples)\n",
    "s1 = np.empty(nSamples)\n",
    "s2 = np.empty(nSamples)\n",
    "n = 10\n",
    "\n",
    "for i in range(....):\n",
    "    # build the loop yourself!\n",
    "    # if you are stuck you can find the answer at the bottom of the page\n",
    "    \n",
    "    \n",
    "# print the results of the simulation    \n",
    "print('mean value of the mean is ' + str(np.mean(m)))\n",
    "print('mean value of sd with n on the bottom is ' + str(np.mean(s1)))\n",
    "print('mean value of sd with n-1 on the bottom is ' + str(np.mean(s2)))\n",
    "print(' ') # blank line\n",
    "\n",
    "# and a reminder:\n",
    "mPop = popHeights.mean()\n",
    "sdPop = popHeights.std()\n",
    "print('population mean = ' + str(mPop))\n",
    "print('population sd = ' + str(sdPop))"
   ]
  },
  {
   "cell_type": "markdown",
   "id": "dbc3417c",
   "metadata": {},
   "source": [
    "It looks like the version with $n-1$ gets us closer to the the true standard deviation (although it is still not perfect).\n",
    "\n",
    "#### Check your understanding of the code\n",
    "\n",
    "<ul>\n",
    "    <li> What is stored in <tt>s1</tt> and <tt>s2</tt>.\n",
    "    <li> What does the line <tt>s1 = np.empty(nSamples)</tt> do and why is it necessary?\n",
    "    <li> What was <tt>popHeights</tt> again?\n",
    "</ul>\n",
    "        \n",
    "        \n",
    "### Justifying $n-1$\n",
    "\n",
    "If we calculate the standard deviation of the sample as we might naively (with $n$ rather than $n-1$ on the bottom), we would systematically underestimate the standard deviation of the population. This bias is worse when the sample size is small.\n",
    "\n",
    "To get a sense why this is, look at the diagram below. \n",
    "\n",
    "<img src=\"https://raw.githubusercontent.com/jillxoreilly/StatsCourseBook/main/images/sdVersions.png\" width=\"75%\" >\n",
    "\n",
    "When calculating the standard deviation from our sample, we look at the deviations of the datapoints about our estimate of the mean, $\\bar{x}$. \n",
    "\n",
    "Now, $\\bar{x}$ is calculated from the sample itself (and as it happens, the formula for the mean minimizes the squared devations $\\sum{{(x_i - \\bar{x})}^2}$) - so there is no possible value of the mean that could result in a lower set of deviations. \n",
    "\n",
    "Therefore if we knew the true population mean $\\mu$ (which is similar to $\\bar{x}$ but won't be exactly the same), and could calculate the deviations about it $\\sum{(x_i - \\mu)^2}$ we would certainly get a higher value for the standard deviation. \n",
    "\n",
    "The reason the bias is worse for smaller samples is because the value of $\\bar{s}$ is more swayed by the particular values in the sample $x$ when $n$ is small.\n",
    "\n",
    "### Vary sample size\n",
    "\n",
    "To examine the claim that the underestimation of the population standard deviation is worse when $n$ is small (for the sd formula with $n$ on the bottom), lets try simulating samples with different values of n. \n",
    "\n",
    "This is a double loop - I'm not expecting you to build this yourself but if you are keen you could try to follow through the logic:"
   ]
  },
  {
   "cell_type": "code",
   "execution_count": 69,
   "id": "f2bd99d8",
   "metadata": {},
   "outputs": [
    {
     "data": {
      "text/plain": [
       "<matplotlib.legend.Legend at 0x7fa8e2b38ee0>"
      ]
     },
     "execution_count": 69,
     "metadata": {},
     "output_type": "execute_result"
    },
    {
     "data": {
      "image/png": "[encoded data removed]",
      "text/plain": [
       "<Figure size 640x480 with 1 Axes>"
      ]
     },
     "metadata": {
      "filenames": {
       "image/png": "/Users/joreilly/Desktop/JupyterNotebooks/StatsCourseBook/StatsCourseBook/_build/jupyter_execute/descriptives_TutorialExercisesII_15_1.png"
      }
     },
     "output_type": "display_data"
    }
   ],
   "source": [
    "nSamples = 1000\n",
    "# create empty arrays to store the result of the simulation each of nSamples\n",
    "m = np.empty(nSamples)\n",
    "s1 = np.empty(nSamples)\n",
    "s2 = np.empty(nSamples)\n",
    "\n",
    "# values of n to try\n",
    "nVals = [2,5,10,20,50,100]\n",
    "# create some more empty arrays to store the average values \n",
    "# of m, s1, s2 for each value of n that we will try\n",
    "m_n = np.empty(len(nVals))\n",
    "s1_n = np.empty(len(nVals))\n",
    "s2_n = np.empty(len(nVals))\n",
    "\n",
    "\n",
    "\n",
    "for j in range(len(nVals)):\n",
    "    n=nVals[j]\n",
    "    for i in range(nSamples):\n",
    "        x = np.random.choice(popHeights, n, replace=False)\n",
    "        m[i] = sum(x)/n\n",
    "        s1[i] = (sum((x - m[i])**2)/n)**0.5\n",
    "        s2[i] = (sum((x - m[i])**2)/(n-1))**0.5\n",
    "\n",
    "    m_n[j] = np.mean(m)\n",
    "    s1_n[j] = np.mean(s1)\n",
    "    s2_n[j] = np.mean(s2)\n",
    "\n",
    "    \n",
    "    \n",
    "# Plot the results\n",
    "# Don't worry about this - we are covering plotting next week\n",
    "plt.figure\n",
    "plt.plot(nVals,s1_n,'b.-')\n",
    "plt.plot(nVals,s2_n,'r.-')\n",
    "plt.axhline(y = popHeights.std(), color='k', linestyle=':') # plot the actual population sd as lback dotted line\n",
    "plt.xlabel('$n$')\n",
    "plt.ylabel('estimated pop. standard deviation')\n",
    "plt.legend(['using $n$','using $n-1$','actual population sd'])\n"
   ]
  },
  {
   "cell_type": "markdown",
   "id": "fb265c51",
   "metadata": {},
   "source": [
    "We can see that:\n",
    "\n",
    "<ul>\n",
    "    <li>the underestimation bias is greater for smaller sample size\n",
    "    <li> the bias is reduced, but not eliminated, for the $n-1$ version\n",
    "</ul>\n",
    "\n",
    "In fact there is no simple solution to correct the bias completely when estimating the population standard deviation."
   ]
  },
  {
   "cell_type": "code",
   "execution_count": null,
   "id": "572807bf",
   "metadata": {},
   "outputs": [],
   "source": []
  },
  {
   "cell_type": "markdown",
   "id": "7f75345f",
   "metadata": {},
   "source": [
    "### Hints\n",
    "\n",
    "Here are the missing bits of code - you are welcome to copy-paste them but once you have, I'd suggest trying to work through them (with your tutor if helpful) and then try to recreate from memory as in coding, you learn by doing."
   ]
  },
  {
   "cell_type": "code",
   "execution_count": null,
   "id": "f14812a6",
   "metadata": {},
   "outputs": [],
   "source": [
    "# formulae for mean and standard deviation\n",
    "m = sum(x)/n # mean\n",
    "s1 = (sum((x - m)**2)/n)**0.5 # s.d. with n on the bottom\n",
    "s2 = (sum((x - m)**2)/(n-1))**0.5 # s.d. with n-1 on the bottom"
   ]
  },
  {
   "cell_type": "code",
   "execution_count": null,
   "id": "8e873498",
   "metadata": {},
   "outputs": [],
   "source": [
    "# for loop to try 1000 samples of size n\n",
    "\n",
    "nSamples = 1000\n",
    "# create empty arrays to store the result of the simulation\n",
    "m = np.empty(nSamples)\n",
    "s1 = np.empty(nSamples)\n",
    "s2 = np.empty(nSamples)\n",
    "n = 10\n",
    "\n",
    "for i in range(nSamples):\n",
    "    x = np.random.choice(popHeights, n, replace=False)\n",
    "    m[i] = sum(x)/n\n",
    "    s1[i] = (sum((x - m[i])**2)/n)**0.5\n",
    "    s2[i] = (sum((x - m[i])**2)/(n-1))**0.5\n"
   ]
  }
 ],
 "metadata": {
  "kernelspec": {
   "display_name": "Python 3 (ipykernel)",
   "language": "python",
   "name": "python3"
  },
  "language_info": {
   "codemirror_mode": {
    "name": "ipython",
    "version": 3
   },
   "file_extension": ".py",
   "mimetype": "text/x-python",
   "name": "python",
   "nbconvert_exporter": "python",
   "pygments_lexer": "ipython3",
   "version": "3.9.13"
  }
 },
 "nbformat": 4,
 "nbformat_minor": 5
}