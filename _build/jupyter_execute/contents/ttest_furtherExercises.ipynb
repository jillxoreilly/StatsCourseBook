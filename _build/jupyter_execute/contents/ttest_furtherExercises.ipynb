{
 "cells": [
  {
   "cell_type": "markdown",
   "id": "49887e83",
   "metadata": {},
   "source": [
    "# t-test further exercises\n",
    "\n",
    "Here are some more exercises on the t-test.\n",
    "\n",
    "These exercises are very similar to what you did in the t-test examples so in most cases you will be able to copy and adapt code and text from the examples."
   ]
  },
  {
   "cell_type": "markdown",
   "id": "741220b6",
   "metadata": {},
   "source": [
    "### Set up Python libraries\n",
    "\n",
    "As usual, run the code cell below to import the relevant Python libraries"
   ]
  },
  {
   "cell_type": "code",
   "execution_count": 1,
   "id": "692abf91",
   "metadata": {},
   "outputs": [],
   "source": [
    "# Set-up Python libraries - you need to run this but you don't need to change it\n",
    "import numpy as np\n",
    "import matplotlib.pyplot as plt\n",
    "import scipy.stats as stats\n",
    "import pandas \n",
    "import seaborn as sns"
   ]
  },
  {
   "cell_type": "markdown",
   "id": "e94b98d1",
   "metadata": {},
   "source": []
  },
  {
   "cell_type": "markdown",
   "id": "91eef546",
   "metadata": {},
   "source": [
    "## 1. Whose peaches are heavier?\n",
    "\n",
    "<img src=\"images/peaches.png\" width=30% alt=\"There should be a picture of some peaches here\" >\n",
    "\n",
    "\n",
    "Mr Robinson’s juice factory buys peaches from farmers by the tray. Each tray contains 50 peaches. Farmer McDonald claims that this is unfair as his peaches are juicier and therefore weigh more than the peaches of his rival, Mr McGregor. \n",
    "\n",
    "Mr Robinson weighs eight trays of Farmer McDonald’s peaches and 8 trays of Mr McGregor’s peaches. \n",
    "The weights, in kilograms are given in the file peaches.csv\n",
    "\n",
    "Investigate whether McDonald's claim is justified by testing for a difference in weight between McDonald and McGregor's peaches."
   ]
  },
  {
   "cell_type": "markdown",
   "id": "134615c7",
   "metadata": {},
   "source": [
    "a) Load the data into a Pandas dataframe"
   ]
  },
  {
   "cell_type": "code",
   "execution_count": 2,
   "id": "e524eb4b",
   "metadata": {},
   "outputs": [],
   "source": [
    "# your code here to load the data from file \"data/peaches.csv\" into a pandas dataframe"
   ]
  },
  {
   "cell_type": "markdown",
   "id": "cf39faa0",
   "metadata": {},
   "source": [
    "b) Plot the data and comment. \n",
    "\n",
    "A Kernel desity estimate plot (to show the distribution) and rug plot (to show individual data points) would be a good choice here."
   ]
  },
  {
   "cell_type": "code",
   "execution_count": 3,
   "id": "ecb9049b",
   "metadata": {},
   "outputs": [],
   "source": [
    "# your text here to plot the data"
   ]
  },
  {
   "cell_type": "markdown",
   "id": "8b701bfb",
   "metadata": {},
   "source": [
    "c) Obtain relevant descriptive statistics"
   ]
  },
  {
   "cell_type": "code",
   "execution_count": 4,
   "id": "f6bf3da6",
   "metadata": {},
   "outputs": [],
   "source": [
    "# your code here to get descriptive statistics"
   ]
  },
  {
   "cell_type": "markdown",
   "id": "be0c251b",
   "metadata": {},
   "source": [
    "< your text here reporting the relevant descriptive statistics >"
   ]
  },
  {
   "cell_type": "markdown",
   "id": "4c86ff25",
   "metadata": {},
   "source": [
    "d) We can assume (based on the Central Limit Theorem) that these data points are normally distributed. Explain why."
   ]
  },
  {
   "cell_type": "markdown",
   "id": "6a655b98",
   "metadata": {},
   "source": [
    "< Your text here explaining why the data are Normal >"
   ]
  },
  {
   "cell_type": "markdown",
   "id": "6c1e91cf",
   "metadata": {},
   "source": [
    "e) Conduct a t-test to test Farmer McDonald's claim"
   ]
  },
  {
   "cell_type": "code",
   "execution_count": 5,
   "id": "abf6ef56",
   "metadata": {},
   "outputs": [],
   "source": [
    "# your code here to run the t-test\n",
    "# think about whether you need independent or paired samples"
   ]
  },
  {
   "cell_type": "markdown",
   "id": "50cc361a",
   "metadata": {},
   "source": [
    "f) Write up your report as if for a scientific publication. Use the examples in the t-test exercises as a model."
   ]
  },
  {
   "cell_type": "markdown",
   "id": "58f3ac64",
   "metadata": {},
   "source": [
    "< Your report here! You will probably need to add additional cells >"
   ]
  },
  {
   "cell_type": "markdown",
   "id": "bf2702d0",
   "metadata": {},
   "source": [
    "## 2. IQ and vitamins\n",
    "\n",
    "<img src=\"images/vitamins.jpg\" width=50% alt=\"There should be a picture of some vitamin pills here\" >\n",
    "\n",
    "The VitalVit company claim that after taking their VitalVit supplement, IQ is increased. \n",
    "\n",
    "They run a trial in which 22 participants complete a baseline IQ test, then take VitalVit for six weeks, then complete another IQ test.\n",
    "\n",
    "The participants' scores can be found in the data file VitalVit.csv"
   ]
  },
  {
   "cell_type": "markdown",
   "id": "3ea0f132",
   "metadata": {},
   "source": [
    "a. What kind of design is this."
   ]
  },
  {
   "cell_type": "markdown",
   "id": "d0f6401b",
   "metadata": {},
   "source": [
    "< your answer here >"
   ]
  },
  {
   "cell_type": "markdown",
   "id": "4c839052",
   "metadata": {},
   "source": [
    "b. What are the advantages and possible disadvantages of this type of design? Should the company have done something different or additional to rule out confounding factors?"
   ]
  },
  {
   "cell_type": "markdown",
   "id": "2f1b84e7",
   "metadata": {},
   "source": [
    "< your answer here >"
   ]
  },
  {
   "cell_type": "markdown",
   "id": "36be5eb5",
   "metadata": {},
   "source": [
    "c. Load the data into a Pandas dataframe"
   ]
  },
  {
   "cell_type": "code",
   "execution_count": 6,
   "id": "864de087",
   "metadata": {},
   "outputs": [],
   "source": [
    "# your code here to load the data from file \"data/peaches.csv\" into a pandas dataframe"
   ]
  },
  {
   "cell_type": "markdown",
   "id": "fa85f514",
   "metadata": {},
   "source": [
    "d. Plot the data and comment. \n",
    "A scatterplot would be a good choice as these are paired data. \n",
    "You could add the line of equality (line x=y) to the graph so we can see whether most people score higer on the IQ test before or after taking VitalVit"
   ]
  },
  {
   "cell_type": "code",
   "execution_count": 7,
   "id": "1ff48986",
   "metadata": {},
   "outputs": [],
   "source": [
    "# Your code here for a scatter plot. \n",
    "# You can find an example in the workbook on paired sample t-test"
   ]
  },
  {
   "cell_type": "markdown",
   "id": "300671b9",
   "metadata": {},
   "source": [
    "e. IQ scores aare normally distributed by design (the tests are designed to yeild a normal distribution of scores). Therefore we can use a t-test to compare the scores from before and aafter taking VitalVit. Implement the t-test"
   ]
  },
  {
   "cell_type": "code",
   "execution_count": 8,
   "id": "d3f9edc0",
   "metadata": {},
   "outputs": [],
   "source": [
    "# Your code here. Think about whether you need a paired or independent samples t-test."
   ]
  },
  {
   "cell_type": "markdown",
   "id": "92bad187",
   "metadata": {},
   "source": [
    "f. Write up your report as if for a scientific publication. You can use the examples in the t-test exercises as a model."
   ]
  },
  {
   "cell_type": "markdown",
   "id": "8e2cd017",
   "metadata": {},
   "source": [
    "< Your report here. You will probably need to add more cells. >"
   ]
  },
  {
   "cell_type": "markdown",
   "id": "6bf78ba2",
   "metadata": {},
   "source": [
    "## 3. Who has the tallest students?\n",
    "\n",
    "A student from Lonsdale college claims that Lonsdale students are taller than students from Beaufort college.\n",
    "\n",
    "Heights of 30 randomly selected male undergraduates from each college are found int the file data/heightsCollege.csv\n",
    "\n",
    "Test the student's hypothesis using a t-test (this is justified as heights are generally normally distributed) and write up your report as if for a scientific publication. Your report should include the following elements:\n",
    "\n",
    "<ul>\n",
    "    <li> A plot of the data to show the data distribution\n",
    "    <li> The relevant descriptive statistics\n",
    "    <li> The results of the t-test\n",
    "    <li> A conclusion\n",
    "</ul>\n",
    "\n",
    "You can use the write-up sections of the t-test example notebooks as a model"
   ]
  },
  {
   "cell_type": "code",
   "execution_count": 9,
   "id": "a0706fe2",
   "metadata": {},
   "outputs": [],
   "source": [
    "# Your code and text here! You will need to add more cells."
   ]
  }
 ],
 "metadata": {
  "kernelspec": {
   "display_name": "Python 3 (ipykernel)",
   "language": "python",
   "name": "python3"
  },
  "language_info": {
   "codemirror_mode": {
    "name": "ipython",
    "version": 3
   },
   "file_extension": ".py",
   "mimetype": "text/x-python",
   "name": "python",
   "nbconvert_exporter": "python",
   "pygments_lexer": "ipython3",
   "version": "3.9.7"
  }
 },
 "nbformat": 4,
 "nbformat_minor": 5
}