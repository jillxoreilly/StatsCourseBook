{
 "cells": [
  {
   "cell_type": "code",
   "execution_count": 1,
   "id": "0538092e",
   "metadata": {},
   "outputs": [
    {
     "ename": "SyntaxError",
     "evalue": "invalid syntax (2726314629.py, line 1)",
     "output_type": "error",
     "traceback": [
      "\u001b[0;36m  File \u001b[0;32m\"/var/folders/q4/twg1yll54y142rc02m5wwbt40000gr/T/ipykernel_2013/2726314629.py\"\u001b[0;36m, line \u001b[0;32m1\u001b[0m\n\u001b[0;31m    Predator-Prey simulation\u001b[0m\n\u001b[0m                  ^\u001b[0m\n\u001b[0;31mSyntaxError\u001b[0m\u001b[0;31m:\u001b[0m invalid syntax\n"
     ]
    }
   ],
   "source": [
    "Predator-Prey simulation"
   ]
  },
  {
   "cell_type": "markdown",
   "id": "554bd33b",
   "metadata": {},
   "source": [
    "### Set up Python libraries\n",
    "\n",
    "As usual, run the code cell below to import the relevant Python libraries"
   ]
  },
  {
   "cell_type": "code",
   "execution_count": null,
   "id": "6e215164",
   "metadata": {},
   "outputs": [],
   "source": [
    "# Set-up Python libraries - you need to run this but you don't need to change it\n",
    "import numpy as np\n",
    "import matplotlib.pyplot as plt\n",
    "import scipy.stats as stats\n",
    "import pandas \n",
    "import seaborn as sns\n",
    "sns.set_theme()"
   ]
  },
  {
   "cell_type": "code",
   "execution_count": null,
   "id": "9846c042",
   "metadata": {},
   "outputs": [],
   "source": []
  },
  {
   "cell_type": "code",
   "execution_count": null,
   "id": "be8ff33d",
   "metadata": {},
   "outputs": [],
   "source": [
    "days = 10000\n",
    "rabbit_count = np.empty(days)\n",
    "fox_count = np.empty(days)\n",
    "\n",
    "rabbit_count[0]=1000\n",
    "fox_count[0]=10\n",
    "\n",
    "for t in np.arange(start=1, stop=days+1, step=1):\n",
    "    # at the start of the day, the number of rabbits and foxes alive is equal to the number alive yesterday\n",
    "    rabbit_count[t]=max(rabbit_count[t-1],0)\n",
    "    fox_count[t]=max(fox_count[t-1],0)\n",
    "    \n",
    "    # reproduction - avergae one litter of 7 baby rabbibts every 42 days\n",
    "    for rabbit in np.arange(rabbit_count[t-1]):\n",
    "        if np.random.random()<(1/42):\n",
    "            rabbit_count[t]=rabbit_count[t]+7\n",
    "                \n",
    "            \n",
    "figure\n",
    "plt.plot(rabbit_count)\n",
    "rabbit_count[days]        "
   ]
  },
  {
   "cell_type": "code",
   "execution_count": null,
   "id": "3508bcbd",
   "metadata": {},
   "outputs": [],
   "source": [
    "figure\n",
    "plt.plot(np.arange(10))"
   ]
  },
  {
   "cell_type": "code",
   "execution_count": null,
   "id": "8ee72be3",
   "metadata": {},
   "outputs": [],
   "source": [
    "    # each fox tries to eat a rabbit. \n",
    "    # for each rabbit the chance of the fox eating it is 0.01. \n",
    "    # If the fox eats no rabit by the end of the day, it dies\n",
    "    for fox in np.arange(fox_count[t-1]):\n",
    "        fox_had_lunch = False\n",
    "        for rabbit in np.arange(rabbit_count[t-1]):\n",
    "            if fox_had_lunch==False:\n",
    "                rabbit_is_lunch = np.random.random()<0.01\n",
    "                if rabbit_is_lunch==True:\n",
    "                    fox_had_lunch=True\n",
    "        if rabbit_is_lunch==True:\n",
    "            rabbit_count[t]=rabbit_count[t]-1\n",
    "        if fox_had_lunch==False:\n",
    "            fox_count[t]=fox_count[t]-1"
   ]
  },
  {
   "cell_type": "code",
   "execution_count": 14,
   "id": "2d3eb74b",
   "metadata": {},
   "outputs": [
    {
     "data": {
      "text/plain": [
       "[<matplotlib.lines.Line2D at 0x7fd48b9a6700>]"
      ]
     },
     "execution_count": 14,
     "metadata": {},
     "output_type": "execute_result"
    },
    {
     "data": {
      "image/png": "[encoded data removed]",
      "text/plain": [
       "<Figure size 640x480 with 1 Axes>"
      ]
     },
     "metadata": {
      "filenames": {
       "image/png": "/Users/joreilly/Desktop/JupyterNotebooks/StatsCourseBook/StatsCourseBook/_build/jupyter_execute/Untitled12_7_1.png"
      }
     },
     "output_type": "display_data"
    }
   ],
   "source": [
    "plt.plot(fox_count)\n",
    "plt.plot(rabbit_count)"
   ]
  },
  {
   "cell_type": "code",
   "execution_count": null,
   "id": "0a4f0108",
   "metadata": {},
   "outputs": [],
   "source": []
  }
 ],
 "metadata": {
  "kernelspec": {
   "display_name": "Python 3 (ipykernel)",
   "language": "python",
   "name": "python3"
  },
  "language_info": {
   "codemirror_mode": {
    "name": "ipython",
    "version": 3
   },
   "file_extension": ".py",
   "mimetype": "text/x-python",
   "name": "python",
   "nbconvert_exporter": "python",
   "pygments_lexer": "ipython3",
   "version": "3.9.13"
  }
 },
 "nbformat": 4,
 "nbformat_minor": 5
}