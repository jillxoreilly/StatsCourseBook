{
 "cells": [
  {
   "cell_type": "markdown",
   "id": "111b680b",
   "metadata": {},
   "source": [
    "# Simulation Exercises\n",
    "\n",
    "<img src=\"https://raw.githubusercontent.com/jillxoreilly/StatsCourseBook/main/images/tallVshort.jpg\" width=25% alt=\"(display image of two people of different height)\" >\n",
    "\n"
   ]
  },
  {
   "cell_type": "markdown",
   "id": "554bd33b",
   "metadata": {},
   "source": [
    "### Set up Python libraries\n",
    "\n",
    "As usual, run the code cell below to import the relevant Python libraries"
   ]
  },
  {
   "cell_type": "code",
   "execution_count": 1,
   "id": "6e215164",
   "metadata": {},
   "outputs": [],
   "source": [
    "# Set-up Python libraries - you need to run this but you don't need to change it\n",
    "import numpy as np\n",
    "import matplotlib.pyplot as plt\n",
    "import scipy.stats as stats\n",
    "import pandas \n",
    "import seaborn as sns\n",
    "sns.set_theme()"
   ]
  },
  {
   "cell_type": "markdown",
   "id": "3afd952a",
   "metadata": {},
   "source": [
    "## Simulated sampling - <tt>for</tt> loop\n",
    "\n",
    "Men are taller than women. But if you collect samples of 5 random men and 5 random women, how likely is it that the average height of the women will exceed the average height of the men?\n",
    "\n",
    "### Create some data\n",
    "\n",
    "We are going to start by creating some fake data (great start to your degree!). These are the heights of 10,000 simmulated (made up) men and 10,000 simulated women, which will have the same distribution as the real heights of men and women in the UK.\n",
    "\n",
    "For today you really don't need to worry about how I'm creating these simulated heights.\n",
    "\n",
    "I'm also going to plot a histogram of each distribution - you don't need to worry about the code for that either as there will be a session on plotting data later on."
   ]
  },
  {
   "cell_type": "code",
   "execution_count": 2,
   "id": "1d9117db",
   "metadata": {},
   "outputs": [
    {
     "data": {
      "text/plain": [
       "<matplotlib.legend.Legend at 0x7f99d35697c0>"
      ]
     },
     "execution_count": 2,
     "metadata": {},
     "output_type": "execute_result"
    },
    {
     "data": {
      "image/png": "[encoded data removed]",
      "text/plain": [
       "<Figure size 640x480 with 1 Axes>"
      ]
     },
     "metadata": {
      "filenames": {
       "image/png": "/Users/joreilly/Desktop/JupyterNotebooks/StatsCourseBook/StatsCourseBook/_build/jupyter_execute/prepwork_simExercises_4_1.png"
      }
     },
     "output_type": "display_data"
    }
   ],
   "source": [
    "men = np.random.normal(175,7, [10000])\n",
    "women = np.random.normal(162,7, [10000])\n",
    "\n",
    "sns.histplot(men, color='b', label='men')\n",
    "sns.histplot(women, color='r', label='women')\n",
    "plt.legend()"
   ]
  },
  {
   "cell_type": "markdown",
   "id": "04a7b2f0",
   "metadata": {},
   "source": [
    "We can see that on average men are taller than women, but some women are taller than some men."
   ]
  },
  {
   "cell_type": "markdown",
   "id": "8807f3a2",
   "metadata": {},
   "source": [
    "### Pick a random individual\n",
    "\n",
    "We are now going to pick a random man from our array <tt>men</tt>, using the <tt>numpy</tt> method <a href=\"https://numpy.org/doc/stable/reference/random/generated/numpy.random.choice.html\"><tt>numpy.random.choice()</tt></a>"
   ]
  },
  {
   "cell_type": "code",
   "execution_count": 3,
   "id": "3da8cd35",
   "metadata": {},
   "outputs": [
    {
     "name": "stdout",
     "output_type": "stream",
     "text": [
      "[173.81055258]\n"
     ]
    }
   ],
   "source": [
    "# choose 1 man from the array \"men\", without replacement\n",
    "m = np.random.choice(men, 1, replace=False)\n",
    "print(m) # this is his height"
   ]
  },
  {
   "cell_type": "markdown",
   "id": "70d2c5f8",
   "metadata": {},
   "source": [
    "Let's also pick a random woman. "
   ]
  },
  {
   "cell_type": "code",
   "execution_count": 4,
   "id": "65342cd3",
   "metadata": {},
   "outputs": [
    {
     "name": "stdout",
     "output_type": "stream",
     "text": [
      "[165.69061612]\n"
     ]
    }
   ],
   "source": [
    "w = np.random.choice(women, 1, replace=False)\n",
    "print(w) # this is his height"
   ]
  },
  {
   "cell_type": "markdown",
   "id": "7638d851",
   "metadata": {},
   "source": [
    "Is the woman taller than the man?"
   ]
  },
  {
   "cell_type": "code",
   "execution_count": 5,
   "id": "b58ea1e6",
   "metadata": {},
   "outputs": [
    {
     "data": {
      "text/plain": [
       "array([False])"
      ]
     },
     "execution_count": 5,
     "metadata": {},
     "output_type": "execute_result"
    }
   ],
   "source": [
    "w>m"
   ]
  },
  {
   "cell_type": "markdown",
   "id": "a51debb4",
   "metadata": {},
   "source": [
    "... probably not, although in some cases she will be (it's random)                                             "
   ]
  },
  {
   "cell_type": "markdown",
   "id": "c5178256",
   "metadata": {},
   "source": [
    "### Repeat lots of times\n",
    "\n",
    "If we pick 100 man-woman pairs, in how many pairs will the woman be taller than the man?\n",
    "\n",
    "Let's simulate it with a <tt>for</tt> loop"
   ]
  },
  {
   "cell_type": "code",
   "execution_count": 6,
   "id": "a0a0700a",
   "metadata": {},
   "outputs": [
    {
     "data": {
      "text/plain": [
       "array([0., 0., 0., 0., 0., 0., 0., 0., 0., 0., 0., 0., 0., 0., 0., 0., 0.,\n",
       "       0., 0., 0., 0., 0., 0., 0., 0., 0., 0., 1., 0., 0., 0., 0., 1., 1.,\n",
       "       0., 0., 0., 0., 0., 0., 0., 0., 0., 0., 1., 1., 0., 0., 0., 0., 0.,\n",
       "       0., 0., 0., 0., 0., 1., 1., 0., 0., 0., 0., 0., 0., 1., 0., 0., 0.,\n",
       "       0., 0., 0., 0., 0., 0., 0., 0., 0., 0., 0., 0., 0., 0., 0., 0., 0.,\n",
       "       0., 0., 0., 0., 0., 0., 0., 0., 0., 0., 0., 0., 0., 0., 0.])"
      ]
     },
     "execution_count": 6,
     "metadata": {},
     "output_type": "execute_result"
    }
   ],
   "source": [
    "woman_taller = np.empty(100) # create an empty array to store the results\n",
    "\n",
    "for i in range(100):\n",
    "    m = np.random.choice(men, 1, replace=False)\n",
    "    w = np.random.choice(women, 1, replace=False)\n",
    "    woman_taller[i]=w>m\n",
    "\n",
    "woman_taller"
   ]
  },
  {
   "cell_type": "markdown",
   "id": "1cb5d714",
   "metadata": {},
   "source": [
    "Hm, what happened?\n",
    "\n",
    "Each time we checked if the woman was taller (<tt>w>m</tt>) and put the result into a <tt>numpy</tt> array, where:\n",
    "<ul>\n",
    "    <li><tt>True</tt> becomes 1\n",
    "    <li><tt>False</tt> becomes 0\n",
    "</ul>\n",
    "\n",
    "It would be handy if we could automatically count the 1s - we do this by simply adding up (or 'summing') all the values in the array using <tt>numpy.sum()</tt>."
   ]
  },
  {
   "cell_type": "code",
   "execution_count": 7,
   "id": "575f1f3d",
   "metadata": {},
   "outputs": [
    {
     "name": "stdout",
     "output_type": "stream",
     "text": [
      "the woman was taller 5.0/100 times\n"
     ]
    }
   ],
   "source": [
    "woman_taller = np.empty(100) # create an empty array to store the results\n",
    "\n",
    "for i in range(100):\n",
    "    m = np.random.choice(men, 1, replace=False)\n",
    "    w = np.random.choice(women, 1, replace=False)\n",
    "    woman_taller[i]=w>m\n",
    "\n",
    "count = np.sum(woman_taller) # this counts how many 'True's there are in the array\n",
    "\n",
    "print('the woman was taller ' + str(count) + '/100 times')"
   ]
  },
  {
   "cell_type": "markdown",
   "id": "56837474",
   "metadata": {},
   "source": [
    "Try running the block above a few times. \n",
    "\n",
    "You should get a different number of pairs where the woman is taller each time you run it."
   ]
  },
  {
   "cell_type": "markdown",
   "id": "87314e76",
   "metadata": {},
   "source": [
    "### n = 5\n",
    "\n",
    "Now we are going to do the same thing, but instead of comparing an individual man to an individual woman each time, we are going to pick 5 men and 5 women, and compare the mean heights for each group.\n",
    "\n",
    "Also, you are going to write this one yourself!\n",
    "\n",
    "Here are some hints:"
   ]
  },
  {
   "cell_type": "code",
   "execution_count": 8,
   "id": "bdca8ee8",
   "metadata": {},
   "outputs": [
    {
     "name": "stdout",
     "output_type": "stream",
     "text": [
      "[178.14896171]\n"
     ]
    }
   ],
   "source": [
    "# This code picks 1 person from the array \"men\" - how could you change it to pick 5?\n",
    "# try it and see if it works!\n",
    "m = np.random.choice(men, 1, replace=False)\n",
    "print(m)"
   ]
  },
  {
   "cell_type": "code",
   "execution_count": 9,
   "id": "5f27f86b",
   "metadata": {},
   "outputs": [
    {
     "data": {
      "text/plain": [
       "178.1489617055238"
      ]
     },
     "execution_count": 9,
     "metadata": {},
     "output_type": "execute_result"
    }
   ],
   "source": [
    "# This code gets the mean of an array \"m\"\n",
    "m.mean()"
   ]
  },
  {
   "cell_type": "markdown",
   "id": "7d98ba7b",
   "metadata": {},
   "source": [
    "### Further exercises\n",
    "\n",
    "Once you have your code running, you might find you don't get many cases where the mean height of 5 women exceeds the mean height of 5 men.\n",
    "\n",
    "<ul>\n",
    "<li> Try increasing the number of samples from 100 to 10,000 \n",
    "<li> Try varying the sample size - how does the chance of the mean height of women exceeding the mean height of men depend on the sample size?"
   ]
  },
  {
   "cell_type": "markdown",
   "id": "6b1a71f7",
   "metadata": {},
   "source": [
    "## Simulated sampling - <tt>while</tt> loop\n",
    "\n",
    "Can you make a new simulation that counts how many samples of size 5 we need to check before we find one where the mean height of the women exceeds the mean height of the men?\n",
    "\n",
    "You will need to refer to the exercises on simulating dice rolls with the <tt>while</tt> loop"
   ]
  },
  {
   "cell_type": "code",
   "execution_count": null,
   "id": "177bfdd2",
   "metadata": {},
   "outputs": [],
   "source": []
  }
 ],
 "metadata": {
  "kernelspec": {
   "display_name": "Python 3 (ipykernel)",
   "language": "python",
   "name": "python3"
  },
  "language_info": {
   "codemirror_mode": {
    "name": "ipython",
    "version": 3
   },
   "file_extension": ".py",
   "mimetype": "text/x-python",
   "name": "python",
   "nbconvert_exporter": "python",
   "pygments_lexer": "ipython3",
   "version": "3.9.13"
  }
 },
 "nbformat": 4,
 "nbformat_minor": 5
}