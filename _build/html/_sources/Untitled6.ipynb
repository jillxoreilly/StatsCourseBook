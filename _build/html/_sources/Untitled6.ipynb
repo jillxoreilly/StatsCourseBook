{
 "cells": [
  {
   "cell_type": "code",
   "execution_count": 4,
   "id": "07e610d9",
   "metadata": {},
   "outputs": [],
   "source": [
    "import nhanes\n",
    "from nhanes.load import load_NHANES_data\n",
    "nhanes_data = load_NHANES_data()"
   ]
  },
  {
   "cell_type": "code",
   "execution_count": 7,
   "id": "f9823872",
   "metadata": {},
   "outputs": [
    {
     "data": {
      "text/plain": [
       "(8366, 197)"
      ]
     },
     "execution_count": 7,
     "metadata": {},
     "output_type": "execute_result"
    }
   ],
   "source": [
    "nhanes_data.shape"
   ]
  },
  {
   "cell_type": "code",
   "execution_count": 10,
   "id": "93fca29a",
   "metadata": {},
   "outputs": [
    {
     "data": {
      "text/plain": [
       "Index(['GeneralHealthCondition', 'EverBreastfedOrFedBreastmilk',\n",
       "       'AgeStoppedBreastfeedingdays', 'AgeFirstFedFormuladays',\n",
       "       'AgeStoppedReceivingFormuladays', 'AgeStartedOtherFoodbeverage',\n",
       "       'AgeFirstFedMilkdays', 'TypeOfMilkFirstFedWholeMilk',\n",
       "       'TypeOfMilkFirstFed2Milk', 'TypeOfMilkFirstFed1Milk',\n",
       "       ...\n",
       "       'DaysSmokedCigsDuringPast30Days', 'AvgCigarettesdayDuringPast30Days',\n",
       "       'TriedToQuitSmoking', 'TimesStoppedSmokingCigarettes',\n",
       "       'HowLongWereYouAbleToStopSmoking',\n",
       "       'UnitOfMeasureDayweekmonthyear_2_SMQ',\n",
       "       'CurrentSelfreportedHeightInches', 'CurrentSelfreportedWeightPounds',\n",
       "       'TriedToLoseWeightInPastYear', 'TimesLost10LbsOrMoreToLoseWeight'],\n",
       "      dtype='object', length=197)"
      ]
     },
     "execution_count": 10,
     "metadata": {},
     "output_type": "execute_result"
    }
   ],
   "source": [
    "nhanes_data.columns\n"
   ]
  },
  {
   "cell_type": "code",
   "execution_count": null,
   "id": "0a4a856f",
   "metadata": {},
   "outputs": [],
   "source": []
  }
 ],
 "metadata": {
  "kernelspec": {
   "display_name": "Python 3 (ipykernel)",
   "language": "python",
   "name": "python3"
  },
  "language_info": {
   "codemirror_mode": {
    "name": "ipython",
    "version": 3
   },
   "file_extension": ".py",
   "mimetype": "text/x-python",
   "name": "python",
   "nbconvert_exporter": "python",
   "pygments_lexer": "ipython3",
   "version": "3.9.13"
  }
 },
 "nbformat": 4,
 "nbformat_minor": 5
}
