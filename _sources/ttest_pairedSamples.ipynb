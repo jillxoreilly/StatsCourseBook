{
 "cells": [
  {
   "cell_type": "markdown",
   "id": "278f1daf",
   "metadata": {},
   "source": [
    "# Paired Samples t-test"
   ]
  },
  {
   "cell_type": "markdown",
   "id": "741220b6",
   "metadata": {},
   "source": [
    "### Set up Python libraries\n",
    "\n",
    "As usual, run the code cell below to import the relevant Python libraries"
   ]
  },
  {
   "cell_type": "code",
   "execution_count": 7,
   "id": "692abf91",
   "metadata": {},
   "outputs": [],
   "source": [
    "# Set-up Python libraries - you need to run this but you don't need to change it\n",
    "import numpy as np\n",
    "import matplotlib.pyplot as plt\n",
    "import scipy.stats as stats\n",
    "import pandas \n",
    "import seaborn as sns"
   ]
  },
  {
   "attachments": {},
   "cell_type": "markdown",
   "id": "d5c9ed34",
   "metadata": {},
   "source": [
    "## Example\n",
    "\n",
    "<img src=\"images/horror.jpg\" width=30% alt=\"There should be a picture from a horror movie here\" >\n",
    "\n",
    "A scientist hypothesises that watching horror movies raises the heart rate in human subjects. \n",
    "She measures the heart rate of 20 volunteers watching a horror movie, \n",
    "and the same volunteers watching a cookery show.\n",
    "\n",
    "This is a <b>repeated measures</b> design, which is a form of paired design"
   ]
  },
  {
   "cell_type": "markdown",
   "id": "9edf419d",
   "metadata": {},
   "source": [
    "### Inspect the data\n",
    "\n",
    "Let's load the data.\n",
    "\n"
   ]
  },
  {
   "cell_type": "code",
   "execution_count": 21,
   "id": "0f18b874",
   "metadata": {},
   "outputs": [
    {
     "data": {
      "text/html": [
       "<div>\n",
       "<style scoped>\n",
       "    .dataframe tbody tr th:only-of-type {\n",
       "        vertical-align: middle;\n",
       "    }\n",
       "\n",
       "    .dataframe tbody tr th {\n",
       "        vertical-align: top;\n",
       "    }\n",
       "\n",
       "    .dataframe thead th {\n",
       "        text-align: right;\n",
       "    }\n",
       "</style>\n",
       "<table border=\"1\" class=\"dataframe\">\n",
       "  <thead>\n",
       "    <tr style=\"text-align: right;\">\n",
       "      <th></th>\n",
       "      <th>cookery</th>\n",
       "      <th>horror</th>\n",
       "    </tr>\n",
       "  </thead>\n",
       "  <tbody>\n",
       "    <tr>\n",
       "      <th>0</th>\n",
       "      <td>60.4</td>\n",
       "      <td>72.9</td>\n",
       "    </tr>\n",
       "    <tr>\n",
       "      <th>1</th>\n",
       "      <td>53.9</td>\n",
       "      <td>57.0</td>\n",
       "    </tr>\n",
       "    <tr>\n",
       "      <th>2</th>\n",
       "      <td>54.4</td>\n",
       "      <td>68.3</td>\n",
       "    </tr>\n",
       "    <tr>\n",
       "      <th>3</th>\n",
       "      <td>60.0</td>\n",
       "      <td>57.4</td>\n",
       "    </tr>\n",
       "    <tr>\n",
       "      <th>4</th>\n",
       "      <td>67.7</td>\n",
       "      <td>58.7</td>\n",
       "    </tr>\n",
       "    <tr>\n",
       "      <th>5</th>\n",
       "      <td>56.2</td>\n",
       "      <td>47.0</td>\n",
       "    </tr>\n",
       "    <tr>\n",
       "      <th>6</th>\n",
       "      <td>61.9</td>\n",
       "      <td>71.8</td>\n",
       "    </tr>\n",
       "    <tr>\n",
       "      <th>7</th>\n",
       "      <td>58.9</td>\n",
       "      <td>62.1</td>\n",
       "    </tr>\n",
       "    <tr>\n",
       "      <th>8</th>\n",
       "      <td>65.6</td>\n",
       "      <td>68.6</td>\n",
       "    </tr>\n",
       "    <tr>\n",
       "      <th>9</th>\n",
       "      <td>54.6</td>\n",
       "      <td>73.8</td>\n",
       "    </tr>\n",
       "    <tr>\n",
       "      <th>10</th>\n",
       "      <td>85.2</td>\n",
       "      <td>93.1</td>\n",
       "    </tr>\n",
       "    <tr>\n",
       "      <th>11</th>\n",
       "      <td>87.8</td>\n",
       "      <td>94.8</td>\n",
       "    </tr>\n",
       "    <tr>\n",
       "      <th>12</th>\n",
       "      <td>90.5</td>\n",
       "      <td>111.4</td>\n",
       "    </tr>\n",
       "    <tr>\n",
       "      <th>13</th>\n",
       "      <td>92.7</td>\n",
       "      <td>89.7</td>\n",
       "    </tr>\n",
       "    <tr>\n",
       "      <th>14</th>\n",
       "      <td>85.4</td>\n",
       "      <td>97.4</td>\n",
       "    </tr>\n",
       "    <tr>\n",
       "      <th>15</th>\n",
       "      <td>77.5</td>\n",
       "      <td>90.9</td>\n",
       "    </tr>\n",
       "    <tr>\n",
       "      <th>16</th>\n",
       "      <td>81.3</td>\n",
       "      <td>83.9</td>\n",
       "    </tr>\n",
       "    <tr>\n",
       "      <th>17</th>\n",
       "      <td>79.7</td>\n",
       "      <td>86.9</td>\n",
       "    </tr>\n",
       "    <tr>\n",
       "      <th>18</th>\n",
       "      <td>96.8</td>\n",
       "      <td>90.1</td>\n",
       "    </tr>\n",
       "    <tr>\n",
       "      <th>19</th>\n",
       "      <td>81.9</td>\n",
       "      <td>75.4</td>\n",
       "    </tr>\n",
       "  </tbody>\n",
       "</table>\n",
       "</div>"
      ],
      "text/plain": [
       "    cookery  horror\n",
       "0      60.4    72.9\n",
       "1      53.9    57.0\n",
       "2      54.4    68.3\n",
       "3      60.0    57.4\n",
       "4      67.7    58.7\n",
       "5      56.2    47.0\n",
       "6      61.9    71.8\n",
       "7      58.9    62.1\n",
       "8      65.6    68.6\n",
       "9      54.6    73.8\n",
       "10     85.2    93.1\n",
       "11     87.8    94.8\n",
       "12     90.5   111.4\n",
       "13     92.7    89.7\n",
       "14     85.4    97.4\n",
       "15     77.5    90.9\n",
       "16     81.3    83.9\n",
       "17     79.7    86.9\n",
       "18     96.8    90.1\n",
       "19     81.9    75.4"
      ]
     },
     "metadata": {},
     "output_type": "display_data"
    }
   ],
   "source": [
    "# load the data and have a look\n",
    "heartRates = pandas.read_csv('data/HeartRates.csv')\n",
    "display(heartRates)"
   ]
  },
  {
   "cell_type": "markdown",
   "id": "e9d1c259",
   "metadata": {},
   "source": [
    "### Scatterplot\n",
    "\n",
    "In the case of paired data, the most effective way to get a sense of the data is a scatterplot:"
   ]
  },
  {
   "cell_type": "code",
   "execution_count": 9,
   "id": "7487e866",
   "metadata": {},
   "outputs": [
    {
     "data": {
      "text/plain": [
       "[<matplotlib.lines.Line2D at 0x7fe1f28993a0>]"
      ]
     },
     "execution_count": 9,
     "metadata": {},
     "output_type": "execute_result"
    },
    {
     "data": {
      "image/png": "[encoded data removed]",
      "text/plain": [
       "<Figure size 432x288 with 1 Axes>"
      ]
     },
     "metadata": {
      "needs_background": "light"
     },
     "output_type": "display_data"
    }
   ],
   "source": [
    "plt.scatter(data = heartRates, x=\"cookery\", y=\"horror\")\n",
    "plt.xlabel('heart rate: cookery')\n",
    "plt.ylabel('heart rate: horror')\n",
    "\n",
    "# add the line x=y (ie a line from point(50,50) to (110,110)) for reference \n",
    "plt.plot([50,110],[50,110],'k')"
   ]
  },
  {
   "cell_type": "markdown",
   "id": "337e7c00",
   "metadata": {},
   "source": [
    "It looks like\n",
    "<ul>\n",
    "    <li> For most individuals heart rate is higher during the horror show (most data points lie above the line x=y)\n",
    "    <li> There is a strong effect of individual - people with low heart rates during the cookery show also have low heart rates during the horror show (hence data points are stretched out along the line x=y)   \n",
    "</ul>\n",
    "\n",
    "It looks like individual differences in heart rate rather dwarf the effect of the type of TV show being watched. \n",
    "Therefore it is a good thing that we used a paired design, in which these individual differences are controlled for (as we only look at the change in heart rate between conditions for each individual)."
   ]
  },
  {
   "cell_type": "markdown",
   "id": "4a939204",
   "metadata": {},
   "source": [
    "### Check assumption of normality\n",
    "\n",
    "In the case of paired data, the assumption of the t-test is that \n",
    "the differences between conditions (for each participant) are normally distributed - let's add a column to our <tt>pandas</tt> data frame to contain the differences"
   ]
  },
  {
   "cell_type": "code",
   "execution_count": 10,
   "id": "27e72564",
   "metadata": {},
   "outputs": [
    {
     "data": {
      "text/html": [
       "<div>\n",
       "<style scoped>\n",
       "    .dataframe tbody tr th:only-of-type {\n",
       "        vertical-align: middle;\n",
       "    }\n",
       "\n",
       "    .dataframe tbody tr th {\n",
       "        vertical-align: top;\n",
       "    }\n",
       "\n",
       "    .dataframe thead th {\n",
       "        text-align: right;\n",
       "    }\n",
       "</style>\n",
       "<table border=\"1\" class=\"dataframe\">\n",
       "  <thead>\n",
       "    <tr style=\"text-align: right;\">\n",
       "      <th></th>\n",
       "      <th>cookery</th>\n",
       "      <th>horror</th>\n",
       "      <th>diff</th>\n",
       "    </tr>\n",
       "  </thead>\n",
       "  <tbody>\n",
       "    <tr>\n",
       "      <th>0</th>\n",
       "      <td>60.4</td>\n",
       "      <td>72.9</td>\n",
       "      <td>12.5</td>\n",
       "    </tr>\n",
       "    <tr>\n",
       "      <th>1</th>\n",
       "      <td>53.9</td>\n",
       "      <td>57.0</td>\n",
       "      <td>3.1</td>\n",
       "    </tr>\n",
       "    <tr>\n",
       "      <th>2</th>\n",
       "      <td>54.4</td>\n",
       "      <td>68.3</td>\n",
       "      <td>13.9</td>\n",
       "    </tr>\n",
       "    <tr>\n",
       "      <th>3</th>\n",
       "      <td>60.0</td>\n",
       "      <td>57.4</td>\n",
       "      <td>-2.6</td>\n",
       "    </tr>\n",
       "    <tr>\n",
       "      <th>4</th>\n",
       "      <td>67.7</td>\n",
       "      <td>58.7</td>\n",
       "      <td>-9.0</td>\n",
       "    </tr>\n",
       "    <tr>\n",
       "      <th>5</th>\n",
       "      <td>56.2</td>\n",
       "      <td>47.0</td>\n",
       "      <td>-9.2</td>\n",
       "    </tr>\n",
       "    <tr>\n",
       "      <th>6</th>\n",
       "      <td>61.9</td>\n",
       "      <td>71.8</td>\n",
       "      <td>9.9</td>\n",
       "    </tr>\n",
       "    <tr>\n",
       "      <th>7</th>\n",
       "      <td>58.9</td>\n",
       "      <td>62.1</td>\n",
       "      <td>3.2</td>\n",
       "    </tr>\n",
       "    <tr>\n",
       "      <th>8</th>\n",
       "      <td>65.6</td>\n",
       "      <td>68.6</td>\n",
       "      <td>3.0</td>\n",
       "    </tr>\n",
       "    <tr>\n",
       "      <th>9</th>\n",
       "      <td>54.6</td>\n",
       "      <td>73.8</td>\n",
       "      <td>19.2</td>\n",
       "    </tr>\n",
       "    <tr>\n",
       "      <th>10</th>\n",
       "      <td>85.2</td>\n",
       "      <td>93.1</td>\n",
       "      <td>7.9</td>\n",
       "    </tr>\n",
       "    <tr>\n",
       "      <th>11</th>\n",
       "      <td>87.8</td>\n",
       "      <td>94.8</td>\n",
       "      <td>7.0</td>\n",
       "    </tr>\n",
       "    <tr>\n",
       "      <th>12</th>\n",
       "      <td>90.5</td>\n",
       "      <td>111.4</td>\n",
       "      <td>20.9</td>\n",
       "    </tr>\n",
       "    <tr>\n",
       "      <th>13</th>\n",
       "      <td>92.7</td>\n",
       "      <td>89.7</td>\n",
       "      <td>-3.0</td>\n",
       "    </tr>\n",
       "    <tr>\n",
       "      <th>14</th>\n",
       "      <td>85.4</td>\n",
       "      <td>97.4</td>\n",
       "      <td>12.0</td>\n",
       "    </tr>\n",
       "    <tr>\n",
       "      <th>15</th>\n",
       "      <td>77.5</td>\n",
       "      <td>90.9</td>\n",
       "      <td>13.4</td>\n",
       "    </tr>\n",
       "    <tr>\n",
       "      <th>16</th>\n",
       "      <td>81.3</td>\n",
       "      <td>83.9</td>\n",
       "      <td>2.6</td>\n",
       "    </tr>\n",
       "    <tr>\n",
       "      <th>17</th>\n",
       "      <td>79.7</td>\n",
       "      <td>86.9</td>\n",
       "      <td>7.2</td>\n",
       "    </tr>\n",
       "    <tr>\n",
       "      <th>18</th>\n",
       "      <td>96.8</td>\n",
       "      <td>90.1</td>\n",
       "      <td>-6.7</td>\n",
       "    </tr>\n",
       "    <tr>\n",
       "      <th>19</th>\n",
       "      <td>81.9</td>\n",
       "      <td>75.4</td>\n",
       "      <td>-6.5</td>\n",
       "    </tr>\n",
       "  </tbody>\n",
       "</table>\n",
       "</div>"
      ],
      "text/plain": [
       "    cookery  horror  diff\n",
       "0      60.4    72.9  12.5\n",
       "1      53.9    57.0   3.1\n",
       "2      54.4    68.3  13.9\n",
       "3      60.0    57.4  -2.6\n",
       "4      67.7    58.7  -9.0\n",
       "5      56.2    47.0  -9.2\n",
       "6      61.9    71.8   9.9\n",
       "7      58.9    62.1   3.2\n",
       "8      65.6    68.6   3.0\n",
       "9      54.6    73.8  19.2\n",
       "10     85.2    93.1   7.9\n",
       "11     87.8    94.8   7.0\n",
       "12     90.5   111.4  20.9\n",
       "13     92.7    89.7  -3.0\n",
       "14     85.4    97.4  12.0\n",
       "15     77.5    90.9  13.4\n",
       "16     81.3    83.9   2.6\n",
       "17     79.7    86.9   7.2\n",
       "18     96.8    90.1  -6.7\n",
       "19     81.9    75.4  -6.5"
      ]
     },
     "execution_count": 10,
     "metadata": {},
     "output_type": "execute_result"
    }
   ],
   "source": [
    "heartRates['diff'] = heartRates.horror - heartRates.cookery\n",
    "heartRates"
   ]
  },
  {
   "cell_type": "markdown",
   "id": "a17cf9a6",
   "metadata": {},
   "source": [
    "Now let's plot the differences to get a sense of whether they are normally distributed."
   ]
  },
  {
   "cell_type": "code",
   "execution_count": 11,
   "id": "444b9b4f",
   "metadata": {},
   "outputs": [
    {
     "data": {
      "text/plain": [
       "<AxesSubplot:xlabel='diff', ylabel='Density'>"
      ]
     },
     "execution_count": 11,
     "metadata": {},
     "output_type": "execute_result"
    },
    {
     "data": {
      "image/png": "[encoded data removed]",
      "text/plain": [
       "<Figure size 432x288 with 1 Axes>"
      ]
     },
     "metadata": {
      "needs_background": "light"
     },
     "output_type": "display_data"
    }
   ],
   "source": [
    "sns.kdeplot(data = heartRates,  x='diff')\n",
    "sns.rugplot(data = heartRates, x='diff', height=0.1,)"
   ]
  },
  {
   "cell_type": "markdown",
   "id": "8feb5101",
   "metadata": {},
   "source": [
    "The distribution looks fairly normal - for the sake of this example we can safely go ahead and use the t-test (although in real life I think it is always tricky to know if the data are really normally distributed)"
   ]
  },
  {
   "cell_type": "markdown",
   "id": "3f7dcbaa",
   "metadata": {},
   "source": [
    "### Hypotheses\n",
    "\n",
    "Ho: the mean difference in heart rate for an individual watching cookery or horror shows is zero\n",
    "\n",
    "Ha: the mean difference in heart rate is positive (higher heart rate for horror)\n",
    "    \n",
    "This is a one tailed test as the researcher's hypothesis (described above) is directional - \n",
    "she thinks horror movies increase heart rate\n",
    "\n",
    "We will test at the $\\alpha = 0.05$ significance level"
   ]
  },
  {
   "cell_type": "markdown",
   "id": "f87356aa",
   "metadata": {},
   "source": [
    "### Descriptive statistics\n",
    "\n",
    "First, we obtain the relevant desriptive statistics. \n",
    "By relevant, I mean the ones that go into the equation for the t-test:\n",
    "\n",
    "$$ t = \\frac{\\bar{d}}{\\frac{s_d}{\\sqrt{n}}} $$\n",
    "\n",
    "This would be the means difference in heart rate for horror-cookery $\\bar{d}$,\n",
    "the standard deviations of the differences $s_d$ and the number of participants $n$.\n",
    "\n",
    "We obtain the descriptive statistics for each column in our dataframe using the <tt>describe()</tt> method as before:"
   ]
  },
  {
   "cell_type": "code",
   "execution_count": 12,
   "id": "edf0066e",
   "metadata": {},
   "outputs": [
    {
     "data": {
      "text/html": [
       "<div>\n",
       "<style scoped>\n",
       "    .dataframe tbody tr th:only-of-type {\n",
       "        vertical-align: middle;\n",
       "    }\n",
       "\n",
       "    .dataframe tbody tr th {\n",
       "        vertical-align: top;\n",
       "    }\n",
       "\n",
       "    .dataframe thead th {\n",
       "        text-align: right;\n",
       "    }\n",
       "</style>\n",
       "<table border=\"1\" class=\"dataframe\">\n",
       "  <thead>\n",
       "    <tr style=\"text-align: right;\">\n",
       "      <th></th>\n",
       "      <th>cookery</th>\n",
       "      <th>horror</th>\n",
       "      <th>diff</th>\n",
       "    </tr>\n",
       "  </thead>\n",
       "  <tbody>\n",
       "    <tr>\n",
       "      <th>count</th>\n",
       "      <td>20.000000</td>\n",
       "      <td>20.000000</td>\n",
       "      <td>20.000000</td>\n",
       "    </tr>\n",
       "    <tr>\n",
       "      <th>mean</th>\n",
       "      <td>72.620000</td>\n",
       "      <td>77.560000</td>\n",
       "      <td>4.940000</td>\n",
       "    </tr>\n",
       "    <tr>\n",
       "      <th>std</th>\n",
       "      <td>14.612489</td>\n",
       "      <td>16.678047</td>\n",
       "      <td>9.049013</td>\n",
       "    </tr>\n",
       "    <tr>\n",
       "      <th>min</th>\n",
       "      <td>53.900000</td>\n",
       "      <td>47.000000</td>\n",
       "      <td>-9.200000</td>\n",
       "    </tr>\n",
       "    <tr>\n",
       "      <th>25%</th>\n",
       "      <td>59.725000</td>\n",
       "      <td>66.750000</td>\n",
       "      <td>-2.700000</td>\n",
       "    </tr>\n",
       "    <tr>\n",
       "      <th>50%</th>\n",
       "      <td>72.600000</td>\n",
       "      <td>74.600000</td>\n",
       "      <td>5.100000</td>\n",
       "    </tr>\n",
       "    <tr>\n",
       "      <th>75%</th>\n",
       "      <td>85.250000</td>\n",
       "      <td>90.300000</td>\n",
       "      <td>12.125000</td>\n",
       "    </tr>\n",
       "    <tr>\n",
       "      <th>max</th>\n",
       "      <td>96.800000</td>\n",
       "      <td>111.400000</td>\n",
       "      <td>20.900000</td>\n",
       "    </tr>\n",
       "  </tbody>\n",
       "</table>\n",
       "</div>"
      ],
      "text/plain": [
       "         cookery      horror       diff\n",
       "count  20.000000   20.000000  20.000000\n",
       "mean   72.620000   77.560000   4.940000\n",
       "std    14.612489   16.678047   9.049013\n",
       "min    53.900000   47.000000  -9.200000\n",
       "25%    59.725000   66.750000  -2.700000\n",
       "50%    72.600000   74.600000   5.100000\n",
       "75%    85.250000   90.300000  12.125000\n",
       "max    96.800000  111.400000  20.900000"
      ]
     },
     "execution_count": 12,
     "metadata": {},
     "output_type": "execute_result"
    }
   ],
   "source": [
    "heartRates.describe()"
   ]
  },
  {
   "cell_type": "markdown",
   "id": "c451bdf8",
   "metadata": {},
   "source": [
    "So the mean difference is 4.94 beats per minute (higher in the horror condition). This is quite large compared to the mean heart rate in each condition (72.6 bpm in the cookery condition and 77.5 in the horror condition) - more than 5% difference. So on average the horror movie is producing quite a noticeable increase in heart rate.\n",
    "\n",
    "The standard deviation of differences is 9.04 bpm. This is lower than the standard deviation within each condition (14.6 and 16.7 for cookery and horror), which reflects the correlation between heart rates in the two conditions, as seen in the scatter plot above.\n",
    "\n",
    "The number of participants is 20."
   ]
  },
  {
   "cell_type": "markdown",
   "id": "ef4dbdfe",
   "metadata": {},
   "source": [
    "### Carry out the test\n",
    "\n",
    "We carry out a paired samples t-test using the function <tt>ttest_rel</tt> (that's <tt>rel</tt> for related samples) from <tt>scipy.stats</tt>, here loaded as <tt>stats</tt>"
   ]
  },
  {
   "cell_type": "code",
   "execution_count": 96,
   "id": "c33aecaa",
   "metadata": {},
   "outputs": [
    {
     "data": {
      "text/plain": [
       "Ttest_relResult(statistic=2.441410157227071, pvalue=0.012293439285066599)"
      ]
     },
     "execution_count": 96,
     "metadata": {},
     "output_type": "execute_result"
    }
   ],
   "source": [
    "stats.ttest_rel(heartRates.horror, heartRates.cookery, alternative='greater')"
   ]
  },
  {
   "cell_type": "markdown",
   "id": "745b0501",
   "metadata": {},
   "source": [
    "The inputs to stats.ttest are the two samples to be compared (columns from our Pandas data frame <tt>heartRates</tt>) \n",
    "and the argument <tt>alternative='greater'</tt>, which tells the computer to run a one tailed test \n",
    "that mean of the first input <tt>heartRate.horror</tt> is greater than the second <tt>heartRate.cookery</tt>.\n",
    "\n",
    "The outputs are <tt>statistic</tt> ($t=2.44$) and <tt>pvalue</tt> ($p=0.0122$) - if this is less than our $\\alpha$ value 0.5, there is a significant difference\n",
    "\n",
    "\n",
    "### Degrees of freedom\n",
    "\n",
    "In a scientific write-up we also need to report the degrees of freedom of the test. This tells us how many observations (data-points) the test was based on, corrected for the number of means we had to estimate from the data in order to do the test.\n",
    "\n",
    "In the case of the paired samples t-test $df = n-1$ where $n$ is the number of pairs, so in this case, df=19 and we can report out test results as:\n",
    "\n",
    "$t(19) = 2.44, p=0.0122$ (one-tailed)\n",
    "\n",
    "### Interpretation\n",
    "\n",
    "Our t value of 2.27 means that the mean increase in heart rate from the cookery to horror conditions is 2.44 times the standard error (where $ SE = \\frac{s}{\\sqrt{n}}$). \n",
    "\n",
    "Such a large difference (in the expected direction) would occur 0.0123 (1.23%) of the time due to chance if the null hypothesis were true (if the TV show made no difference to the heart rate), hence the p value of 0.0123.\n",
    "\n",
    "This diagram shows the expected distribubtion of t-values if the null were true, with our obtained t-value marked:\n",
    "\n",
    "<img src=\"images/ttestHorror.png\" width=50% alt=\"There should be a picture of the t-distribution here\" >\n",
    "\n",
    "\n",
    "\n"
   ]
  },
  {
   "cell_type": "markdown",
   "id": "d41905aa",
   "metadata": {},
   "source": [
    "## Write-up \n",
    "<br>\n",
    "\n",
    "<div style = \"    padding-top: 10px;\n",
    "    padding-bottom: 10px;\n",
    "    padding-left: 10px;\n",
    "    padding-right: 10px;\n",
    "    box-shadow: 0px 8px 16px 0px rgba(0,0,0,0.2);\n",
    "    vertical-align: middle;\">\n",
    "    \n",
    "Above, I walked you through how to run the t-test and why we make different choices. \n",
    "    \n",
    "In this section we practice writing up our analysis in the correct style for a scientific report. \n",
    "    \n",
    "Replace the XXXs with the correct values!    \n",
    "\n",
    "</div>\n",
    "\n",
    "<br>"
   ]
  },
  {
   "cell_type": "markdown",
   "id": "541151e1",
   "metadata": {},
   "source": [
    "We tested the hypothesis that heart rate increases when watching a horror show as opposed to a cookery show.\n",
    "\n",
    "For 20 participants, average heart rate was measured over 30min watching a horror show and, on a separate day, 30min watching a cookery show (repeated measures design). The order of conditions was counterbalanced.\n",
    "\n",
    "Data are shown below - there appears to be a strong effect of resting heart rate (individuals with high heart rates in one condition have high heart rates in the other condition) and heart rates are generally higher in the horror condition:\n"
   ]
  },
  {
   "cell_type": "code",
   "execution_count": 22,
   "id": "d94629f2",
   "metadata": {},
   "outputs": [
    {
     "data": {
      "text/plain": [
       "[<matplotlib.lines.Line2D at 0x7fe1f2e4ae20>]"
      ]
     },
     "execution_count": 22,
     "metadata": {},
     "output_type": "execute_result"
    },
    {
     "data": {
      "image/png": "[encoded data removed]",
      "text/plain": [
       "<Figure size 432x288 with 1 Axes>"
      ]
     },
     "metadata": {
      "needs_background": "light"
     },
     "output_type": "display_data"
    }
   ],
   "source": [
    "plt.scatter(data = heartRates, x=\"cookery\", y=\"horror\")\n",
    "plt.xlabel('heart rate: cookery')\n",
    "plt.ylabel('heart rate: horror')\n",
    "\n",
    "# add the line x=y (ie a line from point(50,50) to (110,110)) for reference \n",
    "plt.plot([50,110],[50,110],'k')"
   ]
  },
  {
   "cell_type": "markdown",
   "id": "90e1e7e6",
   "metadata": {},
   "source": [
    "The mean increase in heart rate in the horror condition was X.XX beats per minute (condition means were XX.X bpm for cookery and XX.X for horror). The standard deviation of differences in heart rate was X.XX bpm (condition standard deviations were XX.X bpm for cookery and XX.X for horror). \n"
   ]
  },
  {
   "cell_type": "code",
   "execution_count": 13,
   "id": "bbe31317",
   "metadata": {},
   "outputs": [
    {
     "data": {
      "text/html": [
       "<div>\n",
       "<style scoped>\n",
       "    .dataframe tbody tr th:only-of-type {\n",
       "        vertical-align: middle;\n",
       "    }\n",
       "\n",
       "    .dataframe tbody tr th {\n",
       "        vertical-align: top;\n",
       "    }\n",
       "\n",
       "    .dataframe thead th {\n",
       "        text-align: right;\n",
       "    }\n",
       "</style>\n",
       "<table border=\"1\" class=\"dataframe\">\n",
       "  <thead>\n",
       "    <tr style=\"text-align: right;\">\n",
       "      <th></th>\n",
       "      <th>cookery</th>\n",
       "      <th>horror</th>\n",
       "      <th>diff</th>\n",
       "    </tr>\n",
       "  </thead>\n",
       "  <tbody>\n",
       "    <tr>\n",
       "      <th>count</th>\n",
       "      <td>20.000000</td>\n",
       "      <td>20.000000</td>\n",
       "      <td>20.000000</td>\n",
       "    </tr>\n",
       "    <tr>\n",
       "      <th>mean</th>\n",
       "      <td>72.620000</td>\n",
       "      <td>77.560000</td>\n",
       "      <td>4.940000</td>\n",
       "    </tr>\n",
       "    <tr>\n",
       "      <th>std</th>\n",
       "      <td>14.612489</td>\n",
       "      <td>16.678047</td>\n",
       "      <td>9.049013</td>\n",
       "    </tr>\n",
       "    <tr>\n",
       "      <th>min</th>\n",
       "      <td>53.900000</td>\n",
       "      <td>47.000000</td>\n",
       "      <td>-9.200000</td>\n",
       "    </tr>\n",
       "    <tr>\n",
       "      <th>25%</th>\n",
       "      <td>59.725000</td>\n",
       "      <td>66.750000</td>\n",
       "      <td>-2.700000</td>\n",
       "    </tr>\n",
       "    <tr>\n",
       "      <th>50%</th>\n",
       "      <td>72.600000</td>\n",
       "      <td>74.600000</td>\n",
       "      <td>5.100000</td>\n",
       "    </tr>\n",
       "    <tr>\n",
       "      <th>75%</th>\n",
       "      <td>85.250000</td>\n",
       "      <td>90.300000</td>\n",
       "      <td>12.125000</td>\n",
       "    </tr>\n",
       "    <tr>\n",
       "      <th>max</th>\n",
       "      <td>96.800000</td>\n",
       "      <td>111.400000</td>\n",
       "      <td>20.900000</td>\n",
       "    </tr>\n",
       "  </tbody>\n",
       "</table>\n",
       "</div>"
      ],
      "text/plain": [
       "         cookery      horror       diff\n",
       "count  20.000000   20.000000  20.000000\n",
       "mean   72.620000   77.560000   4.940000\n",
       "std    14.612489   16.678047   9.049013\n",
       "min    53.900000   47.000000  -9.200000\n",
       "25%    59.725000   66.750000  -2.700000\n",
       "50%    72.600000   74.600000   5.100000\n",
       "75%    85.250000   90.300000  12.125000\n",
       "max    96.800000  111.400000  20.900000"
      ]
     },
     "execution_count": 13,
     "metadata": {},
     "output_type": "execute_result"
    }
   ],
   "source": [
    "heartRates = pandas.read_csv('data/HeartRates.csv')\n",
    "heartRates['diff'] = heartRates.horror - heartRates.cookery\n",
    "heartRates.describe()"
   ]
  },
  {
   "cell_type": "markdown",
   "id": "e75c3a7a",
   "metadata": {},
   "source": [
    "The differences in heart rate were determined by inspection to be approximately normally distrbuted:"
   ]
  },
  {
   "cell_type": "code",
   "execution_count": 16,
   "id": "101fe433",
   "metadata": {},
   "outputs": [
    {
     "data": {
      "text/plain": [
       "Text(0, 0.5, 'Density')"
      ]
     },
     "execution_count": 16,
     "metadata": {},
     "output_type": "execute_result"
    },
    {
     "data": {
      "image/png": "[encoded data removed]",
      "text/plain": [
       "<Figure size 432x288 with 1 Axes>"
      ]
     },
     "metadata": {
      "needs_background": "light"
     },
     "output_type": "display_data"
    }
   ],
   "source": [
    "plot = sns.kdeplot(data = heartRates,  x='diff')\n",
    "sns.rugplot(data = heartRates, x='diff', height=0.1,)\n",
    "plot.set_xlabel(\"heart rate (BPM)\", fontsize = 16)\n",
    "plot.set_ylabel(\"Density\", fontsize = 16)"
   ]
  },
  {
   "cell_type": "markdown",
   "id": "26026707",
   "metadata": {},
   "source": [
    "An paired samples t-test was therefore used to compare the means (alpha = XXX, XXX-tailed). "
   ]
  },
  {
   "cell_type": "code",
   "execution_count": 18,
   "id": "533de1f1",
   "metadata": {},
   "outputs": [
    {
     "data": {
      "text/plain": [
       "Ttest_relResult(statistic=2.441410157227071, pvalue=0.012293439285066599)"
      ]
     },
     "execution_count": 18,
     "metadata": {},
     "output_type": "execute_result"
    }
   ],
   "source": [
    "stats.ttest_rel(heartRates.horror, heartRates.cookery, alternative='greater')"
   ]
  },
  {
   "cell_type": "markdown",
   "id": "c83db7d7",
   "metadata": {},
   "source": [
    "Heart rates were indeed significantly increased in the horror condition: t(19) = X.XX, p=X.XXX.\n",
    "\n",
    "As p<0.05 we conclude that on average, individuals' heart rates increase when watching horror shows as opposed to cookery shows."
   ]
  },
  {
   "cell_type": "markdown",
   "id": "d92fe13a",
   "metadata": {},
   "source": [
    "\n",
    "## Further Exercises\n",
    "<ol>\n",
    "<li> What do you think would happen if you ran an independent samples t-test on the data - would the p value become more or less significant? Why?\n",
    "<li> Change the code to actually run an independent samples test. Was you intuition correct?\n",
    "</ol>\n"
   ]
  }
 ],
 "metadata": {
  "kernelspec": {
   "display_name": "Python 3 (ipykernel)",
   "language": "python",
   "name": "python3"
  },
  "language_info": {
   "codemirror_mode": {
    "name": "ipython",
    "version": 3
   },
   "file_extension": ".py",
   "mimetype": "text/x-python",
   "name": "python",
   "nbconvert_exporter": "python",
   "pygments_lexer": "ipython3",
   "version": "3.9.7"
  }
 },
 "nbformat": 4,
 "nbformat_minor": 5
}
