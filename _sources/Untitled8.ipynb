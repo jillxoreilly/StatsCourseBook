{
 "cells": [
  {
   "cell_type": "markdown",
   "id": "8501b536",
   "metadata": {},
   "source": [
    "# Climate example"
   ]
  },
  {
   "cell_type": "markdown",
   "id": "06a3540a",
   "metadata": {},
   "source": [
    "## Example\n",
    "\n",
    "We will look at a dataset containing carbon emissions, GDP and population for 247 countries (data from 2018)./\n",
    "\n",
    "These data came from <a href=\"https://ourworldindata.org/\">Our World in Data</a>, a fabulous Oxford-based organization that provides datasets and visualizations addressing global issues.\n",
    "\n",
    "\n",
    "### Set up Python libraries\n",
    "\n",
    "As usual, run the code cell below to import the relevant Python libraries"
   ]
  },
  {
   "cell_type": "code",
   "execution_count": 20,
   "id": "7f1d34e0",
   "metadata": {},
   "outputs": [],
   "source": [
    "# Set-up Python libraries - you need to run this but you don't need to change it\n",
    "import numpy as np\n",
    "import matplotlib.pyplot as plt\n",
    "import scipy.stats as stats\n",
    "import pandas \n",
    "import seaborn as sns\n",
    "sns.set_theme() # use pretty defaults"
   ]
  },
  {
   "cell_type": "markdown",
   "id": "61a813ae",
   "metadata": {},
   "source": [
    "### Load and inspect the data\n",
    "\n",
    "Load the data from the file CO2vGDP.csv"
   ]
  },
  {
   "cell_type": "code",
   "execution_count": 21,
   "id": "907f56dc",
   "metadata": {},
   "outputs": [
    {
     "data": {
      "text/html": [
       "<div>\n",
       "<style scoped>\n",
       "    .dataframe tbody tr th:only-of-type {\n",
       "        vertical-align: middle;\n",
       "    }\n",
       "\n",
       "    .dataframe tbody tr th {\n",
       "        vertical-align: top;\n",
       "    }\n",
       "\n",
       "    .dataframe thead th {\n",
       "        text-align: right;\n",
       "    }\n",
       "</style>\n",
       "<table border=\"1\" class=\"dataframe\">\n",
       "  <thead>\n",
       "    <tr style=\"text-align: right;\">\n",
       "      <th></th>\n",
       "      <th>Country</th>\n",
       "      <th>CO2</th>\n",
       "      <th>GDP</th>\n",
       "      <th>population</th>\n",
       "    </tr>\n",
       "  </thead>\n",
       "  <tbody>\n",
       "    <tr>\n",
       "      <th>0</th>\n",
       "      <td>Afghanistan</td>\n",
       "      <td>0.2245</td>\n",
       "      <td>1934.555054</td>\n",
       "      <td>3.668679e+07</td>\n",
       "    </tr>\n",
       "    <tr>\n",
       "      <th>1</th>\n",
       "      <td>Albania</td>\n",
       "      <td>1.6422</td>\n",
       "      <td>11104.166020</td>\n",
       "      <td>2.877019e+06</td>\n",
       "    </tr>\n",
       "    <tr>\n",
       "      <th>2</th>\n",
       "      <td>Algeria</td>\n",
       "      <td>3.8241</td>\n",
       "      <td>14228.025390</td>\n",
       "      <td>4.192701e+07</td>\n",
       "    </tr>\n",
       "    <tr>\n",
       "      <th>3</th>\n",
       "      <td>American Samoa</td>\n",
       "      <td>NaN</td>\n",
       "      <td>NaN</td>\n",
       "      <td>4.844500e+04</td>\n",
       "    </tr>\n",
       "    <tr>\n",
       "      <th>4</th>\n",
       "      <td>Andorra</td>\n",
       "      <td>6.4232</td>\n",
       "      <td>NaN</td>\n",
       "      <td>7.503400e+04</td>\n",
       "    </tr>\n",
       "    <tr>\n",
       "      <th>...</th>\n",
       "      <td>...</td>\n",
       "      <td>...</td>\n",
       "      <td>...</td>\n",
       "      <td>...</td>\n",
       "    </tr>\n",
       "    <tr>\n",
       "      <th>243</th>\n",
       "      <td>World</td>\n",
       "      <td>4.8022</td>\n",
       "      <td>15212.415040</td>\n",
       "      <td>7.683790e+09</td>\n",
       "    </tr>\n",
       "    <tr>\n",
       "      <th>244</th>\n",
       "      <td>Yemen</td>\n",
       "      <td>0.3503</td>\n",
       "      <td>2284.889893</td>\n",
       "      <td>3.079051e+07</td>\n",
       "    </tr>\n",
       "    <tr>\n",
       "      <th>245</th>\n",
       "      <td>Yugoslavia</td>\n",
       "      <td>NaN</td>\n",
       "      <td>16558.312500</td>\n",
       "      <td>NaN</td>\n",
       "    </tr>\n",
       "    <tr>\n",
       "      <th>246</th>\n",
       "      <td>Zambia</td>\n",
       "      <td>0.4215</td>\n",
       "      <td>3534.033691</td>\n",
       "      <td>1.783590e+07</td>\n",
       "    </tr>\n",
       "    <tr>\n",
       "      <th>247</th>\n",
       "      <td>Zimbabwe</td>\n",
       "      <td>0.8210</td>\n",
       "      <td>1611.405151</td>\n",
       "      <td>1.505219e+07</td>\n",
       "    </tr>\n",
       "  </tbody>\n",
       "</table>\n",
       "<p>248 rows × 4 columns</p>\n",
       "</div>"
      ],
      "text/plain": [
       "            Country     CO2           GDP    population\n",
       "0       Afghanistan  0.2245   1934.555054  3.668679e+07\n",
       "1           Albania  1.6422  11104.166020  2.877019e+06\n",
       "2           Algeria  3.8241  14228.025390  4.192701e+07\n",
       "3    American Samoa     NaN           NaN  4.844500e+04\n",
       "4           Andorra  6.4232           NaN  7.503400e+04\n",
       "..              ...     ...           ...           ...\n",
       "243           World  4.8022  15212.415040  7.683790e+09\n",
       "244           Yemen  0.3503   2284.889893  3.079051e+07\n",
       "245      Yugoslavia     NaN  16558.312500           NaN\n",
       "246          Zambia  0.4215   3534.033691  1.783590e+07\n",
       "247        Zimbabwe  0.8210   1611.405151  1.505219e+07\n",
       "\n",
       "[248 rows x 4 columns]"
      ]
     },
     "metadata": {},
     "output_type": "display_data"
    }
   ],
   "source": [
    "CO2vGDP = pandas.read_csv('data/CO2vGDP.csv')\n",
    "display(CO2vGDP)"
   ]
  },
  {
   "cell_type": "markdown",
   "id": "1c3e51ca",
   "metadata": {},
   "source": [
    "<b>Aside</b> - \n",
    "I notice that the GDP values contain loads of decimal places which makes them hard to read. \n",
    "Let's just round those:"
   ]
  },
  {
   "cell_type": "code",
   "execution_count": 23,
   "id": "5132573b",
   "metadata": {},
   "outputs": [
    {
     "data": {
      "text/html": [
       "<div>\n",
       "<style scoped>\n",
       "    .dataframe tbody tr th:only-of-type {\n",
       "        vertical-align: middle;\n",
       "    }\n",
       "\n",
       "    .dataframe tbody tr th {\n",
       "        vertical-align: top;\n",
       "    }\n",
       "\n",
       "    .dataframe thead th {\n",
       "        text-align: right;\n",
       "    }\n",
       "</style>\n",
       "<table border=\"1\" class=\"dataframe\">\n",
       "  <thead>\n",
       "    <tr style=\"text-align: right;\">\n",
       "      <th></th>\n",
       "      <th>Country</th>\n",
       "      <th>CO2</th>\n",
       "      <th>GDP</th>\n",
       "      <th>population</th>\n",
       "    </tr>\n",
       "  </thead>\n",
       "  <tbody>\n",
       "    <tr>\n",
       "      <th>0</th>\n",
       "      <td>Afghanistan</td>\n",
       "      <td>0.2245</td>\n",
       "      <td>1935.0</td>\n",
       "      <td>3.668679e+07</td>\n",
       "    </tr>\n",
       "    <tr>\n",
       "      <th>1</th>\n",
       "      <td>Albania</td>\n",
       "      <td>1.6422</td>\n",
       "      <td>11104.0</td>\n",
       "      <td>2.877019e+06</td>\n",
       "    </tr>\n",
       "    <tr>\n",
       "      <th>2</th>\n",
       "      <td>Algeria</td>\n",
       "      <td>3.8241</td>\n",
       "      <td>14228.0</td>\n",
       "      <td>4.192701e+07</td>\n",
       "    </tr>\n",
       "    <tr>\n",
       "      <th>3</th>\n",
       "      <td>American Samoa</td>\n",
       "      <td>NaN</td>\n",
       "      <td>NaN</td>\n",
       "      <td>4.844500e+04</td>\n",
       "    </tr>\n",
       "    <tr>\n",
       "      <th>4</th>\n",
       "      <td>Andorra</td>\n",
       "      <td>6.4232</td>\n",
       "      <td>NaN</td>\n",
       "      <td>7.503400e+04</td>\n",
       "    </tr>\n",
       "    <tr>\n",
       "      <th>...</th>\n",
       "      <td>...</td>\n",
       "      <td>...</td>\n",
       "      <td>...</td>\n",
       "      <td>...</td>\n",
       "    </tr>\n",
       "    <tr>\n",
       "      <th>243</th>\n",
       "      <td>World</td>\n",
       "      <td>4.8022</td>\n",
       "      <td>15212.0</td>\n",
       "      <td>7.683790e+09</td>\n",
       "    </tr>\n",
       "    <tr>\n",
       "      <th>244</th>\n",
       "      <td>Yemen</td>\n",
       "      <td>0.3503</td>\n",
       "      <td>2285.0</td>\n",
       "      <td>3.079051e+07</td>\n",
       "    </tr>\n",
       "    <tr>\n",
       "      <th>245</th>\n",
       "      <td>Yugoslavia</td>\n",
       "      <td>NaN</td>\n",
       "      <td>16558.0</td>\n",
       "      <td>NaN</td>\n",
       "    </tr>\n",
       "    <tr>\n",
       "      <th>246</th>\n",
       "      <td>Zambia</td>\n",
       "      <td>0.4215</td>\n",
       "      <td>3534.0</td>\n",
       "      <td>1.783590e+07</td>\n",
       "    </tr>\n",
       "    <tr>\n",
       "      <th>247</th>\n",
       "      <td>Zimbabwe</td>\n",
       "      <td>0.8210</td>\n",
       "      <td>1611.0</td>\n",
       "      <td>1.505219e+07</td>\n",
       "    </tr>\n",
       "  </tbody>\n",
       "</table>\n",
       "<p>248 rows × 4 columns</p>\n",
       "</div>"
      ],
      "text/plain": [
       "            Country     CO2      GDP    population\n",
       "0       Afghanistan  0.2245   1935.0  3.668679e+07\n",
       "1           Albania  1.6422  11104.0  2.877019e+06\n",
       "2           Algeria  3.8241  14228.0  4.192701e+07\n",
       "3    American Samoa     NaN      NaN  4.844500e+04\n",
       "4           Andorra  6.4232      NaN  7.503400e+04\n",
       "..              ...     ...      ...           ...\n",
       "243           World  4.8022  15212.0  7.683790e+09\n",
       "244           Yemen  0.3503   2285.0  3.079051e+07\n",
       "245      Yugoslavia     NaN  16558.0           NaN\n",
       "246          Zambia  0.4215   3534.0  1.783590e+07\n",
       "247        Zimbabwe  0.8210   1611.0  1.505219e+07\n",
       "\n",
       "[248 rows x 4 columns]"
      ]
     },
     "metadata": {},
     "output_type": "display_data"
    }
   ],
   "source": [
    "CO2vGDP['GDP']=CO2vGDP['GDP'].round()\n",
    "display(CO2vGDP)"
   ]
  },
  {
   "cell_type": "markdown",
   "id": "5acf98f9",
   "metadata": {},
   "source": [
    "It is easier to comapre the values now as the larger GDPs actually take up more space!"
   ]
  },
  {
   "cell_type": "markdown",
   "id": "dbfb57fd",
   "metadata": {},
   "source": [
    "### Plot the data\n",
    "\n",
    "Let's plot the data. A scatterplot is a good choice for bivariate data such as these."
   ]
  },
  {
   "cell_type": "code",
   "execution_count": 8,
   "id": "e0fdb926",
   "metadata": {
    "scrolled": false
   },
   "outputs": [
    {
     "data": {
      "text/plain": [
       "Text(0, 0.5, 'CO2 emissions: tonnes/person/year')"
      ]
     },
     "execution_count": 8,
     "metadata": {},
     "output_type": "execute_result"
    },
    {
     "data": {
      "image/png": "[encoded data removed]",
      "text/plain": [
       "<Figure size 640x480 with 1 Axes>"
      ]
     },
     "metadata": {},
     "output_type": "display_data"
    }
   ],
   "source": [
    "sns.scatterplot(data=CO2vGDP, x='GDP', y='CO2')\n",
    "plt.xlabel('GDP: $/person/year')\n",
    "plt.ylabel('CO2 emissions: tonnes/person/year')"
   ]
  },
  {
   "cell_type": "markdown",
   "id": "210e8c6e",
   "metadata": {},
   "source": [
    "Let's find the UK on that graph:"
   ]
  },
  {
   "cell_type": "code",
   "execution_count": 30,
   "id": "64dca18f",
   "metadata": {
    "scrolled": false
   },
   "outputs": [
    {
     "data": {
      "text/plain": [
       "Text(0, 0.5, 'CO2 emissions: tonnes/person/year')"
      ]
     },
     "execution_count": 30,
     "metadata": {},
     "output_type": "execute_result"
    },
    {
     "data": {
      "image/png": "[encoded data removed]",
      "text/plain": [
       "<Figure size 640x480 with 1 Axes>"
      ]
     },
     "metadata": {},
     "output_type": "display_data"
    }
   ],
   "source": [
    "sns.scatterplot(data=CO2vGDP, x='GDP', y='CO2')\n",
    "sns.scatterplot(data=CO2vGDP[CO2vGDP['Country']=='United Kingdom'], x='GDP', y='CO2',color='r') # see what I did there to plot the UK in red?\n",
    "plt.xlabel('GDP: $/person/year')\n",
    "plt.ylabel('CO2 emissions: tonnes/person/year')"
   ]
  },
  {
   "cell_type": "markdown",
   "id": "954275e6",
   "metadata": {},
   "source": [
    "### Calculate the correlation\n",
    "\n",
    "We can calculate the correlation using the built in function <tt>pandas.df.corr()</tt>"
   ]
  },
  {
   "cell_type": "code",
   "execution_count": 10,
   "id": "c16b91d1",
   "metadata": {},
   "outputs": [
    {
     "data": {
      "text/html": [
       "<div>\n",
       "<style scoped>\n",
       "    .dataframe tbody tr th:only-of-type {\n",
       "        vertical-align: middle;\n",
       "    }\n",
       "\n",
       "    .dataframe tbody tr th {\n",
       "        vertical-align: top;\n",
       "    }\n",
       "\n",
       "    .dataframe thead th {\n",
       "        text-align: right;\n",
       "    }\n",
       "</style>\n",
       "<table border=\"1\" class=\"dataframe\">\n",
       "  <thead>\n",
       "    <tr style=\"text-align: right;\">\n",
       "      <th></th>\n",
       "      <th>CO2</th>\n",
       "      <th>GDP</th>\n",
       "      <th>population</th>\n",
       "    </tr>\n",
       "  </thead>\n",
       "  <tbody>\n",
       "    <tr>\n",
       "      <th>CO2</th>\n",
       "      <td>1.00000</td>\n",
       "      <td>0.795120</td>\n",
       "      <td>-0.018510</td>\n",
       "    </tr>\n",
       "    <tr>\n",
       "      <th>GDP</th>\n",
       "      <td>0.79512</td>\n",
       "      <td>1.000000</td>\n",
       "      <td>-0.028473</td>\n",
       "    </tr>\n",
       "    <tr>\n",
       "      <th>population</th>\n",
       "      <td>-0.01851</td>\n",
       "      <td>-0.028473</td>\n",
       "      <td>1.000000</td>\n",
       "    </tr>\n",
       "  </tbody>\n",
       "</table>\n",
       "</div>"
      ],
      "text/plain": [
       "                CO2       GDP  population\n",
       "CO2         1.00000  0.795120   -0.018510\n",
       "GDP         0.79512  1.000000   -0.028473\n",
       "population -0.01851 -0.028473    1.000000"
      ]
     },
     "execution_count": 10,
     "metadata": {},
     "output_type": "execute_result"
    }
   ],
   "source": [
    "CO2vGDP.corr()"
   ]
  },
  {
   "cell_type": "markdown",
   "id": "97890790",
   "metadata": {},
   "source": [
    "Humph, population was included in my correlation matrix, which I didn't really want. \n",
    "\n",
    "The function <tt>pandas.df.corr()</tt> returns the matrix of correlations between all pairs of variables in your dataframe. \n",
    "\n",
    "This isn't a ibg problem in the current case, but if you had a big dataframe with many irrelevant columns, it would be an issue, because we don't want the reader to have to search through a huge correlation matrix to find the correlation we are interested in.\n",
    "\n",
    "Annoyingly, the only way to avoid this is to create a new dataframe with only the columns you want to correlate, like this:"
   ]
  },
  {
   "cell_type": "code",
   "execution_count": 17,
   "id": "81c2e9c1",
   "metadata": {},
   "outputs": [
    {
     "data": {
      "text/html": [
       "<div>\n",
       "<style scoped>\n",
       "    .dataframe tbody tr th:only-of-type {\n",
       "        vertical-align: middle;\n",
       "    }\n",
       "\n",
       "    .dataframe tbody tr th {\n",
       "        vertical-align: top;\n",
       "    }\n",
       "\n",
       "    .dataframe thead th {\n",
       "        text-align: right;\n",
       "    }\n",
       "</style>\n",
       "<table border=\"1\" class=\"dataframe\">\n",
       "  <thead>\n",
       "    <tr style=\"text-align: right;\">\n",
       "      <th></th>\n",
       "      <th>CO2</th>\n",
       "      <th>GDP</th>\n",
       "    </tr>\n",
       "  </thead>\n",
       "  <tbody>\n",
       "    <tr>\n",
       "      <th>CO2</th>\n",
       "      <td>1.00000</td>\n",
       "      <td>0.79512</td>\n",
       "    </tr>\n",
       "    <tr>\n",
       "      <th>GDP</th>\n",
       "      <td>0.79512</td>\n",
       "      <td>1.00000</td>\n",
       "    </tr>\n",
       "  </tbody>\n",
       "</table>\n",
       "</div>"
      ],
      "text/plain": [
       "         CO2      GDP\n",
       "CO2  1.00000  0.79512\n",
       "GDP  0.79512  1.00000"
      ]
     },
     "execution_count": 17,
     "metadata": {},
     "output_type": "execute_result"
    }
   ],
   "source": [
    "CO2vGDP_reduced = CO2vGDP[['CO2','GDP']] # new dataframe has only columns 'CO2' and 'GDP'\n",
    "CO2vGDP_reduced.corr()"
   ]
  },
  {
   "cell_type": "markdown",
   "id": "569c0d74",
   "metadata": {},
   "source": [
    "The correlation between GDP and C02 looks quite high, 0.79.\n",
    "\n",
    "\n",
    "### Outliers\n",
    "\n",
    "Looking at our scatterplot, I can see a problem - there is one bad outlier with very high GDP and high CO2 emissions.\n",
    "\n",
    "Any guesses what this country is? \n",
    "\n",
    "We can find out by sorting the dataframe by GDP:"
   ]
  },
  {
   "cell_type": "code",
   "execution_count": 26,
   "id": "e96ad0d9",
   "metadata": {},
   "outputs": [
    {
     "data": {
      "text/html": [
       "<div>\n",
       "<style scoped>\n",
       "    .dataframe tbody tr th:only-of-type {\n",
       "        vertical-align: middle;\n",
       "    }\n",
       "\n",
       "    .dataframe tbody tr th {\n",
       "        vertical-align: top;\n",
       "    }\n",
       "\n",
       "    .dataframe thead th {\n",
       "        text-align: right;\n",
       "    }\n",
       "</style>\n",
       "<table border=\"1\" class=\"dataframe\">\n",
       "  <thead>\n",
       "    <tr style=\"text-align: right;\">\n",
       "      <th></th>\n",
       "      <th>Country</th>\n",
       "      <th>CO2</th>\n",
       "      <th>GDP</th>\n",
       "      <th>population</th>\n",
       "    </tr>\n",
       "  </thead>\n",
       "  <tbody>\n",
       "    <tr>\n",
       "      <th>177</th>\n",
       "      <td>Qatar</td>\n",
       "      <td>38.4397</td>\n",
       "      <td>153764.0</td>\n",
       "      <td>2766743.0</td>\n",
       "    </tr>\n",
       "    <tr>\n",
       "      <th>163</th>\n",
       "      <td>Norway</td>\n",
       "      <td>8.3307</td>\n",
       "      <td>84580.0</td>\n",
       "      <td>5312321.0</td>\n",
       "    </tr>\n",
       "    <tr>\n",
       "      <th>230</th>\n",
       "      <td>United Arab Emirates</td>\n",
       "      <td>16.0112</td>\n",
       "      <td>76398.0</td>\n",
       "      <td>9140172.0</td>\n",
       "    </tr>\n",
       "    <tr>\n",
       "      <th>197</th>\n",
       "      <td>Singapore</td>\n",
       "      <td>7.9898</td>\n",
       "      <td>68402.0</td>\n",
       "      <td>5814543.0</td>\n",
       "    </tr>\n",
       "    <tr>\n",
       "      <th>114</th>\n",
       "      <td>Kuwait</td>\n",
       "      <td>23.1008</td>\n",
       "      <td>65521.0</td>\n",
       "      <td>4317190.0</td>\n",
       "    </tr>\n",
       "    <tr>\n",
       "      <th>...</th>\n",
       "      <td>...</td>\n",
       "      <td>...</td>\n",
       "      <td>...</td>\n",
       "      <td>...</td>\n",
       "    </tr>\n",
       "    <tr>\n",
       "      <th>233</th>\n",
       "      <td>United States Virgin Islands</td>\n",
       "      <td>NaN</td>\n",
       "      <td>NaN</td>\n",
       "      <td>101377.0</td>\n",
       "    </tr>\n",
       "    <tr>\n",
       "      <th>236</th>\n",
       "      <td>Vanuatu</td>\n",
       "      <td>0.6009</td>\n",
       "      <td>NaN</td>\n",
       "      <td>297307.0</td>\n",
       "    </tr>\n",
       "    <tr>\n",
       "      <th>237</th>\n",
       "      <td>Vatican</td>\n",
       "      <td>NaN</td>\n",
       "      <td>NaN</td>\n",
       "      <td>810.0</td>\n",
       "    </tr>\n",
       "    <tr>\n",
       "      <th>240</th>\n",
       "      <td>Wallis and Futuna</td>\n",
       "      <td>2.2010</td>\n",
       "      <td>NaN</td>\n",
       "      <td>11840.0</td>\n",
       "    </tr>\n",
       "    <tr>\n",
       "      <th>242</th>\n",
       "      <td>Western Sahara</td>\n",
       "      <td>NaN</td>\n",
       "      <td>NaN</td>\n",
       "      <td>532011.0</td>\n",
       "    </tr>\n",
       "  </tbody>\n",
       "</table>\n",
       "<p>248 rows × 4 columns</p>\n",
       "</div>"
      ],
      "text/plain": [
       "                          Country      CO2       GDP  population\n",
       "177                         Qatar  38.4397  153764.0   2766743.0\n",
       "163                        Norway   8.3307   84580.0   5312321.0\n",
       "230          United Arab Emirates  16.0112   76398.0   9140172.0\n",
       "197                     Singapore   7.9898   68402.0   5814543.0\n",
       "114                        Kuwait  23.1008   65521.0   4317190.0\n",
       "..                            ...      ...       ...         ...\n",
       "233  United States Virgin Islands      NaN       NaN    101377.0\n",
       "236                       Vanuatu   0.6009       NaN    297307.0\n",
       "237                       Vatican      NaN       NaN       810.0\n",
       "240             Wallis and Futuna   2.2010       NaN     11840.0\n",
       "242                Western Sahara      NaN       NaN    532011.0\n",
       "\n",
       "[248 rows x 4 columns]"
      ]
     },
     "execution_count": 26,
     "metadata": {},
     "output_type": "execute_result"
    }
   ],
   "source": [
    "CO2vGDP.sort_values(by='GDP', ascending=False) # sort in descending order to put the richest country at the top"
   ]
  },
  {
   "cell_type": "markdown",
   "id": "77defc73",
   "metadata": {},
   "source": [
    "It's Qatar - maybe not what you expected?"
   ]
  },
  {
   "cell_type": "markdown",
   "id": "187b98a1",
   "metadata": {},
   "source": [
    "### Remove outlier\n",
    "\n",
    "Let's exclude Qatar from our dataset and re-calculate the correlation.\n",
    "\n",
    "We erase the values for Qatar data values for CO2 and GDP for Qatar to <tt>Nan</tt> but in this case, since they are not misrecorded but just unusual values, let's not do that, as we don't want to hide the data point.\n",
    "\n",
    "Instead we conduct the correlation on the dataframe excluding Qatar:"
   ]
  },
  {
   "cell_type": "code",
   "execution_count": 31,
   "id": "11c2464b",
   "metadata": {},
   "outputs": [
    {
     "data": {
      "text/html": [
       "<div>\n",
       "<style scoped>\n",
       "    .dataframe tbody tr th:only-of-type {\n",
       "        vertical-align: middle;\n",
       "    }\n",
       "\n",
       "    .dataframe tbody tr th {\n",
       "        vertical-align: top;\n",
       "    }\n",
       "\n",
       "    .dataframe thead th {\n",
       "        text-align: right;\n",
       "    }\n",
       "</style>\n",
       "<table border=\"1\" class=\"dataframe\">\n",
       "  <thead>\n",
       "    <tr style=\"text-align: right;\">\n",
       "      <th></th>\n",
       "      <th>CO2</th>\n",
       "      <th>GDP</th>\n",
       "      <th>population</th>\n",
       "    </tr>\n",
       "  </thead>\n",
       "  <tbody>\n",
       "    <tr>\n",
       "      <th>CO2</th>\n",
       "      <td>1.000000</td>\n",
       "      <td>0.732323</td>\n",
       "      <td>-0.016009</td>\n",
       "    </tr>\n",
       "    <tr>\n",
       "      <th>GDP</th>\n",
       "      <td>0.732323</td>\n",
       "      <td>1.000000</td>\n",
       "      <td>-0.026413</td>\n",
       "    </tr>\n",
       "    <tr>\n",
       "      <th>population</th>\n",
       "      <td>-0.016009</td>\n",
       "      <td>-0.026413</td>\n",
       "      <td>1.000000</td>\n",
       "    </tr>\n",
       "  </tbody>\n",
       "</table>\n",
       "</div>"
      ],
      "text/plain": [
       "                 CO2       GDP  population\n",
       "CO2         1.000000  0.732323   -0.016009\n",
       "GDP         0.732323  1.000000   -0.026413\n",
       "population -0.016009 -0.026413    1.000000"
      ]
     },
     "execution_count": 31,
     "metadata": {},
     "output_type": "execute_result"
    }
   ],
   "source": [
    "CO2vGDP[CO2vGDP['Country']!='Qatar'].corr()"
   ]
  },
  {
   "cell_type": "markdown",
   "id": "08acad0b",
   "metadata": {},
   "source": [
    "Hm, the correlation went down from $r$=0.79 to $r$=0.073 - lower but still strong\n",
    "\n",
    "Here's a plot of the data with Qatar excluded"
   ]
  },
  {
   "cell_type": "code",
   "execution_count": 33,
   "id": "2d54b88e",
   "metadata": {},
   "outputs": [
    {
     "data": {
      "text/plain": [
       "<AxesSubplot:xlabel='GDP', ylabel='CO2'>"
      ]
     },
     "execution_count": 33,
     "metadata": {},
     "output_type": "execute_result"
    },
    {
     "data": {
      "image/png": "[encoded data removed]",
      "text/plain": [
       "<Figure size 640x480 with 1 Axes>"
      ]
     },
     "metadata": {},
     "output_type": "display_data"
    }
   ],
   "source": [
    "sns.scatterplot(data=CO2vGDP[CO2vGDP['Country']!='Qatar'], x='GDP', y='CO2')\n",
    "plt.xlabel('GDP: $/person/year')\n",
    "plt.ylabel('CO2 emissions: tonnes/person/year')"
   ]
  },
  {
   "cell_type": "markdown",
   "id": "98c6da57",
   "metadata": {},
   "source": [
    "We no longer have an obvious outlier, but we do have a problem, called heteroscedasticity\n",
    "\n",
    "Heteroscedasticty is when the variance of the data in $y$ depends on the value in $x$. In this case, CO2 emissions are more variable for high income countries (which can be high- or low poluting) compared to low income countries\n",
    "\n",
    "This property violates the assumptions of the c"
   ]
  },
  {
   "cell_type": "code",
   "execution_count": null,
   "id": "07318dd5",
   "metadata": {},
   "outputs": [],
   "source": []
  }
 ],
 "metadata": {
  "kernelspec": {
   "display_name": "Python 3 (ipykernel)",
   "language": "python",
   "name": "python3"
  },
  "language_info": {
   "codemirror_mode": {
    "name": "ipython",
    "version": 3
   },
   "file_extension": ".py",
   "mimetype": "text/x-python",
   "name": "python",
   "nbconvert_exporter": "python",
   "pygments_lexer": "ipython3",
   "version": "3.9.13"
  }
 },
 "nbformat": 4,
 "nbformat_minor": 5
}
