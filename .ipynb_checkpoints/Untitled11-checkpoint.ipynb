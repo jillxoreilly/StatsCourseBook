{
 "cells": [
  {
   "cell_type": "markdown",
   "id": "7887871b",
   "metadata": {},
   "source": [
    "# Tutorial Exercises\n",
    "\n",
    "## Heart attack data\n",
    "\n",
    "In this example we will use data from 12,843 patients admitted to hospital in New York City with a heart attack.\n",
    "The data were collected via the Medicare system and are modified from a dataset at <a href=\"https://dasl.datadescription.com/\">DASL</a>\n",
    "\n",
    "These exercises will review some of the skills learned over the last three weeks. They will also prepare you for the first hand-in exercise: to produce a report for the Chair or Medicare, describing the main factors affecting cost and length of hospital stay for heart attack patients."
   ]
  },
  {
   "cell_type": "markdown",
   "id": "554bd33b",
   "metadata": {},
   "source": [
    "### Set up Python libraries\n",
    "\n",
    "As usual, run the code cell below to import the relevant Python libraries"
   ]
  },
  {
   "cell_type": "code",
   "execution_count": 11,
   "id": "6e215164",
   "metadata": {},
   "outputs": [],
   "source": [
    "# Set-up Python libraries - you need to run this but you don't need to change it\n",
    "import numpy as np\n",
    "import matplotlib.pyplot as plt\n",
    "import scipy.stats as stats\n",
    "import pandas \n",
    "import seaborn as sns\n",
    "sns.set_theme()"
   ]
  },
  {
   "cell_type": "code",
   "execution_count": null,
   "id": "825c165e",
   "metadata": {},
   "outputs": [],
   "source": [
    "### Load and inspect the data"
   ]
  },
  {
   "cell_type": "code",
   "execution_count": 25,
   "id": "a6db5e61",
   "metadata": {},
   "outputs": [
    {
     "data": {
      "text/html": [
       "<div>\n",
       "<style scoped>\n",
       "    .dataframe tbody tr th:only-of-type {\n",
       "        vertical-align: middle;\n",
       "    }\n",
       "\n",
       "    .dataframe tbody tr th {\n",
       "        vertical-align: top;\n",
       "    }\n",
       "\n",
       "    .dataframe thead th {\n",
       "        text-align: right;\n",
       "    }\n",
       "</style>\n",
       "<table border=\"1\" class=\"dataframe\">\n",
       "  <thead>\n",
       "    <tr style=\"text-align: right;\">\n",
       "      <th></th>\n",
       "      <th>CHARGES</th>\n",
       "      <th>LOS</th>\n",
       "      <th>AGE</th>\n",
       "      <th>SEX</th>\n",
       "      <th>DRG</th>\n",
       "      <th>DIED</th>\n",
       "    </tr>\n",
       "  </thead>\n",
       "  <tbody>\n",
       "    <tr>\n",
       "      <th>0</th>\n",
       "      <td>4752.00</td>\n",
       "      <td>10</td>\n",
       "      <td>79</td>\n",
       "      <td>F</td>\n",
       "      <td>122</td>\n",
       "      <td>0</td>\n",
       "    </tr>\n",
       "    <tr>\n",
       "      <th>1</th>\n",
       "      <td>3941.00</td>\n",
       "      <td>6</td>\n",
       "      <td>34</td>\n",
       "      <td>F</td>\n",
       "      <td>122</td>\n",
       "      <td>0</td>\n",
       "    </tr>\n",
       "    <tr>\n",
       "      <th>2</th>\n",
       "      <td>3657.00</td>\n",
       "      <td>5</td>\n",
       "      <td>76</td>\n",
       "      <td>F</td>\n",
       "      <td>122</td>\n",
       "      <td>0</td>\n",
       "    </tr>\n",
       "    <tr>\n",
       "      <th>3</th>\n",
       "      <td>1481.00</td>\n",
       "      <td>2</td>\n",
       "      <td>80</td>\n",
       "      <td>F</td>\n",
       "      <td>122</td>\n",
       "      <td>0</td>\n",
       "    </tr>\n",
       "    <tr>\n",
       "      <th>4</th>\n",
       "      <td>1681.00</td>\n",
       "      <td>1</td>\n",
       "      <td>55</td>\n",
       "      <td>M</td>\n",
       "      <td>122</td>\n",
       "      <td>0</td>\n",
       "    </tr>\n",
       "    <tr>\n",
       "      <th>...</th>\n",
       "      <td>...</td>\n",
       "      <td>...</td>\n",
       "      <td>...</td>\n",
       "      <td>...</td>\n",
       "      <td>...</td>\n",
       "      <td>...</td>\n",
       "    </tr>\n",
       "    <tr>\n",
       "      <th>12839</th>\n",
       "      <td>22603.57</td>\n",
       "      <td>14</td>\n",
       "      <td>79</td>\n",
       "      <td>F</td>\n",
       "      <td>121</td>\n",
       "      <td>0</td>\n",
       "    </tr>\n",
       "    <tr>\n",
       "      <th>12840</th>\n",
       "      <td>NaN</td>\n",
       "      <td>7</td>\n",
       "      <td>91</td>\n",
       "      <td>F</td>\n",
       "      <td>121</td>\n",
       "      <td>0</td>\n",
       "    </tr>\n",
       "    <tr>\n",
       "      <th>12841</th>\n",
       "      <td>14359.14</td>\n",
       "      <td>9</td>\n",
       "      <td>79</td>\n",
       "      <td>F</td>\n",
       "      <td>121</td>\n",
       "      <td>0</td>\n",
       "    </tr>\n",
       "    <tr>\n",
       "      <th>12842</th>\n",
       "      <td>12986.00</td>\n",
       "      <td>5</td>\n",
       "      <td>70</td>\n",
       "      <td>M</td>\n",
       "      <td>121</td>\n",
       "      <td>0</td>\n",
       "    </tr>\n",
       "    <tr>\n",
       "      <th>12843</th>\n",
       "      <td>NaN</td>\n",
       "      <td>1</td>\n",
       "      <td>81</td>\n",
       "      <td>M</td>\n",
       "      <td>123</td>\n",
       "      <td>1</td>\n",
       "    </tr>\n",
       "  </tbody>\n",
       "</table>\n",
       "<p>12844 rows × 6 columns</p>\n",
       "</div>"
      ],
      "text/plain": [
       "        CHARGES  LOS  AGE SEX  DRG  DIED\n",
       "0       4752.00   10   79   F  122     0\n",
       "1       3941.00    6   34   F  122     0\n",
       "2       3657.00    5   76   F  122     0\n",
       "3       1481.00    2   80   F  122     0\n",
       "4       1681.00    1   55   M  122     0\n",
       "...         ...  ...  ...  ..  ...   ...\n",
       "12839  22603.57   14   79   F  121     0\n",
       "12840       NaN    7   91   F  121     0\n",
       "12841  14359.14    9   79   F  121     0\n",
       "12842  12986.00    5   70   M  121     0\n",
       "12843       NaN    1   81   M  123     1\n",
       "\n",
       "[12844 rows x 6 columns]"
      ]
     },
     "metadata": {},
     "output_type": "display_data"
    }
   ],
   "source": [
    "heartAttack=pandas.read_csv('data/heartAttack.csv')\n",
    "display(heartAttack)"
   ]
  },
  {
   "cell_type": "markdown",
   "id": "75660847",
   "metadata": {},
   "source": [
    "What data do we have for each patient?\n",
    "<ul>\n",
    "    <li> CHARGES is the dollar cost of the hospital stay\n",
    "    <li> LOS is Length of Stay (in hospital) in days\n",
    "    <li> DIED is coded as 1 if the person died, 0 if they left hospital alive\n",
    "</ul>\n",
    "\n",
    "### Evaluate missing and bad data values\n",
    "\n",
    "How many missing values (NaNs) are there for each variale (column) in the dataset?"
   ]
  },
  {
   "cell_type": "code",
   "execution_count": 65,
   "id": "cf68b964",
   "metadata": {},
   "outputs": [],
   "source": [
    "# your code here!"
   ]
  },
  {
   "cell_type": "markdown",
   "id": "c006610f",
   "metadata": {},
   "source": [
    "Can you find any data points that look like outliers or misrecorded values?\n",
    "\n",
    "You could try the following techniques:\n",
    "<ul>\n",
    "    <li> plot the data to see if outliers are obvious\n",
    "    <li> sort the data using <tt>pandas.df.sort_values()</tt> to bring extreme values to the top (or ottom of the dataframe, then display the sorted dataframe\n",
    "    <li> obtain descriptive statistics and check the max an min value for each column of the dataframe\n",
    "</ul>\n",
    "\n",
    "For patients with outlier values, you should decide whether to:\n",
    "\n",
    "<ol>\n",
    "    <li>replace individual datapoints with NaNs\n",
    "    <li>replace the entire patient record with NaNs\n",
    "    <li>remove the entire record from the dataset with <tt>pandas.df.drop()</tt>\n",
    "    <li>retain the data as is, at least for now\n",
    "</ol>\n",
    "Think how you would justify your choice to a reader\n"
   ]
  },
  {
   "cell_type": "code",
   "execution_count": null,
   "id": "bbfafc86",
   "metadata": {},
   "outputs": [],
   "source": [
    "# your code here!"
   ]
  },
  {
   "cell_type": "markdown",
   "id": "3749e61f",
   "metadata": {},
   "source": [
    "### Cost of hospital stay\n",
    "\n",
    "The column <tt>CHARGES</tt> tells us how much the hospital stay cost in $.\n",
    "\n",
    "Plot the distribution of charges using a suitable plot type. "
   ]
  },
  {
   "cell_type": "code",
   "execution_count": null,
   "id": "7b83ffc2",
   "metadata": {},
   "outputs": [],
   "source": [
    "# Your code here"
   ]
  },
  {
   "cell_type": "markdown",
   "id": "747cfaea",
   "metadata": {},
   "source": [
    "Describe the distribution of charges in words, including some descriptive statistics. \n",
    "\n",
    "Part of the task here is to decide which descriptives are useful to give the reader a summary fo the distribution of charges. \n",
    "\n",
    "Try to make a choice yourself, and then discuss with your tutor if unsure."
   ]
  },
  {
   "cell_type": "code",
   "execution_count": 66,
   "id": "13be201f",
   "metadata": {},
   "outputs": [],
   "source": [
    "# Your code here"
   ]
  },
  {
   "cell_type": "markdown",
   "id": "ae20921e",
   "metadata": {},
   "source": [
    "### Length of hospital stay\n",
    "\n",
    "The column <tt>LOS</tt> tells us how long each patient stayed in hospital.\n",
    "\n",
    "Plot the distribution of length of stay using a suitable plot type. "
   ]
  },
  {
   "cell_type": "code",
   "execution_count": 67,
   "id": "f003b235",
   "metadata": {},
   "outputs": [],
   "source": [
    "# Your code here"
   ]
  },
  {
   "cell_type": "markdown",
   "id": "b8bcbaa0",
   "metadata": {},
   "source": [
    "Hm, there is an interesting feature in that data distribution - what is it?\n",
    "\n",
    "Can you think what the origin of this feature is (what caused it?)\n",
    "\n",
    "HINT: it may help to plot data separately for the different values of one of the categorical variables, using the argument <tt>hue</tt> in the plotting function. You will get a clearer result with a KDE plot than a histogram (try both and see why)."
   ]
  },
  {
   "cell_type": "code",
   "execution_count": 68,
   "id": "d7a1f268",
   "metadata": {},
   "outputs": [],
   "source": [
    "# Your code here"
   ]
  },
  {
   "cell_type": "markdown",
   "id": "7ae4fc6c",
   "metadata": {},
   "source": [
    ".......Your comment here......... double click to edit this text box!"
   ]
  },
  {
   "cell_type": "markdown",
   "id": "44ed35b7",
   "metadata": {},
   "source": [
    "### Association between cost and length of stay\n",
    "\n",
    "Probably the biggest factor affecting the cost of the stay is the length of the stay.\n",
    "\n",
    "Produce an appropriate plot and descriptive statisitics to demonstrate the relationship between cost and length of stay."
   ]
  },
  {
   "cell_type": "code",
   "execution_count": 71,
   "id": "8ddcd0a9",
   "metadata": {},
   "outputs": [],
   "source": [
    "# Your code here"
   ]
  },
  {
   "cell_type": "markdown",
   "id": "7ff70a79",
   "metadata": {},
   "source": [
    ".......Your comment here......... double click to edit this text box!"
   ]
  },
  {
   "cell_type": "markdown",
   "id": "94585789",
   "metadata": {},
   "source": [
    "You may remember from the exercises on covariance that change in $y$ for one unit in $x$ is given by the regression slope:\n",
    "\n",
    "$$ b = \\frac{s_{xy}}{s^2_x} $$\n",
    "\n",
    "Apply the equation in Python to find out how much, on average, one extra day in hospital costs."
   ]
  },
  {
   "cell_type": "code",
   "execution_count": null,
   "id": "656099b0",
   "metadata": {},
   "outputs": [],
   "source": [
    "# Your code here"
   ]
  },
  {
   "cell_type": "markdown",
   "id": "4d714b40",
   "metadata": {},
   "source": [
    "## Association between length of stay and age\n",
    "\n",
    "Older people tend to stay longer in hospital - produce an appropriate plot and descriptive statisitics to demonstrate the relationship between cost and length of stay."
   ]
  },
  {
   "cell_type": "code",
   "execution_count": null,
   "id": "17d215d3",
   "metadata": {},
   "outputs": [],
   "source": [
    "# Your code here"
   ]
  },
  {
   "cell_type": "markdown",
   "id": "904398e2",
   "metadata": {},
   "source": [
    ".......Your comment here......... double click to edit this text box!"
   ]
  },
  {
   "cell_type": "markdown",
   "id": "dc24c0a6",
   "metadata": {},
   "source": [
    "### Sex difference in mortality\n",
    "\n",
    "A greater proportion of the women died than men.\n",
    "\n",
    "Illustrate this assocation between sex and mortality using <tt>sns.countplot()</tt>"
   ]
  },
  {
   "cell_type": "code",
   "execution_count": 74,
   "id": "978f4161",
   "metadata": {},
   "outputs": [
    {
     "data": {
      "text/plain": [
       "<AxesSubplot:xlabel='SEX', ylabel='count'>"
      ]
     },
     "execution_count": 74,
     "metadata": {},
     "output_type": "execute_result"
    },
    {
     "data": {
      "image/png": "[encoded data removed]",
      "text/plain": [
       "<Figure size 640x480 with 1 Axes>"
      ]
     },
     "metadata": {},
     "output_type": "display_data"
    }
   ],
   "source": [
    "# Your code here"
   ]
  },
  {
   "cell_type": "markdown",
   "id": "2ac34a60",
   "metadata": {},
   "source": [
    "### Age difference between sexes\n",
    "\n",
    "Could the higher death rate for women be explained by their age?\n",
    "\n",
    "Explore with appropriate plots and summarize your observations in words including descriptive statstics."
   ]
  },
  {
   "cell_type": "code",
   "execution_count": 77,
   "id": "9772387d",
   "metadata": {},
   "outputs": [],
   "source": [
    "# Your code here"
   ]
  },
  {
   "cell_type": "markdown",
   "id": "f0b4e647",
   "metadata": {},
   "source": [
    ".......Your comment here......... double click to edit this text box!"
   ]
  },
  {
   "cell_type": "code",
   "execution_count": null,
   "id": "0c56bef2",
   "metadata": {},
   "outputs": [],
   "source": []
  }
 ],
 "metadata": {
  "kernelspec": {
   "display_name": "Python 3 (ipykernel)",
   "language": "python",
   "name": "python3"
  },
  "language_info": {
   "codemirror_mode": {
    "name": "ipython",
    "version": 3
   },
   "file_extension": ".py",
   "mimetype": "text/x-python",
   "name": "python",
   "nbconvert_exporter": "python",
   "pygments_lexer": "ipython3",
   "version": "3.9.13"
  }
 },
 "nbformat": 4,
 "nbformat_minor": 5
}
