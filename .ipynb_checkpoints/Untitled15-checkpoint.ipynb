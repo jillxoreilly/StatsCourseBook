{
 "cells": [
  {
   "cell_type": "markdown",
   "id": "f7e89626",
   "metadata": {},
   "source": [
    "# Regression models in Python\n",
    "\n",
    "We will be using the `statsmodels` package in Python, so we will need to import this along with the other Python packages we have been using. \n",
    "\n",
    "### Set up Python libraries\n",
    "\n",
    "As usual, run the code cell below to import the relevant Python libraries"
   ]
  },
  {
   "cell_type": "code",
   "execution_count": 1,
   "id": "ad6e6136",
   "metadata": {},
   "outputs": [],
   "source": [
    "# Set-up Python libraries - you need to run this but you don't need to change it\n",
    "import numpy as np\n",
    "import matplotlib.pyplot as plt\n",
    "import scipy.stats as stats\n",
    "import pandas \n",
    "import seaborn as sns\n",
    "import statsmodels.formula.api as smf"
   ]
  },
  {
   "cell_type": "markdown",
   "id": "139d114e",
   "metadata": {},
   "source": [
    "If that threw an error, you may need to install `statsmodels` before you can import it.\n",
    "\n",
    "Try this code block:"
   ]
  },
  {
   "cell_type": "code",
   "execution_count": null,
   "id": "26e42c6d",
   "metadata": {},
   "outputs": [],
   "source": [
    "!pip3 install statsmodels"
   ]
  },
  {
   "cell_type": "markdown",
   "id": "a40b189e",
   "metadata": {},
   "source": [
    "... and then rerun the importing block above"
   ]
  },
  {
   "cell_type": "markdown",
   "id": "4d21bd07",
   "metadata": {},
   "source": [
    "## Happiness toy example\n",
    "\n",
    "The python code, once you get the hang of it, is pretty straightforward. The output that Python gives is a whole table of statistics, some of which are important to us in this class, and some will be important later, and some we won’t need in the course at all. \n",
    "\n",
    "So, when looking at the Python output, the key objective for the moment is to know where to find the key things, e.g., the intercept and slope coefficients.\n",
    "\n",
    "Let’s run a regression model in Python for the ‘toy’ country happiness data. "
   ]
  },
  {
   "cell_type": "code",
   "execution_count": null,
   "id": "8808ad73",
   "metadata": {},
   "outputs": [],
   "source": [
    "# import and view data\n",
    "happiness=pandas.read_csv('data/happiness10.csv')\n",
    "happiness"
   ]
  },
  {
   "cell_type": "code",
   "execution_count": null,
   "id": "db96113d",
   "metadata": {},
   "outputs": [],
   "source": [
    "# run the regression model"
   ]
  },
  {
   "cell_type": "markdown",
   "id": "eb7f834c",
   "metadata": {},
   "source": [
    "* Find the intercept and the slope. How does Python label these?\n",
    "\n",
    "Python will also help us out with the predicted values and residuals. \n",
    "\n",
    "* Run the following code which will store $\\hat{y}$ and the residual for each row of the data. Display the result. \n"
   ]
  },
  {
   "cell_type": "code",
   "execution_count": null,
   "id": "a113feaf",
   "metadata": {},
   "outputs": [],
   "source": [
    "# code for storing y-hat and residuals"
   ]
  },
  {
   "cell_type": "markdown",
   "id": "e2aa3c16",
   "metadata": {},
   "source": [
    "This should look familiar! We had the same table back in concepts section. (There may be small differences due to rounding). Do you think there are any outliers in the data? As we noted earlier, there was one very high and one very low value among the residuals. \n",
    "\n",
    "Let’s try re-running the regression model without these two potential outliers: Finland and Ukraine. Let’s change the happiness measure to ‘NaN’ for these two countries and re-run the regression command.\n"
   ]
  },
  {
   "cell_type": "code",
   "execution_count": null,
   "id": "52d1bb48",
   "metadata": {},
   "outputs": [],
   "source": [
    "# Code for changing Sweden to NaN, and new regression model"
   ]
  },
  {
   "cell_type": "markdown",
   "id": "3cf7da95",
   "metadata": {},
   "source": [
    "What’s changed in the model? \n",
    "\n",
    "* Has the slope value become bigger and smaller? \n",
    "\n",
    "* Has the conclusion changed?"
   ]
  },
  {
   "cell_type": "code",
   "execution_count": null,
   "id": "021c059e",
   "metadata": {},
   "outputs": [],
   "source": []
  }
 ],
 "metadata": {
  "kernelspec": {
   "display_name": "Python 3 (ipykernel)",
   "language": "python",
   "name": "python3"
  },
  "language_info": {
   "codemirror_mode": {
    "name": "ipython",
    "version": 3
   },
   "file_extension": ".py",
   "mimetype": "text/x-python",
   "name": "python",
   "nbconvert_exporter": "python",
   "pygments_lexer": "ipython3",
   "version": "3.9.13"
  }
 },
 "nbformat": 4,
 "nbformat_minor": 5
}
