{
 "cells": [
  {
   "cell_type": "markdown",
   "id": "d12693c1",
   "metadata": {},
   "source": [
    "# Movie data\n",
    "\n",
    "The file 'imdb.csv' contains data about 6178 movies and TV shows, which were scraped from the website <a href=\"https://www.imdb.com/\">IMDb.com</a> (and which I downloaded from <a href=\"https://www.kaggle.com/datasets/mazenramadan/imdb-most-popular-films-and-series\">Kaggle.com</a>)\n",
    "\n",
    "Your task is to investigate what makes a good movie and write up your claims in a blog-style report, \"10 ingredients for a good movie\". You don't have to have exactly 10 (try for at least 5!). \n",
    "\n",
    "Our metric of a 'good movie' shall be the IMDb rating (base on users' votes). You may like to comment on whether this is a reliable metric.\n",
    "\n",
    "This is a blog for geeky movie enthusiasts so you can support your claims with some numbers (correlations, decriptive statistics and the like) but try to avoid jargon and use the data to support the points you are making in the text, rather than robotically reporting statistics. \n",
    "\n",
    "Below I will suggest some avenues to explore but I encourage you to investigate the data yourself - play around with plotting the relationship between different variables before you settle down to write your report.\n",
    "\n",
    "## What makes a good report?\n",
    "\n",
    "Write a (very) short introduction explaining what the data are and what you are using as a measure of movie 'quality'\n",
    "\n",
    "It's up to you to find some interesting features in the data and show them effectively using plots\n",
    "\n",
    "You should support your claims using descriptive statistics such the mean rating for different groups of movies or correlation coefficients\n",
    "\n",
    "No need to use this notebook for your report - you can start a new 'clean' one without my notes in.\n",
    "\n",
    "You might even like to start two notebooks - one for rough work (you experimenting with plotting the data, and saving any analyses you want to discuss with you tutor) and one for your final report.\n",
    "\n",
    "\n",
    "### Set up Python libraries\n",
    "\n",
    "As usual, run the code cell below to import the relevant Python libraries"
   ]
  },
  {
   "cell_type": "code",
   "execution_count": 1,
   "id": "9b95464c",
   "metadata": {},
   "outputs": [],
   "source": [
    "# Set-up Python libraries - you need to run this but you don't need to change it\n",
    "import numpy as np\n",
    "import matplotlib.pyplot as plt\n",
    "import scipy.stats as stats\n",
    "import pandas \n",
    "import seaborn as sns\n",
    "sns.set_theme()\n",
    "sns.set_style('whitegrid')"
   ]
  },
  {
   "cell_type": "markdown",
   "id": "6095e938",
   "metadata": {},
   "source": [
    "### Import the data"
   ]
  },
  {
   "cell_type": "code",
   "execution_count": 2,
   "id": "24c257a1",
   "metadata": {},
   "outputs": [
    {
     "data": {
      "text/html": [
       "<div>\n",
       "<style scoped>\n",
       "    .dataframe tbody tr th:only-of-type {\n",
       "        vertical-align: middle;\n",
       "    }\n",
       "\n",
       "    .dataframe tbody tr th {\n",
       "        vertical-align: top;\n",
       "    }\n",
       "\n",
       "    .dataframe thead th {\n",
       "        text-align: right;\n",
       "    }\n",
       "</style>\n",
       "<table border=\"1\" class=\"dataframe\">\n",
       "  <thead>\n",
       "    <tr style=\"text-align: right;\">\n",
       "      <th></th>\n",
       "      <th>Name</th>\n",
       "      <th>Date</th>\n",
       "      <th>Rating</th>\n",
       "      <th>Votes</th>\n",
       "      <th>Genre</th>\n",
       "      <th>Duration</th>\n",
       "      <th>Type</th>\n",
       "      <th>Certificate</th>\n",
       "      <th>Episodes</th>\n",
       "      <th>Nudity</th>\n",
       "      <th>Violence</th>\n",
       "      <th>Profanity</th>\n",
       "      <th>Alcohol</th>\n",
       "      <th>Frightening</th>\n",
       "    </tr>\n",
       "  </thead>\n",
       "  <tbody>\n",
       "    <tr>\n",
       "      <th>0</th>\n",
       "      <td>No Time to Die</td>\n",
       "      <td>2021</td>\n",
       "      <td>7.6</td>\n",
       "      <td>107163.0</td>\n",
       "      <td>Action, Adventure, Thriller</td>\n",
       "      <td>163.0</td>\n",
       "      <td>Film</td>\n",
       "      <td>PG-13</td>\n",
       "      <td>NaN</td>\n",
       "      <td>Mild</td>\n",
       "      <td>Moderate</td>\n",
       "      <td>Mild</td>\n",
       "      <td>Mild</td>\n",
       "      <td>Moderate</td>\n",
       "    </tr>\n",
       "    <tr>\n",
       "      <th>1</th>\n",
       "      <td>The Guilty</td>\n",
       "      <td>2021</td>\n",
       "      <td>6.3</td>\n",
       "      <td>64375.0</td>\n",
       "      <td>Crime, Drama, Thriller</td>\n",
       "      <td>90.0</td>\n",
       "      <td>Film</td>\n",
       "      <td>R</td>\n",
       "      <td>NaN</td>\n",
       "      <td>None</td>\n",
       "      <td>None</td>\n",
       "      <td>Severe</td>\n",
       "      <td>None</td>\n",
       "      <td>Moderate</td>\n",
       "    </tr>\n",
       "    <tr>\n",
       "      <th>2</th>\n",
       "      <td>The Many Saints of Newark</td>\n",
       "      <td>2021</td>\n",
       "      <td>6.4</td>\n",
       "      <td>27145.0</td>\n",
       "      <td>Crime, Drama</td>\n",
       "      <td>120.0</td>\n",
       "      <td>Film</td>\n",
       "      <td>R</td>\n",
       "      <td>NaN</td>\n",
       "      <td>Moderate</td>\n",
       "      <td>Severe</td>\n",
       "      <td>Severe</td>\n",
       "      <td>Moderate</td>\n",
       "      <td>Moderate</td>\n",
       "    </tr>\n",
       "    <tr>\n",
       "      <th>3</th>\n",
       "      <td>Venom: Let There Be Carnage</td>\n",
       "      <td>2021</td>\n",
       "      <td>6.4</td>\n",
       "      <td>30443.0</td>\n",
       "      <td>Action, Adventure, Sci-Fi</td>\n",
       "      <td>97.0</td>\n",
       "      <td>Film</td>\n",
       "      <td>PG-13</td>\n",
       "      <td>NaN</td>\n",
       "      <td>None</td>\n",
       "      <td>Moderate</td>\n",
       "      <td>Moderate</td>\n",
       "      <td>Mild</td>\n",
       "      <td>Moderate</td>\n",
       "    </tr>\n",
       "    <tr>\n",
       "      <th>4</th>\n",
       "      <td>Dune</td>\n",
       "      <td>2021</td>\n",
       "      <td>8.3</td>\n",
       "      <td>84636.0</td>\n",
       "      <td>Action, Adventure, Drama</td>\n",
       "      <td>155.0</td>\n",
       "      <td>Film</td>\n",
       "      <td>PG-13</td>\n",
       "      <td>NaN</td>\n",
       "      <td>None</td>\n",
       "      <td>Moderate</td>\n",
       "      <td>None</td>\n",
       "      <td>Mild</td>\n",
       "      <td>Moderate</td>\n",
       "    </tr>\n",
       "    <tr>\n",
       "      <th>...</th>\n",
       "      <td>...</td>\n",
       "      <td>...</td>\n",
       "      <td>...</td>\n",
       "      <td>...</td>\n",
       "      <td>...</td>\n",
       "      <td>...</td>\n",
       "      <td>...</td>\n",
       "      <td>...</td>\n",
       "      <td>...</td>\n",
       "      <td>...</td>\n",
       "      <td>...</td>\n",
       "      <td>...</td>\n",
       "      <td>...</td>\n",
       "      <td>...</td>\n",
       "    </tr>\n",
       "    <tr>\n",
       "      <th>6173</th>\n",
       "      <td>The Human Centipede II (Full Sequence)</td>\n",
       "      <td>2011</td>\n",
       "      <td>3.8</td>\n",
       "      <td>37492.0</td>\n",
       "      <td>Horror</td>\n",
       "      <td>91.0</td>\n",
       "      <td>Film</td>\n",
       "      <td>Not Rated</td>\n",
       "      <td>NaN</td>\n",
       "      <td>Severe</td>\n",
       "      <td>Severe</td>\n",
       "      <td>Severe</td>\n",
       "      <td>Mild</td>\n",
       "      <td>Severe</td>\n",
       "    </tr>\n",
       "    <tr>\n",
       "      <th>6174</th>\n",
       "      <td>Double Indemnity</td>\n",
       "      <td>1944</td>\n",
       "      <td>8.3</td>\n",
       "      <td>150448.0</td>\n",
       "      <td>Crime, Drama, Film-Noir</td>\n",
       "      <td>107.0</td>\n",
       "      <td>Film</td>\n",
       "      <td>Passed</td>\n",
       "      <td>NaN</td>\n",
       "      <td>None</td>\n",
       "      <td>Mild</td>\n",
       "      <td>None</td>\n",
       "      <td>Mild</td>\n",
       "      <td>Mild</td>\n",
       "    </tr>\n",
       "    <tr>\n",
       "      <th>6175</th>\n",
       "      <td>Before the Devil Knows You're Dead</td>\n",
       "      <td>2007</td>\n",
       "      <td>7.3</td>\n",
       "      <td>100668.0</td>\n",
       "      <td>Crime, Drama, Thriller</td>\n",
       "      <td>117.0</td>\n",
       "      <td>Film</td>\n",
       "      <td>R</td>\n",
       "      <td>NaN</td>\n",
       "      <td>Severe</td>\n",
       "      <td>Moderate</td>\n",
       "      <td>Severe</td>\n",
       "      <td>Severe</td>\n",
       "      <td>Severe</td>\n",
       "    </tr>\n",
       "    <tr>\n",
       "      <th>6176</th>\n",
       "      <td>Queen Bees</td>\n",
       "      <td>2021</td>\n",
       "      <td>6.0</td>\n",
       "      <td>887.0</td>\n",
       "      <td>Comedy, Drama, Romance</td>\n",
       "      <td>100.0</td>\n",
       "      <td>Film</td>\n",
       "      <td>PG-13</td>\n",
       "      <td>NaN</td>\n",
       "      <td>None</td>\n",
       "      <td>None</td>\n",
       "      <td>Mild</td>\n",
       "      <td>Moderate</td>\n",
       "      <td>None</td>\n",
       "    </tr>\n",
       "    <tr>\n",
       "      <th>6177</th>\n",
       "      <td>Death Race</td>\n",
       "      <td>2008</td>\n",
       "      <td>6.3</td>\n",
       "      <td>203578.0</td>\n",
       "      <td>Action, Sci-Fi, Thriller</td>\n",
       "      <td>105.0</td>\n",
       "      <td>Film</td>\n",
       "      <td>R</td>\n",
       "      <td>NaN</td>\n",
       "      <td>Mild</td>\n",
       "      <td>Severe</td>\n",
       "      <td>Severe</td>\n",
       "      <td>Mild</td>\n",
       "      <td>Moderate</td>\n",
       "    </tr>\n",
       "  </tbody>\n",
       "</table>\n",
       "<p>4446 rows × 14 columns</p>\n",
       "</div>"
      ],
      "text/plain": [
       "                                        Name  Date  ...   Alcohol  Frightening\n",
       "0                             No Time to Die  2021  ...      Mild     Moderate\n",
       "1                                 The Guilty  2021  ...      None     Moderate\n",
       "2                  The Many Saints of Newark  2021  ...  Moderate     Moderate\n",
       "3                Venom: Let There Be Carnage  2021  ...      Mild     Moderate\n",
       "4                                       Dune  2021  ...      Mild     Moderate\n",
       "...                                      ...   ...  ...       ...          ...\n",
       "6173  The Human Centipede II (Full Sequence)  2011  ...      Mild       Severe\n",
       "6174                        Double Indemnity  1944  ...      Mild         Mild\n",
       "6175      Before the Devil Knows You're Dead  2007  ...    Severe       Severe\n",
       "6176                              Queen Bees  2021  ...  Moderate         None\n",
       "6177                              Death Race  2008  ...      Mild     Moderate\n",
       "\n",
       "[4446 rows x 14 columns]"
      ]
     },
     "execution_count": 2,
     "metadata": {},
     "output_type": "execute_result"
    }
   ],
   "source": [
    "imdb=pandas.read_csv('https://raw.githubusercontent.com/jillxoreilly/StatsCourseBook/main/data/imdb.csv')\n",
    "\n",
    "# get only the movies (ignoring TV shows)\n",
    "movies=imdb[imdb['Type']=='Film']\n",
    "movies"
   ]
  },
  {
   "cell_type": "markdown",
   "id": "1b967599",
   "metadata": {},
   "source": [
    "## Where to start?\n",
    "\n",
    "Here are some myths (or truths?) for you to investigate to get you started\n",
    "\n",
    "<ol>\n",
    "<li> Movies are getting worse over time\n",
    "<li> Longer movies are better\n",
    "    <ul> <li>As well as investigating the general relationship, can you find some points of interest - for example, name cases of long movies that were also bad (certainly to be avoided!)? Are there any surprisingly long movies in the dataset? What about those that were short but sweet?</ul>\n",
    "<li> More nudity makes for a highly rated movie\n",
    "<li> Movies rated 15 are the worst!\n",
    "    <ul><li>To do this you will need to create a new column converting the US and international certificates into their closest UK equivalent - U,PG,12,15 or 18</ul>\n",
    "<li> Straight-to-TV movies have lower ratings than those shown in cinemas\n",
    "    <ul><li>The straight-to-TV movies have certificates beginning in 'TV'</ul>\n",
    "<li> Popular movies are better (you can use the number of votes as a measure of popularity of a movie, since people should only vote if they watched it - you may like to comment on whether this is a reasonabble measure of popularity or whether it may be biased)\n",
    "</ol>\n"
   ]
  },
  {
   "cell_type": "markdown",
   "id": "35241f53",
   "metadata": {},
   "source": [
    "## Examples:\n",
    "\n",
    "Here are a couple of examples to get you started:\n",
    "\n",
    "### Example 1: Are movies getting worse over time?\n",
    "\n",
    "According to IMDb raters, yes they are. Or to be more accurate, the number of low-rated movies increased over time, whilst a steady flow of high rated movies was also maintained."
   ]
  },
  {
   "cell_type": "code",
   "execution_count": 3,
   "id": "69d08c3e",
   "metadata": {},
   "outputs": [
    {
     "data": {
      "text/plain": [
       "Text(0.5, 0.98, 'Movie ratings over time')"
      ]
     },
     "execution_count": 3,
     "metadata": {},
     "output_type": "execute_result"
    },
    {
     "data": {
      "image/png": "[encoded data removed]",
      "text/plain": [
       "<Figure size 600x400 with 1 Axes>"
      ]
     },
     "metadata": {},
     "output_type": "display_data"
    }
   ],
   "source": [
    "sns.histplot(data=movies, x='Date', y='Rating')\n",
    "plt.xlim([1920,2020])\n",
    "plt.ylim([0,10])\n",
    "plt.suptitle('Movie ratings over time', fontsize=16)"
   ]
  },
  {
   "cell_type": "markdown",
   "id": "0170b197",
   "metadata": {},
   "source": [
    "Rating was negatively correlated with year of release (Spearman's r = -0.29)"
   ]
  },
  {
   "cell_type": "code",
   "execution_count": 4,
   "id": "fe267f7a",
   "metadata": {},
   "outputs": [
    {
     "data": {
      "text/html": [
       "<div>\n",
       "<style scoped>\n",
       "    .dataframe tbody tr th:only-of-type {\n",
       "        vertical-align: middle;\n",
       "    }\n",
       "\n",
       "    .dataframe tbody tr th {\n",
       "        vertical-align: top;\n",
       "    }\n",
       "\n",
       "    .dataframe thead th {\n",
       "        text-align: right;\n",
       "    }\n",
       "</style>\n",
       "<table border=\"1\" class=\"dataframe\">\n",
       "  <thead>\n",
       "    <tr style=\"text-align: right;\">\n",
       "      <th></th>\n",
       "      <th>Date</th>\n",
       "      <th>Rating</th>\n",
       "    </tr>\n",
       "  </thead>\n",
       "  <tbody>\n",
       "    <tr>\n",
       "      <th>Date</th>\n",
       "      <td>1.000000</td>\n",
       "      <td>-0.298428</td>\n",
       "    </tr>\n",
       "    <tr>\n",
       "      <th>Rating</th>\n",
       "      <td>-0.298428</td>\n",
       "      <td>1.000000</td>\n",
       "    </tr>\n",
       "  </tbody>\n",
       "</table>\n",
       "</div>"
      ],
      "text/plain": [
       "            Date    Rating\n",
       "Date    1.000000 -0.298428\n",
       "Rating -0.298428  1.000000"
      ]
     },
     "execution_count": 4,
     "metadata": {},
     "output_type": "execute_result"
    }
   ],
   "source": [
    "movies[['Date','Rating']].corr(method='spearman')"
   ]
  },
  {
   "cell_type": "markdown",
   "id": "7fb45258",
   "metadata": {},
   "source": [
    "#### Thinking point - \n",
    "No need to put this in your blog, but you could test if that correlation would be likely to have happened due to chance (is it significant?) by bootstrapping and seeing how often you got a correlation as far from zero as r=-0.29 if you resampled the data."
   ]
  },
  {
   "cell_type": "markdown",
   "id": "1a5e97ea",
   "metadata": {},
   "source": [
    "### Example 2: Does swearing spoil a good movie?\n",
    "\n",
    "Perhaps surpisingly, yes it does. At least, movies with no swearing (Profanity) at all seem to get slightly higher ratings.\n",
    "\n",
    "In the plot below there is a small but perceptible advantage in ratings for movies with no Profanity - the average rating for a movie with no profanity was a third of one point (out of ten) higher than one with profanity!"
   ]
  },
  {
   "cell_type": "code",
   "execution_count": 5,
   "id": "10245f3c",
   "metadata": {},
   "outputs": [
    {
     "name": "stdout",
     "output_type": "stream",
     "text": [
      "mean rating - no profanity = 6.918087318087323\n",
      "mean rating - with profanity = 6.5885078534031285\n"
     ]
    }
   ],
   "source": [
    "print('mean rating - no profanity = ' + str(movies[movies['Profanity']=='None']['Rating'].mean()))\n",
    "print('mean rating - with profanity = ' + str(movies[movies['Profanity']!='None']['Rating'].mean()))"
   ]
  },
  {
   "cell_type": "code",
   "execution_count": 6,
   "id": "d7f01129",
   "metadata": {},
   "outputs": [
    {
     "data": {
      "text/plain": [
       "<AxesSubplot:xlabel='Profanity', ylabel='Rating'>"
      ]
     },
     "execution_count": 6,
     "metadata": {},
     "output_type": "execute_result"
    },
    {
     "data": {
      "image/png": "[encoded data removed]",
      "text/plain": [
       "<Figure size 600x400 with 1 Axes>"
      ]
     },
     "metadata": {},
     "output_type": "display_data"
    }
   ],
   "source": [
    "# plot ratings by 'alcohol content' of the movie\n",
    "# note that I have set the order of the violins to increasing alcohol, rather than the default order which wasn't meaningful\n",
    "sns.violinplot(data=movies, x='Profanity', y='Rating', order=['None','Mild','Moderate','Severe'])"
   ]
  },
  {
   "cell_type": "markdown",
   "id": "413e48f1",
   "metadata": {},
   "source": [
    "That said, there was an explosion in profanity from the 1960s onwards - so maybe this just reflects the fact that the old classics are the best movies!"
   ]
  },
  {
   "cell_type": "code",
   "execution_count": 7,
   "id": "e994d5e3",
   "metadata": {},
   "outputs": [
    {
     "data": {
      "text/plain": [
       "Text(0.5, 0.98, 'Distribution profanity ratings over time')"
      ]
     },
     "execution_count": 7,
     "metadata": {},
     "output_type": "execute_result"
    },
    {
     "data": {
      "image/png": "[encoded data removed]",
      "text/plain": [
       "<Figure size 600x400 with 1 Axes>"
      ]
     },
     "metadata": {},
     "output_type": "display_data"
    }
   ],
   "source": [
    "sns.set_palette('rocket')\n",
    "\n",
    "sns.kdeplot(\n",
    "    data=movies, \n",
    "    x='Date',  \n",
    "    hue='Profanity', \n",
    "    multiple='stack',\n",
    "    hue_order=['None','Mild','Moderate','Severe'])\n",
    "\n",
    "plt.suptitle('Distribution profanity ratings over time', fontsize=16)"
   ]
  },
  {
   "cell_type": "markdown",
   "id": "155d5660",
   "metadata": {},
   "source": [
    "#### By the way....\n",
    "\n",
    "Don't put this in your blog as it is too technical, but you might be interested to see it:\n",
    "\n",
    "It looks like there is only a tiny effect of Profanity on ratings, but could it have occurred due to chance?\n",
    "\n",
    "We construct a bootstrapped confidence interval for the difference in ratings between movies with and without profanity:"
   ]
  },
  {
   "cell_type": "code",
   "execution_count": 8,
   "id": "178f3c68",
   "metadata": {},
   "outputs": [
    {
     "name": "stdout",
     "output_type": "stream",
     "text": [
      "481\n",
      "3965\n"
     ]
    },
    {
     "data": {
      "text/plain": [
       "Text(0.5, 0, 'Difference of means: no profanity- profanity')"
      ]
     },
     "execution_count": 8,
     "metadata": {},
     "output_type": "execute_result"
    },
    {
     "data": {
      "image/png": "[encoded data removed]",
      "text/plain": [
       "<Figure size 600x400 with 1 Axes>"
      ]
     },
     "metadata": {},
     "output_type": "display_data"
    }
   ],
   "source": [
    "nReps = 10000\n",
    "mDiff=np.empty(nReps)\n",
    "n1=len(movies[movies['Profanity']=='None'])\n",
    "n2=len(movies[movies['Profanity']!='None'])\n",
    "\n",
    "print(n1)\n",
    "print(n2)\n",
    "\n",
    "for i in range(nReps):\n",
    "    sample1 = movies[movies['Profanity']=='None'].sample(n1, replace=True)\n",
    "    sample2 = movies[movies['Profanity']!='None'].sample(n2, replace=True)\n",
    "    mDiff[i]= sample1['Rating'].mean()-sample2['Rating'].mean()\n",
    "    \n",
    "sns.histplot(mDiff)\n",
    "plt.xlabel('Difference of means: no profanity- profanity')"
   ]
  },
  {
   "cell_type": "markdown",
   "id": "fdf1df81",
   "metadata": {},
   "source": [
    "Since the difference of means is almost always greater than ero, we can be confident that movies with no profanity really do have higher mean ratings - even if the difference is less than 0.3/10 points!"
   ]
  },
  {
   "cell_type": "markdown",
   "id": "79ada6b0",
   "metadata": {},
   "source": [
    "## Useful information: Movie Certificates\n",
    "\n",
    "The movie certificates given are mostly US certificates but there are different schemes in use for movies shown in cinema and on TV. There are a fair few certificates in use in the database, some of which relate to only a few titles:\n"
   ]
  },
  {
   "cell_type": "code",
   "execution_count": 9,
   "id": "a6e6529b",
   "metadata": {},
   "outputs": [
    {
     "data": {
      "text/plain": [
       "R            1885\n",
       "PG-13        1145\n",
       "PG            530\n",
       "None          296\n",
       "Not Rated     189\n",
       "TV-MA         109\n",
       "G              70\n",
       "Approved       42\n",
       "TV-14          35\n",
       "Passed         24\n",
       "NC-17          14\n",
       "TV-PG          13\n",
       "E              12\n",
       "(Banned)       10\n",
       "TV-G           10\n",
       "GP              6\n",
       "X               6\n",
       "TV-Y7           5\n",
       "M               3\n",
       "M/PG            2\n",
       "Name: Certificate, dtype: int64"
      ]
     },
     "execution_count": 9,
     "metadata": {},
     "output_type": "execute_result"
    }
   ],
   "source": [
    "movies['Certificate'].value_counts()"
   ]
  },
  {
   "cell_type": "markdown",
   "id": "9beeba7f",
   "metadata": {},
   "source": [
    "\n",
    "There are also some old (pre 1968) or international certificates mixed in there\n",
    "\n",
    "To meaningfully use these data (for example to answer the question, are movies rated 15 the worst?) it would be helpful to group these into a smaller set of classifications - for example the closest UK equivalent \n",
    "\n",
    "UK movie ratings are:\n",
    "<ul>\n",
    "    <li> U - Universal - suitable for all (including young children)\n",
    "    <li> PG - Parental Guidance - may be unsuitable for very young children\n",
    "    <li> 12,15,18 - Not suitable for persons under the age of 12,15 or 18 respectively\n",
    "</ul>\n",
    "\n",
    "Alternatively, to answer the question about straight-to-TV movies, you will want to separate out those with a certificate beginning 'TV' (only ever shown on TV) from the others\n",
    "\n",
    "The meaning of certificates should be Googlable but here are my notes on the certificates used in the dataset:\n",
    "\n",
    "<ul>\n",
    "<li>TV-Y: Designed to be appropriate for all children\n",
    "<li>TV-Y7: Suitable for ages 7 and up\n",
    "<li>G: Suitable for General Audiences\n",
    "<li>TV-G: Suitable for General Audiences\n",
    "<li>PG: Parental Guidance suggested\n",
    "<li>TV-PG: Parental Guidance suggested\n",
    "<li>PG-13: Parents strongly cautioned. May be Inappropriate for ages 12 and under.\n",
    "<li>TV-14: Parents strongly cautioned. May not be suitable for ages 14 and under.\n",
    "<li>R: Restricted. May be inappropriate for ages 17 and under.\n",
    "<li>TV-MA: For Mature Audiences. May not be suitable for ages 17 and under.\n",
    "<li>NC-17: Inappropriate for ages 17 and under\n",
    "<li>M - Mature\n",
    "<li>TV-Y7 - suitable for children over 7\n",
    "<li>banned/approved/passed - pre 1968 classifications\n",
    "</ul>\n",
    "\n",
    "In reclassifying the movies you may consider excluding some cases that don't clearly fall into one category or another, for example the pre-1968 movies. \n",
    "\n",
    "There are also some remaining mysteries, for example, one certificate I was not able to understand was 'E': Google tells me that 'E' stands for educational or exempt but if I look which movies have this rating, I'm not so sure this is correct:"
   ]
  },
  {
   "cell_type": "code",
   "execution_count": 10,
   "id": "071f7e6c",
   "metadata": {},
   "outputs": [
    {
     "data": {
      "text/html": [
       "<div>\n",
       "<style scoped>\n",
       "    .dataframe tbody tr th:only-of-type {\n",
       "        vertical-align: middle;\n",
       "    }\n",
       "\n",
       "    .dataframe tbody tr th {\n",
       "        vertical-align: top;\n",
       "    }\n",
       "\n",
       "    .dataframe thead th {\n",
       "        text-align: right;\n",
       "    }\n",
       "</style>\n",
       "<table border=\"1\" class=\"dataframe\">\n",
       "  <thead>\n",
       "    <tr style=\"text-align: right;\">\n",
       "      <th></th>\n",
       "      <th>Name</th>\n",
       "      <th>Date</th>\n",
       "      <th>Rating</th>\n",
       "      <th>Votes</th>\n",
       "      <th>Genre</th>\n",
       "      <th>Duration</th>\n",
       "      <th>Type</th>\n",
       "      <th>Certificate</th>\n",
       "      <th>Episodes</th>\n",
       "      <th>Nudity</th>\n",
       "      <th>Violence</th>\n",
       "      <th>Profanity</th>\n",
       "      <th>Alcohol</th>\n",
       "      <th>Frightening</th>\n",
       "    </tr>\n",
       "  </thead>\n",
       "  <tbody>\n",
       "    <tr>\n",
       "      <th>429</th>\n",
       "      <td>Luca</td>\n",
       "      <td>2021</td>\n",
       "      <td>7.5</td>\n",
       "      <td>112694.0</td>\n",
       "      <td>Animation, Adventure, Comedy</td>\n",
       "      <td>95.0</td>\n",
       "      <td>Film</td>\n",
       "      <td>E</td>\n",
       "      <td>NaN</td>\n",
       "      <td>None</td>\n",
       "      <td>Mild</td>\n",
       "      <td>None</td>\n",
       "      <td>None</td>\n",
       "      <td>Mild</td>\n",
       "    </tr>\n",
       "    <tr>\n",
       "      <th>521</th>\n",
       "      <td>Space Jam: A New Legacy</td>\n",
       "      <td>2021</td>\n",
       "      <td>4.4</td>\n",
       "      <td>56919.0</td>\n",
       "      <td>Animation, Adventure, Comedy</td>\n",
       "      <td>115.0</td>\n",
       "      <td>Film</td>\n",
       "      <td>E</td>\n",
       "      <td>NaN</td>\n",
       "      <td>None</td>\n",
       "      <td>Mild</td>\n",
       "      <td>Mild</td>\n",
       "      <td>Mild</td>\n",
       "      <td>Mild</td>\n",
       "    </tr>\n",
       "    <tr>\n",
       "      <th>526</th>\n",
       "      <td>Godzilla vs. Kong</td>\n",
       "      <td>2021</td>\n",
       "      <td>6.4</td>\n",
       "      <td>176046.0</td>\n",
       "      <td>Action, Sci-Fi, Thriller</td>\n",
       "      <td>113.0</td>\n",
       "      <td>Film</td>\n",
       "      <td>E</td>\n",
       "      <td>NaN</td>\n",
       "      <td>None</td>\n",
       "      <td>Moderate</td>\n",
       "      <td>Mild</td>\n",
       "      <td>Mild</td>\n",
       "      <td>Moderate</td>\n",
       "    </tr>\n",
       "    <tr>\n",
       "      <th>581</th>\n",
       "      <td>PAW Patrol: The Movie</td>\n",
       "      <td>2021</td>\n",
       "      <td>6.2</td>\n",
       "      <td>3898.0</td>\n",
       "      <td>Animation, Adventure, Comedy</td>\n",
       "      <td>86.0</td>\n",
       "      <td>Film</td>\n",
       "      <td>E</td>\n",
       "      <td>NaN</td>\n",
       "      <td>Mild</td>\n",
       "      <td>Mild</td>\n",
       "      <td>None</td>\n",
       "      <td>None</td>\n",
       "      <td>Mild</td>\n",
       "    </tr>\n",
       "    <tr>\n",
       "      <th>851</th>\n",
       "      <td>In the Heights</td>\n",
       "      <td>2021</td>\n",
       "      <td>7.4</td>\n",
       "      <td>35374.0</td>\n",
       "      <td>Drama, Musical, Romance</td>\n",
       "      <td>143.0</td>\n",
       "      <td>Film</td>\n",
       "      <td>E</td>\n",
       "      <td>NaN</td>\n",
       "      <td>Mild</td>\n",
       "      <td>None</td>\n",
       "      <td>Mild</td>\n",
       "      <td>Mild</td>\n",
       "      <td>None</td>\n",
       "    </tr>\n",
       "    <tr>\n",
       "      <th>872</th>\n",
       "      <td>The Boss Baby: Family Business</td>\n",
       "      <td>2021</td>\n",
       "      <td>5.9</td>\n",
       "      <td>11863.0</td>\n",
       "      <td>Animation, Adventure, Comedy</td>\n",
       "      <td>107.0</td>\n",
       "      <td>Film</td>\n",
       "      <td>E</td>\n",
       "      <td>NaN</td>\n",
       "      <td>Mild</td>\n",
       "      <td>Mild</td>\n",
       "      <td>Mild</td>\n",
       "      <td>None</td>\n",
       "      <td>Mild</td>\n",
       "    </tr>\n",
       "    <tr>\n",
       "      <th>1978</th>\n",
       "      <td>The Comeback Trail</td>\n",
       "      <td>2020</td>\n",
       "      <td>5.6</td>\n",
       "      <td>4961.0</td>\n",
       "      <td>Comedy, Crime</td>\n",
       "      <td>104.0</td>\n",
       "      <td>Film</td>\n",
       "      <td>E</td>\n",
       "      <td>NaN</td>\n",
       "      <td>Mild</td>\n",
       "      <td>Moderate</td>\n",
       "      <td>Moderate</td>\n",
       "      <td>Mild</td>\n",
       "      <td>Mild</td>\n",
       "    </tr>\n",
       "    <tr>\n",
       "      <th>2654</th>\n",
       "      <td>Peter Rabbit 2: The Runaway</td>\n",
       "      <td>2021</td>\n",
       "      <td>6.2</td>\n",
       "      <td>7310.0</td>\n",
       "      <td>Animation, Adventure, Comedy</td>\n",
       "      <td>93.0</td>\n",
       "      <td>Film</td>\n",
       "      <td>E</td>\n",
       "      <td>NaN</td>\n",
       "      <td>None</td>\n",
       "      <td>Mild</td>\n",
       "      <td>None</td>\n",
       "      <td>None</td>\n",
       "      <td>Mild</td>\n",
       "    </tr>\n",
       "    <tr>\n",
       "      <th>2877</th>\n",
       "      <td>Spirit Untamed</td>\n",
       "      <td>2021</td>\n",
       "      <td>5.4</td>\n",
       "      <td>2585.0</td>\n",
       "      <td>Animation, Adventure, Comedy</td>\n",
       "      <td>88.0</td>\n",
       "      <td>Film</td>\n",
       "      <td>E</td>\n",
       "      <td>NaN</td>\n",
       "      <td>None</td>\n",
       "      <td>Mild</td>\n",
       "      <td>Mild</td>\n",
       "      <td>None</td>\n",
       "      <td>Mild</td>\n",
       "    </tr>\n",
       "    <tr>\n",
       "      <th>3156</th>\n",
       "      <td>AINBO: Spirit of the Amazon</td>\n",
       "      <td>2021</td>\n",
       "      <td>4.7</td>\n",
       "      <td>933.0</td>\n",
       "      <td>Animation, Adventure, Comedy</td>\n",
       "      <td>84.0</td>\n",
       "      <td>Film</td>\n",
       "      <td>E</td>\n",
       "      <td>NaN</td>\n",
       "      <td>No Rate</td>\n",
       "      <td>No Rate</td>\n",
       "      <td>No Rate</td>\n",
       "      <td>No Rate</td>\n",
       "      <td>No Rate</td>\n",
       "    </tr>\n",
       "    <tr>\n",
       "      <th>4814</th>\n",
       "      <td>Dragon Rider</td>\n",
       "      <td>2020</td>\n",
       "      <td>5.6</td>\n",
       "      <td>1199.0</td>\n",
       "      <td>Animation, Adventure, Comedy</td>\n",
       "      <td>91.0</td>\n",
       "      <td>Film</td>\n",
       "      <td>E</td>\n",
       "      <td>NaN</td>\n",
       "      <td>None</td>\n",
       "      <td>Mild</td>\n",
       "      <td>Mild</td>\n",
       "      <td>Mild</td>\n",
       "      <td>Mild</td>\n",
       "    </tr>\n",
       "    <tr>\n",
       "      <th>5964</th>\n",
       "      <td>Dragon Rider</td>\n",
       "      <td>2020</td>\n",
       "      <td>5.6</td>\n",
       "      <td>1199.0</td>\n",
       "      <td>Animation, Adventure, Comedy</td>\n",
       "      <td>91.0</td>\n",
       "      <td>Film</td>\n",
       "      <td>E</td>\n",
       "      <td>NaN</td>\n",
       "      <td>None</td>\n",
       "      <td>Mild</td>\n",
       "      <td>Mild</td>\n",
       "      <td>Mild</td>\n",
       "      <td>Mild</td>\n",
       "    </tr>\n",
       "  </tbody>\n",
       "</table>\n",
       "</div>"
      ],
      "text/plain": [
       "                                Name  Date  ...  Alcohol  Frightening\n",
       "429                             Luca  2021  ...     None         Mild\n",
       "521          Space Jam: A New Legacy  2021  ...     Mild         Mild\n",
       "526                Godzilla vs. Kong  2021  ...     Mild     Moderate\n",
       "581            PAW Patrol: The Movie  2021  ...     None         Mild\n",
       "851                   In the Heights  2021  ...     Mild         None\n",
       "872   The Boss Baby: Family Business  2021  ...     None         Mild\n",
       "1978              The Comeback Trail  2020  ...     Mild         Mild\n",
       "2654     Peter Rabbit 2: The Runaway  2021  ...     None         Mild\n",
       "2877                  Spirit Untamed  2021  ...     None         Mild\n",
       "3156     AINBO: Spirit of the Amazon  2021  ...  No Rate      No Rate\n",
       "4814                    Dragon Rider  2020  ...     Mild         Mild\n",
       "5964                    Dragon Rider  2020  ...     Mild         Mild\n",
       "\n",
       "[12 rows x 14 columns]"
      ]
     },
     "execution_count": 10,
     "metadata": {},
     "output_type": "execute_result"
    }
   ],
   "source": [
    "movies[movies['Certificate']=='E']"
   ]
  },
  {
   "cell_type": "markdown",
   "id": "0f579ca1",
   "metadata": {},
   "source": [
    "You may find this example useful in creating a new column for UK classifications:"
   ]
  },
  {
   "cell_type": "code",
   "execution_count": 12,
   "id": "8a215669",
   "metadata": {},
   "outputs": [
    {
     "data": {
      "text/plain": [
       "array(['PG-13', 'R', 'TV-MA', 'None', 'PG', 'TV-PG', 'TV-14', 'Not Rated',\n",
       "       'TV-G', 'E', 'NC-17', '(Banned)', 'TV-Y7', nan, 'Approved', 'G',\n",
       "       'GP', 'Passed', 'M', 'X', 'M/PG'], dtype=object)"
      ]
     },
     "execution_count": 12,
     "metadata": {},
     "output_type": "execute_result"
    }
   ],
   "source": [
    "#first, create a new (empty) column\n",
    "movies['UK_classification'] = 'None'\n",
    "\n",
    "# np.isin to do a boolean check on every element of the array and see if it is in a different list (your list of interest)\n",
    "# use np.where to get booleans where that condition is met, assign a new value if true, or do nothing if not true\n",
    "movies['UK_classification'] = np.where(np.isin(movies.Certificate, ['G', 'TV-G', 'TV-Y', 'TV-7']), 'U', movies.classification)\n",
    "movies['UK_classification'] = np.where(np.isin(movies.Certificate, ['PG', 'TV-PG']), 'PG', movies.classification)\n",
    "\n",
    "\n",
    "#the syntax for this is:\n",
    "# np.where(set condition, do this if condition is met, otherwise do this)\n",
    "# np.isin(array_to_test, list of values you want to check if the element matches)\n",
    "\n",
    "#so the code is doing:\n",
    "# finding where the movie certificate is either G, TV-G, TV-Y or TV-7\n",
    "# setting the value of 'classification' to 'U' if that movie meets the condition\n",
    "# if not, it sets the value of 'classification' to itself (i.e. it does nothing)\n",
    "\n",
    "\n"
   ]
  }
 ],
 "metadata": {
  "kernelspec": {
   "display_name": "Python 3 (ipykernel)",
   "language": "python",
   "name": "python3"
  },
  "language_info": {
   "codemirror_mode": {
    "name": "ipython",
    "version": 3
   },
   "file_extension": ".py",
   "mimetype": "text/x-python",
   "name": "python",
   "nbconvert_exporter": "python",
   "pygments_lexer": "ipython3",
   "version": "3.9.13"
  }
 },
 "nbformat": 4,
 "nbformat_minor": 5
}
